{
 "cells": [
  {
   "cell_type": "code",
   "execution_count": 1,
   "metadata": {},
   "outputs": [],
   "source": [
    "import numpy as np\n",
    "import matplotlib.pylab as plt\n",
    "from lsst.sims.featureScheduler.utils import schema_converter\n",
    "from lsst.sims.utils import _angularSeparation\n",
    "import sys"
   ]
  },
  {
   "cell_type": "code",
   "execution_count": 2,
   "metadata": {},
   "outputs": [],
   "source": [
    "# OK, we have satellites at 550 km, circular orbits. inclination of 53 degrees. and 24 orbital planes with 66 sats each.\n",
    "# Orbital planes are 15 degrees apart. \n",
    "\n",
    "# Pumping things up to 40,000 satellites"
   ]
  },
  {
   "cell_type": "code",
   "execution_count": 3,
   "metadata": {},
   "outputs": [],
   "source": [
    "# So, let's compute the x,y,z positions of all the satellites at a given time. and then the x,y,z of the site.\n",
    "# rotate and translate so site is at 0,0 pointing up, and calc the alt az of all the sats"
   ]
  },
  {
   "cell_type": "code",
   "execution_count": null,
   "metadata": {},
   "outputs": [],
   "source": []
  },
  {
   "cell_type": "code",
   "execution_count": 4,
   "metadata": {},
   "outputs": [],
   "source": [
    "R_earth = 6.37e8  # cm\n",
    "r_orbit = R_earth + 550*100*1000  #cm\n",
    "G = 6.67e-8  #cgs\n",
    "M_earth = 5.98e27  #g\n",
    "lat_lsst = -0.527864360  # radians"
   ]
  },
  {
   "cell_type": "code",
   "execution_count": 5,
   "metadata": {},
   "outputs": [],
   "source": [
    "v_orbit = (G * M_earth/ r_orbit)**0.5  #cm/s\n",
    "v_orbit = v_orbit/(100 *1000)  # km/s\n",
    "p_orbit = 2.*np.pi * r_orbit / (v_orbit*100*1000) / (3600*24.)  # Days"
   ]
  },
  {
   "cell_type": "code",
   "execution_count": 6,
   "metadata": {},
   "outputs": [
    {
     "name": "stdout",
     "output_type": "stream",
     "text": [
      "7.5920745106803675 km/s 1.5908271720476583 hours\n"
     ]
    }
   ],
   "source": [
    "print(v_orbit,'km/s', p_orbit*24, 'hours')"
   ]
  },
  {
   "cell_type": "code",
   "execution_count": 7,
   "metadata": {},
   "outputs": [],
   "source": [
    "# Define all our rotation matricies\n",
    "def rot_x(x,y,z, theta):\n",
    "    sin_theta = np.sin(theta)\n",
    "    cos_theta = np.cos(theta)\n",
    "    \n",
    "    x_out = x\n",
    "    y_out = cos_theta*y-sin_theta*z\n",
    "    z_out = sin_theta*y+cos_theta*z\n",
    "    return x_out, y_out, z_out\n",
    "\n",
    "def rot_y(x,y,z, theta):\n",
    "    sin_theta = np.sin(theta)\n",
    "    cos_theta = np.cos(theta)\n",
    "    \n",
    "    x_out = cos_theta*x + sin_theta*z\n",
    "    y_out = y\n",
    "    z_out = -sin_theta*x + cos_theta*z\n",
    "    return x_out, y_out, z_out\n",
    "    \n",
    "def rot_z(x,y,z, theta):\n",
    "    sin_theta = np.sin(theta)\n",
    "    cos_theta = np.cos(theta)\n",
    "    \n",
    "    x_out = cos_theta*x-sin_theta*y\n",
    "    y_out = sin_theta*x+cos_theta*y\n",
    "    z_out = z\n",
    "    return x_out, y_out, z_out"
   ]
  },
  {
   "cell_type": "code",
   "execution_count": 8,
   "metadata": {},
   "outputs": [],
   "source": [
    "def generate_sat_xyz(delta_t, inclination=np.radians(75.), n_sats=420 , n_tilt=96 ):#n_sats=66, n_tilt=24):\n",
    "    \"\"\" Generate x,y,z positions of all the satellites at a given time\n",
    "    \"\"\"\n",
    "    \n",
    "    theta_start = np.arange(n_sats)/n_sats*2*np.pi\n",
    "    theta_start += delta_t/p_orbit*2*np.pi\n",
    "    x_start = r_orbit*np.cos(theta_start)\n",
    "    y_start = r_orbit*np.sin(theta_start)\n",
    "    z_start = np.zeros(y_start.size)\n",
    "    # now to incline the points\n",
    "    x_start, y_start, z_start = rot_y(x_start, y_start, z_start, inclination)\n",
    "    x = []\n",
    "    y = []\n",
    "    z = []\n",
    "    for rot_angle in np.radians(np.arange(0,n_tilt)*360./n_tilt):\n",
    "        x_new, y_new, z_new = rot_z(x_start, y_start, z_start, rot_angle)\n",
    "        x.append(x_new)\n",
    "        y.append(y_new)\n",
    "        z.append(z_new)\n",
    "    x = np.concatenate(x)\n",
    "    y = np.concatenate(y)\n",
    "    z = np.concatenate(z)\n",
    "    return x,y,z\n",
    "    "
   ]
  },
  {
   "cell_type": "code",
   "execution_count": 9,
   "metadata": {},
   "outputs": [],
   "source": [
    "\n",
    "x,y,z = generate_sat_xyz(0)"
   ]
  },
  {
   "cell_type": "code",
   "execution_count": 10,
   "metadata": {},
   "outputs": [],
   "source": [
    "from mpl_toolkits.mplot3d import Axes3D\n"
   ]
  },
  {
   "cell_type": "code",
   "execution_count": 11,
   "metadata": {},
   "outputs": [
    {
     "data": {
      "text/plain": [
       "<matplotlib.text.Text at 0x7fd7f856af98>"
      ]
     },
     "execution_count": 11,
     "metadata": {},
     "output_type": "execute_result"
    },
    {
     "data": {
      "image/png": "[encoded data removed]",
      "text/plain": [
       "<matplotlib.figure.Figure at 0x7fd7d99fab70>"
      ]
     },
     "metadata": {},
     "output_type": "display_data"
    }
   ],
   "source": [
    "fig = plt.figure()\n",
    "ax = fig.add_subplot(111, projection='3d')\n",
    "ax.scatter(x/R_earth,y/R_earth,z/R_earth, alpha=.1)\n",
    "ax.set_xlabel('x (R_e)')\n",
    "ax.set_ylabel('y (R_e)')\n",
    "ax.set_zlabel('z (R_e)')\n"
   ]
  },
  {
   "cell_type": "code",
   "execution_count": 12,
   "metadata": {},
   "outputs": [
    {
     "data": {
      "text/plain": [
       "(array([  6.92000000e+08,   6.92000000e+08,   6.92000000e+08, ...,\n",
       "          6.92000000e+08,   6.92000000e+08,   6.92000000e+08]), 692000000.0)"
      ]
     },
     "execution_count": 12,
     "metadata": {},
     "output_type": "execute_result"
    }
   ],
   "source": [
    "(x**2+y**2+z**2)**0.5, r_orbit"
   ]
  },
  {
   "cell_type": "code",
   "execution_count": 13,
   "metadata": {},
   "outputs": [
    {
     "data": {
      "text/plain": [
       "<matplotlib.text.Text at 0x7fd7d9cab400>"
      ]
     },
     "execution_count": 13,
     "metadata": {},
     "output_type": "execute_result"
    },
    {
     "data": {
      "image/png": "[encoded data removed]",
      "text/plain": [
       "<matplotlib.figure.Figure at 0x7fd7d99fa908>"
      ]
     },
     "metadata": {},
     "output_type": "display_data"
    }
   ],
   "source": [
    "x_new,y_new,z_new = rot_x(x,y,z, -np.pi/2)\n",
    "fig = plt.figure()\n",
    "ax = fig.add_subplot(111, projection='3d')\n",
    "ax.scatter(x_new,y_new,z_new, alpha=.3)\n",
    "ax.set_xlabel('x')"
   ]
  },
  {
   "cell_type": "code",
   "execution_count": 14,
   "metadata": {},
   "outputs": [
    {
     "data": {
      "text/plain": [
       "(array([  6.92000000e+08,   6.92000000e+08,   6.92000000e+08, ...,\n",
       "          6.92000000e+08,   6.92000000e+08,   6.92000000e+08]),\n",
       " 692000000.0,\n",
       " 668420671.79203522,\n",
       " 637000000.0)"
      ]
     },
     "execution_count": 14,
     "metadata": {},
     "output_type": "execute_result"
    }
   ],
   "source": [
    "(x**2+y**2+z**2)**0.5, r_orbit, z.max(), R_earth"
   ]
  },
  {
   "cell_type": "code",
   "execution_count": 15,
   "metadata": {},
   "outputs": [],
   "source": [
    "# ok, now the motion of the observatory is a circle with period 24hr - 4 min. \n",
    "# So we rotate the points around the z-axis by negative the LMST. Then around x(?) by -dec + 90 degrees. \n",
    "# Subtract the radius of earth from z. then convert points to alt, az. "
   ]
  },
  {
   "cell_type": "code",
   "execution_count": 16,
   "metadata": {},
   "outputs": [],
   "source": [
    "def xyx2altaz(x,y,z):\n",
    "    r = (x**2+y**2+z**2)**0.5\n",
    "    az = (np.arctan2(y, x) + np.pi)\n",
    "    alt = np.arcsin(z/r)\n",
    "    return alt, az"
   ]
  },
  {
   "cell_type": "code",
   "execution_count": 17,
   "metadata": {},
   "outputs": [],
   "source": [
    "def sats2altaz(x,y,z, lmst, latitude=lat_lsst):\n",
    "    x,y,z = rot_z(x,y,z, -lmst)\n",
    "    x,y,z = rot_y(x,y,z, latitude-np.pi/2.) # Need to double check if this should be positive or negative\n",
    "    z -= R_earth\n",
    "   \n",
    "    alt, az = xyx2altaz(x,y,z)\n",
    "    return alt, az\n",
    "    "
   ]
  },
  {
   "cell_type": "code",
   "execution_count": 18,
   "metadata": {},
   "outputs": [
    {
     "data": {
      "text/plain": [
       "(6.7391649468456597e-08, 1100589157.8760061, -641700479.63655424)"
      ]
     },
     "execution_count": 18,
     "metadata": {},
     "output_type": "execute_result"
    }
   ],
   "source": [
    "# ok, let's put an object at 2 earth radii, lmst=90 degrees, dec at lsst lat\n",
    "r_test = 2.*R_earth\n",
    "lmst = np.pi/2\n",
    "z_test = r_test*np.sin(lat_lsst)\n",
    "x_test = r_test*np.cos(lat_lsst)*np.cos(lmst)\n",
    "y_test =  r_test*np.cos(lat_lsst)*np.sin(lmst)\n",
    "x_test,y_test,z_test"
   ]
  },
  {
   "cell_type": "code",
   "execution_count": 19,
   "metadata": {},
   "outputs": [
    {
     "data": {
      "text/plain": [
       "(1.1920928955078125e-07, 0.0, 1274000000.0)"
      ]
     },
     "execution_count": 19,
     "metadata": {},
     "output_type": "execute_result"
    }
   ],
   "source": [
    "rot_y(*rot_z(x_test,y_test,z_test, -lmst), lat_lsst-np.pi/2)"
   ]
  },
  {
   "cell_type": "code",
   "execution_count": 20,
   "metadata": {},
   "outputs": [
    {
     "data": {
      "text/plain": [
       "array([  90.,  180.])"
      ]
     },
     "execution_count": 20,
     "metadata": {},
     "output_type": "execute_result"
    }
   ],
   "source": [
    "np.degrees(sats2altaz(x_test,y_test,z_test, lmst))"
   ]
  },
  {
   "cell_type": "code",
   "execution_count": 21,
   "metadata": {},
   "outputs": [],
   "source": [
    "alt,az = sats2altaz(x,y,z,0.)"
   ]
  },
  {
   "cell_type": "code",
   "execution_count": 22,
   "metadata": {},
   "outputs": [
    {
     "data": {
      "text/plain": [
       "<matplotlib.text.Text at 0x7fd7f9a24828>"
      ]
     },
     "execution_count": 22,
     "metadata": {},
     "output_type": "execute_result"
    },
    {
     "data": {
      "image/png": "[encoded data removed]",
      "text/plain": [
       "<matplotlib.figure.Figure at 0x7fd7f8bedac8>"
      ]
     },
     "metadata": {},
     "output_type": "display_data"
    }
   ],
   "source": [
    "plt.plot(np.degrees(az),np.degrees(alt), 'ko')\n",
    "plt.xlabel('azimuth (deg)')\n",
    "plt.ylabel('altitude (deg)')"
   ]
  },
  {
   "cell_type": "code",
   "execution_count": 23,
   "metadata": {},
   "outputs": [
    {
     "data": {
      "text/plain": [
       "<matplotlib.text.Text at 0x7fd7dafe0588>"
      ]
     },
     "execution_count": 23,
     "metadata": {},
     "output_type": "execute_result"
    },
    {
     "data": {
      "image/png": "[encoded data removed]",
      "text/plain": [
       "<matplotlib.figure.Figure at 0x7fd7daea2588>"
      ]
     },
     "metadata": {},
     "output_type": "display_data"
    }
   ],
   "source": [
    "alt,az = sats2altaz(x,y,z,np.radians(10.))\n",
    "plt.plot(np.degrees(az),np.degrees(alt), 'ko')\n",
    "plt.xlabel('azimuth (deg)')\n",
    "plt.ylabel('altitude (deg)')"
   ]
  },
  {
   "cell_type": "code",
   "execution_count": 24,
   "metadata": {},
   "outputs": [],
   "source": [
    "alt1, az1 = sats2altaz(x,y,z,np.radians(10.))\n",
    "alt2, az2 = sats2altaz(x,y,z,0)"
   ]
  },
  {
   "cell_type": "code",
   "execution_count": 25,
   "metadata": {},
   "outputs": [
    {
     "data": {
      "text/plain": [
       "[<matplotlib.lines.Line2D at 0x7fd7ea8c24e0>]"
      ]
     },
     "execution_count": 25,
     "metadata": {},
     "output_type": "execute_result"
    },
    {
     "data": {
      "image/png": "[encoded data removed]",
      "text/plain": [
       "<matplotlib.figure.Figure at 0x7fd7ea8c2400>"
      ]
     },
     "metadata": {},
     "output_type": "display_data"
    }
   ],
   "source": [
    "plt.plot(az1, alt1, 'o')\n",
    "plt.plot(az2, alt2, 'o')"
   ]
  },
  {
   "cell_type": "code",
   "execution_count": null,
   "metadata": {},
   "outputs": [],
   "source": []
  },
  {
   "cell_type": "code",
   "execution_count": 26,
   "metadata": {},
   "outputs": [],
   "source": [
    "sco = schema_converter()\n",
    "# Can grab from https://lsst-web.ncsa.illinois.edu/sim-data/sims_featureScheduler_runs/baselines/baseline_1exp_pairsmix_10yrs.db\n",
    "observations = sco.opsim2obs('baseline_1exp_pairsmix_10yrs.db')\n",
    "\n",
    "# Crop down to year 1 to speed things up\n",
    "observations = observations[np.where(observations['night'] < 367)]"
   ]
  },
  {
   "cell_type": "code",
   "execution_count": 27,
   "metadata": {},
   "outputs": [],
   "source": [
    "n_collisions = np.zeros(observations.size)\n",
    "n_sats_in_fov = np.zeros(observations.size)"
   ]
  },
  {
   "cell_type": "code",
   "execution_count": 28,
   "metadata": {},
   "outputs": [
    {
     "name": "stdout",
     "output_type": "stream",
     "text": [
      "progress= 100.0%"
     ]
    }
   ],
   "source": [
    "mjd0 = observations[0]['mjd']\n",
    "lmst = observations['lmst']/24.*2.*np.pi\n",
    "radius_collide = np.radians(1.75)\n",
    "exptime_offsets = [0, 0.5, 1.0]\n",
    "# Let's just assume the lmst and alt,az don't change much over the exposure time.\n",
    "i_max = np.size(observations)\n",
    "for i,obs in enumerate(observations):\n",
    "    sat_indx = []\n",
    "    for offset in exptime_offsets:\n",
    "        x,y,z = generate_sat_xyz(obs['mjd']-mjd0+obs['exptime']*offset)\n",
    "        alt, az = sats2altaz(x,y,z, lmst[i])\n",
    "        seperations = _angularSeparation(az, alt, obs['az'], obs['alt'])\n",
    "        collided= np.where(seperations < radius_collide)[0]\n",
    "        n_collisions[i] += collided.size\n",
    "        sat_indx.extend(collided.tolist())\n",
    "    n_sats_in_fov[i] = np.size(np.unique(sat_indx))\n",
    "    progress = i/i_max*100\n",
    "    text = \"\\rprogress= %.1f%%\" % progress \n",
    "    sys.stdout.write(text)\n",
    "    sys.stdout.flush()"
   ]
  },
  {
   "cell_type": "code",
   "execution_count": 29,
   "metadata": {},
   "outputs": [
    {
     "data": {
      "text/plain": [
       "[]"
      ]
     },
     "execution_count": 29,
     "metadata": {},
     "output_type": "execute_result"
    }
   ],
   "source": [
    "collided.tolist()"
   ]
  },
  {
   "cell_type": "code",
   "execution_count": 30,
   "metadata": {},
   "outputs": [
    {
     "data": {
      "text/plain": [
       "(6.0, 50939.0, 0.2228234481008893, 6.0)"
      ]
     },
     "execution_count": 30,
     "metadata": {},
     "output_type": "execute_result"
    }
   ],
   "source": [
    "n_collisions.max(), n_collisions.sum(), n_sats_in_fov.mean(), n_sats_in_fov.max()"
   ]
  },
  {
   "cell_type": "code",
   "execution_count": 31,
   "metadata": {},
   "outputs": [
    {
     "data": {
      "text/plain": [
       "26781"
      ]
     },
     "execution_count": 31,
     "metadata": {},
     "output_type": "execute_result"
    }
   ],
   "source": [
    "collide_indx = np.where(n_collisions > 0)[0]\n",
    "np.size(collide_indx)"
   ]
  },
  {
   "cell_type": "code",
   "execution_count": 32,
   "metadata": {},
   "outputs": [
    {
     "data": {
      "text/plain": [
       "array(['', 'DD:290', 'DD:COSMOS', 'DD:ECDFS', 'DD:ELAISS1', 'DD:XMM-LSS',\n",
       "       'DD:u,290', 'DD:u,COSMOS', 'DD:u,ECDFS', 'DD:u,ELAISS1',\n",
       "       'DD:u,XMM-LSS', 'blob, gr, a', 'blob, gr, b', 'blob, iz, a',\n",
       "       'blob, iz, b', 'blob, ri, a', 'blob, ri, b', 'blob, u', 'blob, y',\n",
       "       'blob, z'],\n",
       "      dtype='<U40')"
      ]
     },
     "execution_count": 32,
     "metadata": {},
     "output_type": "execute_result"
    }
   ],
   "source": [
    "np.unique(observations['note'][collide_indx])"
   ]
  },
  {
   "cell_type": "code",
   "execution_count": 33,
   "metadata": {},
   "outputs": [
    {
     "name": "stdout",
     "output_type": "stream",
     "text": [
      "fraction of observations hit= 0.1171486437423176\n"
     ]
    }
   ],
   "source": [
    "print('fraction of observations hit=', np.size(collide_indx)/np.size(observations))"
   ]
  },
  {
   "cell_type": "code",
   "execution_count": 34,
   "metadata": {},
   "outputs": [
    {
     "name": "stdout",
     "output_type": "stream",
     "text": [
      "survey name   N_obs   N_with_sat    frac_with_sat\n",
      " 27767 3464 0.1247524039327259\n",
      "DD:290 960 116 0.12083333333333333\n",
      "DD:COSMOS 2976 421 0.14146505376344087\n",
      "DD:ECDFS 2326 303 0.13026655202063628\n",
      "DD:ELAISS1 1848 155 0.08387445887445888\n",
      "DD:XMM-LSS 1728 188 0.1087962962962963\n",
      "DD:u,290 140 20 0.14285714285714285\n",
      "DD:u,COSMOS 259 43 0.16602316602316602\n",
      "DD:u,ECDFS 238 28 0.11764705882352941\n",
      "DD:u,ELAISS1 189 13 0.06878306878306878\n",
      "DD:u,XMM-LSS 175 20 0.11428571428571428\n",
      "blob, gr, a 13296 1439 0.10822803850782191\n",
      "blob, gr, b 13132 1450 0.11041730124885775\n",
      "blob, iz, a 2252 261 0.11589698046181172\n",
      "blob, iz, b 2210 237 0.10723981900452488\n",
      "blob, ri, a 27994 3207 0.11456026291348147\n",
      "blob, ri, b 27683 3003 0.10847812737058844\n",
      "blob, u 18666 2036 0.10907532411871852\n",
      "blob, y 43862 5183 0.11816606629884638\n",
      "blob, z 40906 5194 0.12697403803842958\n"
     ]
    }
   ],
   "source": [
    "print('survey name   N_obs   N_with_sat    frac_with_sat')\n",
    "for note in np.unique(observations['note'][collide_indx]):\n",
    "    col_indx = np.where((observations['note'] == note) & (n_collisions > 0))[0]\n",
    "    full_indx = np.where((observations['note'] == note))[0]\n",
    "    print(note, full_indx.size, col_indx.size, col_indx.size/full_indx.size)"
   ]
  },
  {
   "cell_type": "code",
   "execution_count": null,
   "metadata": {},
   "outputs": [],
   "source": []
  }
 ],
 "metadata": {
  "kernelspec": {
   "display_name": "Python 3",
   "language": "python",
   "name": "python3"
  },
  "language_info": {
   "codemirror_mode": {
    "name": "ipython",
    "version": 3
   },
   "file_extension": ".py",
   "mimetype": "text/x-python",
   "name": "python",
   "nbconvert_exporter": "python",
   "pygments_lexer": "ipython3",
   "version": "3.6.2"
  }
 },
 "nbformat": 4,
 "nbformat_minor": 2
}
