{
 "cells": [
  {
   "cell_type": "code",
   "execution_count": 7,
   "metadata": {},
   "outputs": [],
   "source": [
    "%matplotlib inline\n",
    "import numpy as np\n",
    "import matplotlib.pylab as plt\n",
    "import lsst.sims.skybrightness as sb\n",
    "import lsst.sims.photUtils.Bandpass as Bandpass\n",
    "import os"
   ]
  },
  {
   "cell_type": "code",
   "execution_count": null,
   "metadata": {},
   "outputs": [],
   "source": []
  },
  {
   "cell_type": "code",
   "execution_count": 4,
   "metadata": {},
   "outputs": [],
   "source": [
    "sm = sb.SkyModel()"
   ]
  },
  {
   "cell_type": "code",
   "execution_count": 5,
   "metadata": {},
   "outputs": [],
   "source": [
    "sm.setRaDecMjd(np.array([36.]),np.array([-68.]),49353.177645, degrees=True)"
   ]
  },
  {
   "cell_type": "code",
   "execution_count": 8,
   "metadata": {},
   "outputs": [
    {
     "name": "stdout",
     "output_type": "stream",
     "text": [
      "u 19.549206423507165\n",
      "g 18.99163733931751\n",
      "r 19.10816600259689\n",
      "i 19.115118870678305\n",
      "z 18.66835351090255\n",
      "y 17.710209247223762\n"
     ]
    }
   ],
   "source": [
    "throughPath = os.getenv('LSST_THROUGHPUTS_BASELINE')\n",
    "keys = ['u','g','r','i','z','y']\n",
    "filters = {}\n",
    "for filtername in keys:\n",
    "    bp = np.loadtxt(os.path.join(throughPath, 'filter_'+filtername+'.dat'),\n",
    "                    dtype=list(zip(['wave','trans'],[float]*2 )))\n",
    "    tempB = Bandpass()\n",
    "    tempB.setBandpass(bp['wave'],bp['trans'])\n",
    "    filters[filtername] = tempB\n",
    "for key in keys:\n",
    "    print(key, sm.returnMags({key: filters[key]})[key][0])"
   ]
  },
  {
   "cell_type": "code",
   "execution_count": 9,
   "metadata": {},
   "outputs": [
    {
     "name": "stdout",
     "output_type": "stream",
     "text": [
      "u 19.477591650440438\n",
      "g 18.99186812010201\n",
      "r 19.108811245527765\n",
      "i 19.09885571088568\n",
      "z 18.658612059943056\n",
      "y 18.044294459610406\n"
     ]
    }
   ],
   "source": [
    "throughPath = os.getenv('LSST_THROUGHPUTS_BASELINE')\n",
    "keys = ['u','g','r','i','z','y']\n",
    "filters = {}\n",
    "for filtername in keys:\n",
    "    bp = np.loadtxt(os.path.join(throughPath, 'total_'+filtername+'.dat'),\n",
    "                    dtype=list(zip(['wave','trans'],[float]*2 )))\n",
    "    tempB = Bandpass()\n",
    "    tempB.setBandpass(bp['wave'],bp['trans'])\n",
    "    filters[filtername] = tempB\n",
    "for key in keys:\n",
    "    print(key, sm.returnMags({key: filters[key]})[key][0])"
   ]
  },
  {
   "cell_type": "code",
   "execution_count": null,
   "metadata": {},
   "outputs": [],
   "source": []
  }
 ],
 "metadata": {
  "kernelspec": {
   "display_name": "Python 3",
   "language": "python",
   "name": "python3"
  },
  "language_info": {
   "codemirror_mode": {
    "name": "ipython",
    "version": 3
   },
   "file_extension": ".py",
   "mimetype": "text/x-python",
   "name": "python",
   "nbconvert_exporter": "python",
   "pygments_lexer": "ipython3",
   "version": "3.6.6"
  }
 },
 "nbformat": 4,
 "nbformat_minor": 2
}
