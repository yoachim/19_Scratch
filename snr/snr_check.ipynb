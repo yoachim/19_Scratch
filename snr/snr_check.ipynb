{
 "cells": [
  {
   "cell_type": "code",
   "execution_count": 1,
   "metadata": {},
   "outputs": [],
   "source": [
    "import numpy as np\n",
    "from lsst.sims.photUtils import PhotometricParameters\n",
    "from lsst.sims.photUtils import Bandpass, Sed, SignalToNoise\n",
    "import os\n",
    "from lsst.utils import getPackageDir\n"
   ]
  },
  {
   "cell_type": "code",
   "execution_count": 2,
   "metadata": {},
   "outputs": [],
   "source": [
    "def coadd_m5(m5s):\n",
    "    result = 1.25*np.log10(np.sum(10.**(0.8*m5s)))\n",
    "    return result"
   ]
  },
  {
   "cell_type": "code",
   "execution_count": 36,
   "metadata": {},
   "outputs": [],
   "source": [
    "def m52snr_gamma(m, m5, gamma=0.038):\n",
    "    flux_ratio = 10**(0.4*(m-m5))\n",
    "    snr = np.sqrt((0.04-gamma) * flux_ratio + gamma * flux_ratio * flux_ratio)\n",
    "    return 1./snr"
   ]
  },
  {
   "cell_type": "code",
   "execution_count": 4,
   "metadata": {},
   "outputs": [],
   "source": [
    "def m52snr(m, m5):\n",
    "    snr = 5.*10.**(-0.4*(m-m5))\n",
    "    return snr\n"
   ]
  },
  {
   "cell_type": "code",
   "execution_count": 5,
   "metadata": {},
   "outputs": [],
   "source": [
    "import lsst.syseng.throughputs as st"
   ]
  },
  {
   "cell_type": "code",
   "execution_count": 6,
   "metadata": {},
   "outputs": [],
   "source": [
    "defaultDirs = st.setDefaultDirs()"
   ]
  },
  {
   "cell_type": "code",
   "execution_count": 7,
   "metadata": {},
   "outputs": [],
   "source": [
    "atmos = st.readAtmosphere(defaultDirs['atmosphere'], atmosFile='pachonModtranAtm_12_aerosol.dat')\n",
    "hardware, system = st.buildHardwareAndSystem(defaultDirs, addLosses=True, \n",
    "                                             atmosphereOverride=None, shiftFilters=None)"
   ]
  },
  {
   "cell_type": "code",
   "execution_count": 8,
   "metadata": {},
   "outputs": [],
   "source": [
    "atmos = st.readAtmosphere(defaultDirs['atmosphere'], atmosFile='atmos_10_aerosol.dat')\n",
    "hardware, system = st.buildHardwareAndSystem(defaultDirs, addLosses=True, \n",
    "                                             atmosphereOverride=atmos, shiftFilters=None)"
   ]
  },
  {
   "cell_type": "code",
   "execution_count": 45,
   "metadata": {},
   "outputs": [
    {
     "data": {
      "text/plain": [
       "u    23.377110\n",
       "g    24.422912\n",
       "r    23.969605\n",
       "i    23.537553\n",
       "z    22.958897\n",
       "y    22.066503\n",
       "Name: m5, dtype: float64"
      ]
     },
     "execution_count": 45,
     "metadata": {},
     "output_type": "execute_result"
    }
   ],
   "source": [
    "m5info = st.makeM5(hardware, system, X=1.0, exptime=15., nexp=1)\n",
    "u_1exp = m5info['m5'][0]\n",
    "m=20.\n",
    "snr1 = m52snr(m, m5info['m5'][0])\n",
    "m5info['m5']\n"
   ]
  },
  {
   "cell_type": "code",
   "execution_count": 10,
   "metadata": {},
   "outputs": [
    {
     "data": {
      "text/plain": [
       "u    23.764100\n",
       "g    24.806430\n",
       "r    24.351669\n",
       "i    23.919008\n",
       "z    23.339608\n",
       "y    22.446767\n",
       "Name: m5, dtype: float64"
      ]
     },
     "execution_count": 10,
     "metadata": {},
     "output_type": "execute_result"
    }
   ],
   "source": [
    "m5info = st.makeM5(hardware, system, X=1.0, exptime=15., nexp=2)\n",
    "snr2 = m52snr(m, m5info['m5'][0])\n",
    "m5info['m5']"
   ]
  },
  {
   "cell_type": "code",
   "execution_count": 11,
   "metadata": {},
   "outputs": [
    {
     "data": {
      "text/plain": [
       "23.753397940691482"
      ]
     },
     "execution_count": 11,
     "metadata": {},
     "output_type": "execute_result"
    }
   ],
   "source": [
    "coadd_m5(np.array([u_1exp, u_1exp]))"
   ]
  },
  {
   "cell_type": "code",
   "execution_count": 12,
   "metadata": {},
   "outputs": [
    {
     "data": {
      "text/plain": [
       "(112.15384902177257, 160.18063506374244)"
      ]
     },
     "execution_count": 12,
     "metadata": {},
     "output_type": "execute_result"
    }
   ],
   "source": [
    "snr1, snr2"
   ]
  },
  {
   "cell_type": "code",
   "execution_count": 13,
   "metadata": {},
   "outputs": [
    {
     "data": {
      "text/plain": [
       "158.60949435893525"
      ]
     },
     "execution_count": 13,
     "metadata": {},
     "output_type": "execute_result"
    }
   ],
   "source": [
    "snr1*np.sqrt(2)"
   ]
  },
  {
   "cell_type": "code",
   "execution_count": 14,
   "metadata": {},
   "outputs": [
    {
     "data": {
      "text/plain": [
       "u    24.395532\n",
       "g    24.985710\n",
       "r    24.448727\n",
       "i    23.989584\n",
       "z    23.387838\n",
       "y    22.483414\n",
       "Name: m5, dtype: float64"
      ]
     },
     "execution_count": 14,
     "metadata": {},
     "output_type": "execute_result"
    }
   ],
   "source": [
    "m5info = st.makeM5(hardware, system, X=1.0, exptime=30., nexp=1, readnoise=0, darkcurrent=0)\n",
    "m5info['m5']\n"
   ]
  },
  {
   "cell_type": "code",
   "execution_count": 15,
   "metadata": {},
   "outputs": [
    {
     "data": {
      "text/plain": [
       "u    23.999740\n",
       "g    24.600868\n",
       "r    24.066116\n",
       "i    23.607777\n",
       "z    23.006924\n",
       "y    22.103013\n",
       "Name: m5, dtype: float64"
      ]
     },
     "execution_count": 15,
     "metadata": {},
     "output_type": "execute_result"
    }
   ],
   "source": [
    "m5info = st.makeM5(hardware, system, X=1.0, exptime=15., nexp=1, readnoise=0, darkcurrent=0)\n",
    "u_1exp = m5info['m5'][0]\n",
    "m5info['m5']\n"
   ]
  },
  {
   "cell_type": "code",
   "execution_count": 16,
   "metadata": {},
   "outputs": [
    {
     "data": {
      "text/plain": [
       "u    24.395532\n",
       "g    24.985710\n",
       "r    24.448727\n",
       "i    23.989584\n",
       "z    23.387838\n",
       "y    22.483414\n",
       "Name: m5, dtype: float64"
      ]
     },
     "execution_count": 16,
     "metadata": {},
     "output_type": "execute_result"
    }
   ],
   "source": [
    "m5info = st.makeM5(hardware, system, X=1.0, exptime=15., nexp=2, readnoise=0, darkcurrent=0)\n",
    "m5info['m5']\n"
   ]
  },
  {
   "cell_type": "code",
   "execution_count": 17,
   "metadata": {},
   "outputs": [
    {
     "data": {
      "text/plain": [
       "24.376027640833001"
      ]
     },
     "execution_count": 17,
     "metadata": {},
     "output_type": "execute_result"
    }
   ],
   "source": [
    "coadd_m5(np.array([u_1exp, u_1exp]))"
   ]
  },
  {
   "cell_type": "code",
   "execution_count": 18,
   "metadata": {},
   "outputs": [],
   "source": [
    "## sanity check\n",
    "m5 = 24\n",
    "m=20\n",
    "snr1 = m52snr(m, m5)\n",
    "# The SNR expected from coadding 2 exposures\n",
    "snr2 = m52snr(m, coadd_m5(np.array([m5,m5])))"
   ]
  },
  {
   "cell_type": "code",
   "execution_count": 19,
   "metadata": {},
   "outputs": [
    {
     "data": {
      "text/plain": [
       "(199.05358527674866, 281.50427993736827)"
      ]
     },
     "execution_count": 19,
     "metadata": {},
     "output_type": "execute_result"
    }
   ],
   "source": [
    "snr1, snr2"
   ]
  },
  {
   "cell_type": "code",
   "execution_count": 20,
   "metadata": {},
   "outputs": [
    {
     "data": {
      "text/plain": [
       "281.50427993736741"
      ]
     },
     "execution_count": 20,
     "metadata": {},
     "output_type": "execute_result"
    }
   ],
   "source": [
    "snr1*np.sqrt(2)"
   ]
  },
  {
   "cell_type": "code",
   "execution_count": 21,
   "metadata": {},
   "outputs": [
    {
     "data": {
      "text/html": [
       "<div>\n",
       "<style scoped>\n",
       "    .dataframe tbody tr th:only-of-type {\n",
       "        vertical-align: middle;\n",
       "    }\n",
       "\n",
       "    .dataframe tbody tr th {\n",
       "        vertical-align: top;\n",
       "    }\n",
       "\n",
       "    .dataframe thead th {\n",
       "        text-align: right;\n",
       "    }\n",
       "</style>\n",
       "<table border=\"1\" class=\"dataframe\">\n",
       "  <thead>\n",
       "    <tr style=\"text-align: right;\">\n",
       "      <th></th>\n",
       "      <th>FWHMeff</th>\n",
       "      <th>FWHMgeom</th>\n",
       "      <th>skyMag</th>\n",
       "      <th>skyCounts</th>\n",
       "      <th>Zp_t</th>\n",
       "      <th>Tb</th>\n",
       "      <th>Sb</th>\n",
       "      <th>kAtm</th>\n",
       "      <th>gamma</th>\n",
       "      <th>Cm</th>\n",
       "      <th>dCm_infinity</th>\n",
       "      <th>dCm_double</th>\n",
       "      <th>m5</th>\n",
       "      <th>sourceCounts</th>\n",
       "      <th>m5_fid</th>\n",
       "      <th>m5_min</th>\n",
       "    </tr>\n",
       "  </thead>\n",
       "  <tbody>\n",
       "    <tr>\n",
       "      <th>u</th>\n",
       "      <td>0.92</td>\n",
       "      <td>0.80824</td>\n",
       "      <td>22.988641</td>\n",
       "      <td>34.553585</td>\n",
       "      <td>26.897666</td>\n",
       "      <td>0.032339</td>\n",
       "      <td>0.050870</td>\n",
       "      <td>0.491829</td>\n",
       "      <td>0.037396</td>\n",
       "      <td>23.055802</td>\n",
       "      <td>0.622630</td>\n",
       "      <td>0.394941</td>\n",
       "      <td>23.377110</td>\n",
       "      <td>383.984415</td>\n",
       "      <td>23.9</td>\n",
       "      <td>23.4</td>\n",
       "    </tr>\n",
       "    <tr>\n",
       "      <th>g</th>\n",
       "      <td>0.87</td>\n",
       "      <td>0.76714</td>\n",
       "      <td>22.256461</td>\n",
       "      <td>201.340544</td>\n",
       "      <td>28.357487</td>\n",
       "      <td>0.124068</td>\n",
       "      <td>0.151018</td>\n",
       "      <td>0.213424</td>\n",
       "      <td>0.038221</td>\n",
       "      <td>24.407022</td>\n",
       "      <td>0.177957</td>\n",
       "      <td>0.091819</td>\n",
       "      <td>24.422912</td>\n",
       "      <td>562.239590</td>\n",
       "      <td>25.0</td>\n",
       "      <td>24.6</td>\n",
       "    </tr>\n",
       "    <tr>\n",
       "      <th>r</th>\n",
       "      <td>0.83</td>\n",
       "      <td>0.73426</td>\n",
       "      <td>21.196219</td>\n",
       "      <td>404.863219</td>\n",
       "      <td>28.143236</td>\n",
       "      <td>0.101849</td>\n",
       "      <td>0.114369</td>\n",
       "      <td>0.125876</td>\n",
       "      <td>0.038573</td>\n",
       "      <td>24.432733</td>\n",
       "      <td>0.096511</td>\n",
       "      <td>0.046188</td>\n",
       "      <td>23.969605</td>\n",
       "      <td>700.718410</td>\n",
       "      <td>24.7</td>\n",
       "      <td>24.3</td>\n",
       "    </tr>\n",
       "    <tr>\n",
       "      <th>i</th>\n",
       "      <td>0.80</td>\n",
       "      <td>0.70960</td>\n",
       "      <td>20.477858</td>\n",
       "      <td>572.055222</td>\n",
       "      <td>27.829843</td>\n",
       "      <td>0.076313</td>\n",
       "      <td>0.083386</td>\n",
       "      <td>0.096232</td>\n",
       "      <td>0.038721</td>\n",
       "      <td>24.319891</td>\n",
       "      <td>0.070224</td>\n",
       "      <td>0.032234</td>\n",
       "      <td>23.537553</td>\n",
       "      <td>781.641027</td>\n",
       "      <td>24.0</td>\n",
       "      <td>23.6</td>\n",
       "    </tr>\n",
       "    <tr>\n",
       "      <th>z</th>\n",
       "      <td>0.78</td>\n",
       "      <td>0.69316</td>\n",
       "      <td>19.599677</td>\n",
       "      <td>856.684655</td>\n",
       "      <td>27.417680</td>\n",
       "      <td>0.052208</td>\n",
       "      <td>0.055617</td>\n",
       "      <td>0.068671</td>\n",
       "      <td>0.038903</td>\n",
       "      <td>24.152838</td>\n",
       "      <td>0.048027</td>\n",
       "      <td>0.020925</td>\n",
       "      <td>22.958897</td>\n",
       "      <td>911.180382</td>\n",
       "      <td>23.3</td>\n",
       "      <td>22.9</td>\n",
       "    </tr>\n",
       "    <tr>\n",
       "      <th>y</th>\n",
       "      <td>0.76</td>\n",
       "      <td>0.67672</td>\n",
       "      <td>18.611811</td>\n",
       "      <td>1141.115493</td>\n",
       "      <td>26.639452</td>\n",
       "      <td>0.025494</td>\n",
       "      <td>0.029824</td>\n",
       "      <td>0.170304</td>\n",
       "      <td>0.039012</td>\n",
       "      <td>23.726175</td>\n",
       "      <td>0.036509</td>\n",
       "      <td>0.015203</td>\n",
       "      <td>22.066503</td>\n",
       "      <td>1012.210160</td>\n",
       "      <td>22.1</td>\n",
       "      <td>21.7</td>\n",
       "    </tr>\n",
       "  </tbody>\n",
       "</table>\n",
       "</div>"
      ],
      "text/plain": [
       "   FWHMeff  FWHMgeom     skyMag    skyCounts       Zp_t        Tb        Sb  \\\n",
       "u     0.92   0.80824  22.988641    34.553585  26.897666  0.032339  0.050870   \n",
       "g     0.87   0.76714  22.256461   201.340544  28.357487  0.124068  0.151018   \n",
       "r     0.83   0.73426  21.196219   404.863219  28.143236  0.101849  0.114369   \n",
       "i     0.80   0.70960  20.477858   572.055222  27.829843  0.076313  0.083386   \n",
       "z     0.78   0.69316  19.599677   856.684655  27.417680  0.052208  0.055617   \n",
       "y     0.76   0.67672  18.611811  1141.115493  26.639452  0.025494  0.029824   \n",
       "\n",
       "       kAtm     gamma         Cm  dCm_infinity  dCm_double         m5  \\\n",
       "u  0.491829  0.037396  23.055802      0.622630    0.394941  23.377110   \n",
       "g  0.213424  0.038221  24.407022      0.177957    0.091819  24.422912   \n",
       "r  0.125876  0.038573  24.432733      0.096511    0.046188  23.969605   \n",
       "i  0.096232  0.038721  24.319891      0.070224    0.032234  23.537553   \n",
       "z  0.068671  0.038903  24.152838      0.048027    0.020925  22.958897   \n",
       "y  0.170304  0.039012  23.726175      0.036509    0.015203  22.066503   \n",
       "\n",
       "   sourceCounts  m5_fid  m5_min  \n",
       "u    383.984415    23.9    23.4  \n",
       "g    562.239590    25.0    24.6  \n",
       "r    700.718410    24.7    24.3  \n",
       "i    781.641027    24.0    23.6  \n",
       "z    911.180382    23.3    22.9  \n",
       "y   1012.210160    22.1    21.7  "
      ]
     },
     "execution_count": 21,
     "metadata": {},
     "output_type": "execute_result"
    }
   ],
   "source": [
    "m5info = st.makeM5(hardware, system, X=1.0, exptime=15., nexp=1)\n",
    "m5info"
   ]
  },
  {
   "cell_type": "code",
   "execution_count": 22,
   "metadata": {},
   "outputs": [
    {
     "data": {
      "text/html": [
       "<div>\n",
       "<style scoped>\n",
       "    .dataframe tbody tr th:only-of-type {\n",
       "        vertical-align: middle;\n",
       "    }\n",
       "\n",
       "    .dataframe tbody tr th {\n",
       "        vertical-align: top;\n",
       "    }\n",
       "\n",
       "    .dataframe thead th {\n",
       "        text-align: right;\n",
       "    }\n",
       "</style>\n",
       "<table border=\"1\" class=\"dataframe\">\n",
       "  <thead>\n",
       "    <tr style=\"text-align: right;\">\n",
       "      <th></th>\n",
       "      <th>FWHMeff</th>\n",
       "      <th>FWHMgeom</th>\n",
       "      <th>skyMag</th>\n",
       "      <th>skyCounts</th>\n",
       "      <th>Zp_t</th>\n",
       "      <th>Tb</th>\n",
       "      <th>Sb</th>\n",
       "      <th>kAtm</th>\n",
       "      <th>gamma</th>\n",
       "      <th>Cm</th>\n",
       "      <th>dCm_infinity</th>\n",
       "      <th>dCm_double</th>\n",
       "      <th>m5</th>\n",
       "      <th>sourceCounts</th>\n",
       "      <th>m5_fid</th>\n",
       "      <th>m5_min</th>\n",
       "    </tr>\n",
       "  </thead>\n",
       "  <tbody>\n",
       "    <tr>\n",
       "      <th>u</th>\n",
       "      <td>0.92</td>\n",
       "      <td>0.80824</td>\n",
       "      <td>22.988641</td>\n",
       "      <td>69.107171</td>\n",
       "      <td>26.897666</td>\n",
       "      <td>0.032339</td>\n",
       "      <td>0.050870</td>\n",
       "      <td>0.491829</td>\n",
       "      <td>0.038140</td>\n",
       "      <td>23.066504</td>\n",
       "      <td>0.631432</td>\n",
       "      <td>0.405153</td>\n",
       "      <td>23.764100</td>\n",
       "      <td>537.709569</td>\n",
       "      <td>23.9</td>\n",
       "      <td>23.4</td>\n",
       "    </tr>\n",
       "    <tr>\n",
       "      <th>g</th>\n",
       "      <td>0.87</td>\n",
       "      <td>0.76714</td>\n",
       "      <td>22.256461</td>\n",
       "      <td>402.681088</td>\n",
       "      <td>28.357487</td>\n",
       "      <td>0.124068</td>\n",
       "      <td>0.151018</td>\n",
       "      <td>0.213424</td>\n",
       "      <td>0.038734</td>\n",
       "      <td>24.414253</td>\n",
       "      <td>0.179280</td>\n",
       "      <td>0.094867</td>\n",
       "      <td>24.806430</td>\n",
       "      <td>789.848688</td>\n",
       "      <td>25.0</td>\n",
       "      <td>24.6</td>\n",
       "    </tr>\n",
       "    <tr>\n",
       "      <th>r</th>\n",
       "      <td>0.83</td>\n",
       "      <td>0.73426</td>\n",
       "      <td>21.196219</td>\n",
       "      <td>809.726438</td>\n",
       "      <td>28.143236</td>\n",
       "      <td>0.101849</td>\n",
       "      <td>0.114369</td>\n",
       "      <td>0.125876</td>\n",
       "      <td>0.038986</td>\n",
       "      <td>24.438509</td>\n",
       "      <td>0.097058</td>\n",
       "      <td>0.048254</td>\n",
       "      <td>24.351669</td>\n",
       "      <td>985.707537</td>\n",
       "      <td>24.7</td>\n",
       "      <td>24.3</td>\n",
       "    </tr>\n",
       "    <tr>\n",
       "      <th>i</th>\n",
       "      <td>0.80</td>\n",
       "      <td>0.70960</td>\n",
       "      <td>20.477858</td>\n",
       "      <td>1144.110445</td>\n",
       "      <td>27.829843</td>\n",
       "      <td>0.076313</td>\n",
       "      <td>0.083386</td>\n",
       "      <td>0.096232</td>\n",
       "      <td>0.039091</td>\n",
       "      <td>24.325059</td>\n",
       "      <td>0.070576</td>\n",
       "      <td>0.033985</td>\n",
       "      <td>23.919008</td>\n",
       "      <td>1100.157846</td>\n",
       "      <td>24.0</td>\n",
       "      <td>23.6</td>\n",
       "    </tr>\n",
       "    <tr>\n",
       "      <th>z</th>\n",
       "      <td>0.78</td>\n",
       "      <td>0.69316</td>\n",
       "      <td>19.599677</td>\n",
       "      <td>1713.369310</td>\n",
       "      <td>27.417680</td>\n",
       "      <td>0.052208</td>\n",
       "      <td>0.055617</td>\n",
       "      <td>0.068671</td>\n",
       "      <td>0.039221</td>\n",
       "      <td>24.157261</td>\n",
       "      <td>0.048230</td>\n",
       "      <td>0.022357</td>\n",
       "      <td>23.339608</td>\n",
       "      <td>1283.364512</td>\n",
       "      <td>23.3</td>\n",
       "      <td>22.9</td>\n",
       "    </tr>\n",
       "    <tr>\n",
       "      <th>y</th>\n",
       "      <td>0.76</td>\n",
       "      <td>0.67672</td>\n",
       "      <td>18.611811</td>\n",
       "      <td>2282.230987</td>\n",
       "      <td>26.639452</td>\n",
       "      <td>0.025494</td>\n",
       "      <td>0.029824</td>\n",
       "      <td>0.170304</td>\n",
       "      <td>0.039299</td>\n",
       "      <td>23.730151</td>\n",
       "      <td>0.036647</td>\n",
       "      <td>0.016459</td>\n",
       "      <td>22.446767</td>\n",
       "      <td>1426.248407</td>\n",
       "      <td>22.1</td>\n",
       "      <td>21.7</td>\n",
       "    </tr>\n",
       "  </tbody>\n",
       "</table>\n",
       "</div>"
      ],
      "text/plain": [
       "   FWHMeff  FWHMgeom     skyMag    skyCounts       Zp_t        Tb        Sb  \\\n",
       "u     0.92   0.80824  22.988641    69.107171  26.897666  0.032339  0.050870   \n",
       "g     0.87   0.76714  22.256461   402.681088  28.357487  0.124068  0.151018   \n",
       "r     0.83   0.73426  21.196219   809.726438  28.143236  0.101849  0.114369   \n",
       "i     0.80   0.70960  20.477858  1144.110445  27.829843  0.076313  0.083386   \n",
       "z     0.78   0.69316  19.599677  1713.369310  27.417680  0.052208  0.055617   \n",
       "y     0.76   0.67672  18.611811  2282.230987  26.639452  0.025494  0.029824   \n",
       "\n",
       "       kAtm     gamma         Cm  dCm_infinity  dCm_double         m5  \\\n",
       "u  0.491829  0.038140  23.066504      0.631432    0.405153  23.764100   \n",
       "g  0.213424  0.038734  24.414253      0.179280    0.094867  24.806430   \n",
       "r  0.125876  0.038986  24.438509      0.097058    0.048254  24.351669   \n",
       "i  0.096232  0.039091  24.325059      0.070576    0.033985  23.919008   \n",
       "z  0.068671  0.039221  24.157261      0.048230    0.022357  23.339608   \n",
       "y  0.170304  0.039299  23.730151      0.036647    0.016459  22.446767   \n",
       "\n",
       "   sourceCounts  m5_fid  m5_min  \n",
       "u    537.709569    23.9    23.4  \n",
       "g    789.848688    25.0    24.6  \n",
       "r    985.707537    24.7    24.3  \n",
       "i   1100.157846    24.0    23.6  \n",
       "z   1283.364512    23.3    22.9  \n",
       "y   1426.248407    22.1    21.7  "
      ]
     },
     "execution_count": 22,
     "metadata": {},
     "output_type": "execute_result"
    }
   ],
   "source": [
    "m5info = st.makeM5(hardware, system, X=1.0, exptime=15., nexp=2)\n",
    "m5info"
   ]
  },
  {
   "cell_type": "code",
   "execution_count": 23,
   "metadata": {},
   "outputs": [
    {
     "data": {
      "text/html": [
       "<div>\n",
       "<style scoped>\n",
       "    .dataframe tbody tr th:only-of-type {\n",
       "        vertical-align: middle;\n",
       "    }\n",
       "\n",
       "    .dataframe tbody tr th {\n",
       "        vertical-align: top;\n",
       "    }\n",
       "\n",
       "    .dataframe thead th {\n",
       "        text-align: right;\n",
       "    }\n",
       "</style>\n",
       "<table border=\"1\" class=\"dataframe\">\n",
       "  <thead>\n",
       "    <tr style=\"text-align: right;\">\n",
       "      <th></th>\n",
       "      <th>FWHMeff</th>\n",
       "      <th>FWHMgeom</th>\n",
       "      <th>skyMag</th>\n",
       "      <th>skyCounts</th>\n",
       "      <th>Zp_t</th>\n",
       "      <th>Tb</th>\n",
       "      <th>Sb</th>\n",
       "      <th>kAtm</th>\n",
       "      <th>gamma</th>\n",
       "      <th>Cm</th>\n",
       "      <th>dCm_infinity</th>\n",
       "      <th>dCm_double</th>\n",
       "      <th>m5</th>\n",
       "      <th>sourceCounts</th>\n",
       "      <th>m5_fid</th>\n",
       "      <th>m5_min</th>\n",
       "    </tr>\n",
       "  </thead>\n",
       "  <tbody>\n",
       "    <tr>\n",
       "      <th>u</th>\n",
       "      <td>0.92</td>\n",
       "      <td>0.80824</td>\n",
       "      <td>22.988641</td>\n",
       "      <td>69.107171</td>\n",
       "      <td>26.897666</td>\n",
       "      <td>0.032339</td>\n",
       "      <td>0.050870</td>\n",
       "      <td>0.491829</td>\n",
       "      <td>0.037729</td>\n",
       "      <td>23.283491</td>\n",
       "      <td>0.414446</td>\n",
       "      <td>0.249742</td>\n",
       "      <td>23.981087</td>\n",
       "      <td>440.304487</td>\n",
       "      <td>23.9</td>\n",
       "      <td>23.4</td>\n",
       "    </tr>\n",
       "    <tr>\n",
       "      <th>g</th>\n",
       "      <td>0.87</td>\n",
       "      <td>0.76714</td>\n",
       "      <td>22.256461</td>\n",
       "      <td>402.681088</td>\n",
       "      <td>28.357487</td>\n",
       "      <td>0.124068</td>\n",
       "      <td>0.151018</td>\n",
       "      <td>0.213424</td>\n",
       "      <td>0.038638</td>\n",
       "      <td>24.493159</td>\n",
       "      <td>0.100373</td>\n",
       "      <td>0.050371</td>\n",
       "      <td>24.885337</td>\n",
       "      <td>734.482292</td>\n",
       "      <td>25.0</td>\n",
       "      <td>24.6</td>\n",
       "    </tr>\n",
       "    <tr>\n",
       "      <th>r</th>\n",
       "      <td>0.83</td>\n",
       "      <td>0.73426</td>\n",
       "      <td>21.196219</td>\n",
       "      <td>809.726438</td>\n",
       "      <td>28.143236</td>\n",
       "      <td>0.101849</td>\n",
       "      <td>0.114369</td>\n",
       "      <td>0.125876</td>\n",
       "      <td>0.038943</td>\n",
       "      <td>24.483056</td>\n",
       "      <td>0.052512</td>\n",
       "      <td>0.024425</td>\n",
       "      <td>24.396215</td>\n",
       "      <td>946.083535</td>\n",
       "      <td>24.7</td>\n",
       "      <td>24.3</td>\n",
       "    </tr>\n",
       "    <tr>\n",
       "      <th>i</th>\n",
       "      <td>0.80</td>\n",
       "      <td>0.70960</td>\n",
       "      <td>20.477858</td>\n",
       "      <td>1144.110445</td>\n",
       "      <td>27.829843</td>\n",
       "      <td>0.076313</td>\n",
       "      <td>0.083386</td>\n",
       "      <td>0.096232</td>\n",
       "      <td>0.039063</td>\n",
       "      <td>24.357882</td>\n",
       "      <td>0.037753</td>\n",
       "      <td>0.016733</td>\n",
       "      <td>23.951831</td>\n",
       "      <td>1067.397139</td>\n",
       "      <td>24.0</td>\n",
       "      <td>23.6</td>\n",
       "    </tr>\n",
       "    <tr>\n",
       "      <th>z</th>\n",
       "      <td>0.78</td>\n",
       "      <td>0.69316</td>\n",
       "      <td>19.599677</td>\n",
       "      <td>1713.369310</td>\n",
       "      <td>27.417680</td>\n",
       "      <td>0.052208</td>\n",
       "      <td>0.055617</td>\n",
       "      <td>0.068671</td>\n",
       "      <td>0.039204</td>\n",
       "      <td>24.179940</td>\n",
       "      <td>0.025551</td>\n",
       "      <td>0.010615</td>\n",
       "      <td>23.362287</td>\n",
       "      <td>1256.835447</td>\n",
       "      <td>23.3</td>\n",
       "      <td>22.9</td>\n",
       "    </tr>\n",
       "    <tr>\n",
       "      <th>y</th>\n",
       "      <td>0.76</td>\n",
       "      <td>0.67672</td>\n",
       "      <td>18.611811</td>\n",
       "      <td>2282.230987</td>\n",
       "      <td>26.639452</td>\n",
       "      <td>0.025494</td>\n",
       "      <td>0.029824</td>\n",
       "      <td>0.170304</td>\n",
       "      <td>0.039288</td>\n",
       "      <td>23.747481</td>\n",
       "      <td>0.019317</td>\n",
       "      <td>0.007558</td>\n",
       "      <td>22.464097</td>\n",
       "      <td>1403.663766</td>\n",
       "      <td>22.1</td>\n",
       "      <td>21.7</td>\n",
       "    </tr>\n",
       "  </tbody>\n",
       "</table>\n",
       "</div>"
      ],
      "text/plain": [
       "   FWHMeff  FWHMgeom     skyMag    skyCounts       Zp_t        Tb        Sb  \\\n",
       "u     0.92   0.80824  22.988641    69.107171  26.897666  0.032339  0.050870   \n",
       "g     0.87   0.76714  22.256461   402.681088  28.357487  0.124068  0.151018   \n",
       "r     0.83   0.73426  21.196219   809.726438  28.143236  0.101849  0.114369   \n",
       "i     0.80   0.70960  20.477858  1144.110445  27.829843  0.076313  0.083386   \n",
       "z     0.78   0.69316  19.599677  1713.369310  27.417680  0.052208  0.055617   \n",
       "y     0.76   0.67672  18.611811  2282.230987  26.639452  0.025494  0.029824   \n",
       "\n",
       "       kAtm     gamma         Cm  dCm_infinity  dCm_double         m5  \\\n",
       "u  0.491829  0.037729  23.283491      0.414446    0.249742  23.981087   \n",
       "g  0.213424  0.038638  24.493159      0.100373    0.050371  24.885337   \n",
       "r  0.125876  0.038943  24.483056      0.052512    0.024425  24.396215   \n",
       "i  0.096232  0.039063  24.357882      0.037753    0.016733  23.951831   \n",
       "z  0.068671  0.039204  24.179940      0.025551    0.010615  23.362287   \n",
       "y  0.170304  0.039288  23.747481      0.019317    0.007558  22.464097   \n",
       "\n",
       "   sourceCounts  m5_fid  m5_min  \n",
       "u    440.304487    23.9    23.4  \n",
       "g    734.482292    25.0    24.6  \n",
       "r    946.083535    24.7    24.3  \n",
       "i   1067.397139    24.0    23.6  \n",
       "z   1256.835447    23.3    22.9  \n",
       "y   1403.663766    22.1    21.7  "
      ]
     },
     "execution_count": 23,
     "metadata": {},
     "output_type": "execute_result"
    }
   ],
   "source": [
    "m5info = st.makeM5(hardware, system, X=1.0, exptime=30., nexp=1)\n",
    "m5info"
   ]
  },
  {
   "cell_type": "code",
   "execution_count": 24,
   "metadata": {},
   "outputs": [],
   "source": [
    "def blah(exptime = 15, nexp=2):\n",
    "    effarea=np.pi*(6.423/2*100)**2\n",
    "    X=1.0\n",
    "    readnoise=8.8\n",
    "    othernoise=0\n",
    "    darkcurrent=0.2\n",
    "    photParams_std = PhotometricParameters(exptime=exptime, nexp=nexp,\n",
    "                                               gain=1.0, effarea=effarea, readnoise=readnoise,\n",
    "                                               othernoise=othernoise, darkcurrent=darkcurrent)\n",
    "\n",
    "    flatSed = Sed()\n",
    "    flatSed.setFlatSED()\n",
    "    return flatSed.calcADU(system['u'], photParams=photParams_std)"
   ]
  },
  {
   "cell_type": "code",
   "execution_count": 25,
   "metadata": {},
   "outputs": [
    {
     "data": {
      "text/plain": [
       "1722613205177.5276"
      ]
     },
     "execution_count": 25,
     "metadata": {},
     "output_type": "execute_result"
    }
   ],
   "source": [
    "blah(exptime=15, nexp=2)"
   ]
  },
  {
   "cell_type": "code",
   "execution_count": 26,
   "metadata": {},
   "outputs": [
    {
     "data": {
      "text/plain": [
       "1722613205177.5276"
      ]
     },
     "execution_count": 26,
     "metadata": {},
     "output_type": "execute_result"
    }
   ],
   "source": [
    "blah(exptime=30, nexp=1)"
   ]
  },
  {
   "cell_type": "code",
   "execution_count": 27,
   "metadata": {},
   "outputs": [
    {
     "data": {
      "text/plain": [
       "1722613205177.5276"
      ]
     },
     "execution_count": 27,
     "metadata": {},
     "output_type": "execute_result"
    }
   ],
   "source": [
    "blah(exptime=15, nexp=1)*2\n"
   ]
  },
  {
   "cell_type": "code",
   "execution_count": 28,
   "metadata": {},
   "outputs": [],
   "source": [
    "darksky = Sed()\n",
    "darksky.readSED_flambda(os.path.join(getPackageDir('syseng_throughputs'),\n",
    "                                     'siteProperties', 'darksky.dat'))\n",
    "exptime = 15.\n",
    "effarea=np.pi*(6.423/2*100)**2\n",
    "nexp=1\n",
    "X=1.0\n",
    "readnoise= 0 #8.8\n",
    "othernoise=0\n",
    "darkcurrent= 0 #0.2\n",
    "photParams_std = PhotometricParameters(exptime=exptime, nexp=nexp,\n",
    "                                           gain=1.0, effarea=effarea, readnoise=readnoise,\n",
    "                                           othernoise=othernoise, darkcurrent=darkcurrent)\n"
   ]
  },
  {
   "cell_type": "code",
   "execution_count": 29,
   "metadata": {},
   "outputs": [
    {
     "data": {
      "text/plain": [
       "24.275559432785247"
      ]
     },
     "execution_count": 29,
     "metadata": {},
     "output_type": "execute_result"
    }
   ],
   "source": [
    "SignalToNoise.calcM5(darksky, system['u'], hardware['u'],photParams_std, FWHMeff=0.7)"
   ]
  },
  {
   "cell_type": "code",
   "execution_count": 30,
   "metadata": {},
   "outputs": [
    {
     "data": {
      "text/plain": [
       "24.677455815778615"
      ]
     },
     "execution_count": 30,
     "metadata": {},
     "output_type": "execute_result"
    }
   ],
   "source": [
    "exptime = 15.\n",
    "effarea=np.pi*(6.423/2*100)**2\n",
    "nexp=2\n",
    "X=1.0\n",
    "readnoise= 0 #8.8\n",
    "othernoise=0\n",
    "darkcurrent= 0 #0.2\n",
    "photParams_std = PhotometricParameters(exptime=exptime, nexp=nexp,\n",
    "                                           gain=1.0, effarea=effarea, readnoise=readnoise,\n",
    "                                           othernoise=othernoise, darkcurrent=darkcurrent)\n",
    "SignalToNoise.calcM5(darksky, system['u'], hardware['u'],photParams_std, FWHMeff=0.7)"
   ]
  },
  {
   "cell_type": "code",
   "execution_count": 31,
   "metadata": {},
   "outputs": [
    {
     "data": {
      "text/plain": [
       "24.677455815778615"
      ]
     },
     "execution_count": 31,
     "metadata": {},
     "output_type": "execute_result"
    }
   ],
   "source": [
    "exptime = 30.\n",
    "effarea=np.pi*(6.423/2*100)**2\n",
    "nexp=1\n",
    "X=1.0\n",
    "readnoise= 0 #8.8\n",
    "othernoise=0\n",
    "darkcurrent= 0 #0.2\n",
    "photParams_std = PhotometricParameters(exptime=exptime, nexp=nexp,\n",
    "                                           gain=1.0, effarea=effarea, readnoise=readnoise,\n",
    "                                           othernoise=othernoise, darkcurrent=darkcurrent)\n",
    "SignalToNoise.calcM5(darksky, system['u'], hardware['u'],photParams_std, FWHMeff=0.7)"
   ]
  },
  {
   "cell_type": "code",
   "execution_count": 32,
   "metadata": {},
   "outputs": [
    {
     "data": {
      "text/plain": [
       "24.65184692736522"
      ]
     },
     "execution_count": 32,
     "metadata": {},
     "output_type": "execute_result"
    }
   ],
   "source": [
    "coadd_m5(np.array([24.275559432785244]*2))"
   ]
  },
  {
   "cell_type": "code",
   "execution_count": 33,
   "metadata": {},
   "outputs": [
    {
     "data": {
      "text/plain": [
       "43.798531951469855"
      ]
     },
     "execution_count": 33,
     "metadata": {},
     "output_type": "execute_result"
    }
   ],
   "source": [
    "30.9702389489*np.sqrt(2)"
   ]
  },
  {
   "cell_type": "code",
   "execution_count": null,
   "metadata": {},
   "outputs": [],
   "source": []
  },
  {
   "cell_type": "code",
   "execution_count": null,
   "metadata": {},
   "outputs": [],
   "source": []
  },
  {
   "cell_type": "code",
   "execution_count": null,
   "metadata": {},
   "outputs": [],
   "source": []
  }
 ],
 "metadata": {
  "kernelspec": {
   "display_name": "Python 3",
   "language": "python",
   "name": "python3"
  },
  "language_info": {
   "codemirror_mode": {
    "name": "ipython",
    "version": 3
   },
   "file_extension": ".py",
   "mimetype": "text/x-python",
   "name": "python",
   "nbconvert_exporter": "python",
   "pygments_lexer": "ipython3",
   "version": "3.6.2"
  }
 },
 "nbformat": 4,
 "nbformat_minor": 2
}
