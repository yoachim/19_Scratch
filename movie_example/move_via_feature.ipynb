{
 "cells": [
  {
   "cell_type": "code",
   "execution_count": 1,
   "metadata": {},
   "outputs": [],
   "source": [
    "import numpy as np\n",
    "import matplotlib.pyplot as plt\n",
    "import healpy as hp\n",
    "import subprocess\n",
    "from lsst.sims.featureScheduler.features import N_observations\n",
    "from lsst.sims.featureScheduler.utils import hp_in_lsst_fov, schema_converter\n",
    "import os\n",
    "from lsst.sims.utils import Site\n",
    "import shutil\n",
    "import sys\n",
    "import sqlite3 as db\n",
    "import pandas as pd\n"
   ]
  },
  {
   "cell_type": "code",
   "execution_count": 2,
   "metadata": {},
   "outputs": [],
   "source": [
    "minion = False\n",
    "if minion:\n",
    "    con = db.connect('minion_1016_sqlite.db')\n",
    "    df = pd.read_sql('select fieldRA,fieldDec,lst,filter,night from Summary;', con)\n",
    "    names = ['RA', 'dec', 'lmst','filter','night']\n",
    "    types = [float, float, float, '|U1',int]\n",
    "    observations = np.empty(df.shape[0], dtype=list(zip(names,types)))\n",
    "    observations['RA'] = df['fieldRA'].values\n",
    "    observations['dec'] = df['fieldDec'].values\n",
    "    observations['lmst'] = df['lst'].values*12/np.pi\n",
    "    observations['filter'] = df['filter'].values\n",
    "    observations['night'] = df['night'].values\n",
    "    moviename = 'minion_movie.mp4'\n",
    "else:\n",
    "    # Load up observations\n",
    "    dbfile = 'baseline_1exp_pairsmix_10yrs.db'\n",
    "    sc = schema_converter()\n",
    "    observations = sc.opsim2obs(dbfile)\n",
    "    moviename = 'baseline_movie.mp4'\n",
    "\n",
    "\n",
    "  \n"
   ]
  },
  {
   "cell_type": "code",
   "execution_count": 3,
   "metadata": {},
   "outputs": [],
   "source": [
    "night = 23\n",
    "outdir = 'temp'\n",
    "if os.path.isdir(outdir):\n",
    "    shutil.rmtree(outdir)\n",
    "os.mkdir(outdir)\n",
    "nside = 128\n",
    "if os.path.isfile(moviename):\n",
    "    os.remove(moviename)\n",
    "\n",
    "\n",
    "site = Site('LSST')"
   ]
  },
  {
   "cell_type": "code",
   "execution_count": 4,
   "metadata": {},
   "outputs": [],
   "source": [
    "# make a feature\n",
    "feature = N_observations(nside=nside)\n",
    "hplookup = hp_in_lsst_fov(nside=nside)\n",
    "\n",
    "empty = feature.feature + hp.UNSEEN\n",
    "good = np.where(observations['night'] == night)[0]"
   ]
  },
  {
   "cell_type": "code",
   "execution_count": 5,
   "metadata": {},
   "outputs": [
    {
     "name": "stdout",
     "output_type": "stream",
     "text": [
      "progress = 99.9%"
     ]
    }
   ],
   "source": [
    "max_i = np.size(good)\n",
    "for i,observation in enumerate(observations[good]):\n",
    "    indx = hplookup(observation['RA'], observation['dec'])\n",
    "    feature.add_observation(observation, indx=indx)\n",
    "    # Could insert an if here to only output a frame every N observations\n",
    "    good_pix = np.where(feature.feature > 0)\n",
    "    empty[good_pix] = feature.feature[good_pix]\n",
    "    rot = (observation['lmst']*360./24, 0) #site.latitude)\n",
    "    hp.mollview(empty, min=0, max=10, title='', rot=rot)\n",
    "    plt.savefig(os.path.join(outdir, '%i.png' % i))\n",
    "    plt.close('all')\n",
    "    progress = i/float(max_i)*100\n",
    "    text = \"\\rprogress = %.1f%%\" %progress\n",
    "    sys.stdout.write(text)\n",
    "    sys.stdout.flush()"
   ]
  },
  {
   "cell_type": "code",
   "execution_count": 6,
   "metadata": {},
   "outputs": [
    {
     "data": {
      "text/plain": [
       "0"
      ]
     },
     "execution_count": 6,
     "metadata": {},
     "output_type": "execute_result"
    }
   ],
   "source": [
    "subprocess.call(\"ffmpeg -i %s/%%d.png  -f mp4 -framerate 10 -pix_fmt yuv420p  %s\" % (outdir, moviename), shell=True)"
   ]
  },
  {
   "cell_type": "code",
   "execution_count": null,
   "metadata": {},
   "outputs": [],
   "source": []
  },
  {
   "cell_type": "code",
   "execution_count": null,
   "metadata": {},
   "outputs": [],
   "source": []
  },
  {
   "cell_type": "code",
   "execution_count": null,
   "metadata": {},
   "outputs": [],
   "source": []
  },
  {
   "cell_type": "code",
   "execution_count": null,
   "metadata": {},
   "outputs": [],
   "source": []
  },
  {
   "cell_type": "code",
   "execution_count": null,
   "metadata": {},
   "outputs": [],
   "source": []
  }
 ],
 "metadata": {
  "kernelspec": {
   "display_name": "Python 3",
   "language": "python",
   "name": "python3"
  },
  "language_info": {
   "codemirror_mode": {
    "name": "ipython",
    "version": 3
   },
   "file_extension": ".py",
   "mimetype": "text/x-python",
   "name": "python",
   "nbconvert_exporter": "python",
   "pygments_lexer": "ipython3",
   "version": "3.6.2"
  }
 },
 "nbformat": 4,
 "nbformat_minor": 2
}
