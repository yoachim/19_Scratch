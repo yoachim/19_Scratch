{
 "cells": [
  {
   "cell_type": "code",
   "execution_count": 1,
   "metadata": {},
   "outputs": [],
   "source": [
    "import numpy as np\n",
    "import healpy as hp\n",
    "import matplotlib.pylab as plt\n",
    "from astropy.io import fits\n",
    "from astropy_healpix import uniq_to_level_ipix\n",
    "from lsst.sims.utils import _healbin"
   ]
  },
  {
   "cell_type": "code",
   "execution_count": 3,
   "metadata": {},
   "outputs": [],
   "source": [
    "def _hpid2RaDec(nside, hpids, nest=True):\n",
    "    \"\"\"\n",
    "    Correct for healpy being silly and running dec from 0-180.\n",
    "\n",
    "    Parameters\n",
    "    ----------\n",
    "    nside : int\n",
    "        Must be a value of 2^N.\n",
    "    hpids : np.array\n",
    "        Array (or single value) of healpixel IDs.\n",
    "\n",
    "    Returns\n",
    "    -------\n",
    "    raRet : float (or np.array)\n",
    "        RA positions of the input healpixel IDs. In radians.\n",
    "    decRet : float (or np.array)\n",
    "        Dec positions of the input healpixel IDs. In radians.\n",
    "    \"\"\"\n",
    "\n",
    "    lat, lon = hp.pix2ang(nside, hpids, nest=nest)\n",
    "    decRet = np.pi / 2.0 - lat\n",
    "    raRet = lon\n",
    "\n",
    "    return raRet, decRet"
   ]
  },
  {
   "cell_type": "code",
   "execution_count": 4,
   "metadata": {},
   "outputs": [],
   "source": [
    "hdu1 = fits.open('bayestar.fits')"
   ]
  },
  {
   "cell_type": "code",
   "execution_count": 5,
   "metadata": {},
   "outputs": [
    {
     "name": "stdout",
     "output_type": "stream",
     "text": [
      "Filename: bayestar.fits\n",
      "No.    Name      Ver    Type      Cards   Dimensions   Format\n",
      "  0  PRIMARY       1 PrimaryHDU       4   ()      \n",
      "  1                1 BinTableHDU     54   19200R x 5C   [K, D, D, D, D]   \n"
     ]
    }
   ],
   "source": [
    "hdu1.info()"
   ]
  },
  {
   "cell_type": "code",
   "execution_count": 6,
   "metadata": {},
   "outputs": [
    {
     "data": {
      "text/plain": [
       "SIMPLE  =                    T / conforms to FITS standard                      \n",
       "BITPIX  =                    8 / array data type                                \n",
       "NAXIS   =                    0 / number of array dimensions                     \n",
       "EXTEND  =                    T                                                  "
      ]
     },
     "execution_count": 6,
     "metadata": {},
     "output_type": "execute_result"
    }
   ],
   "source": [
    "hdu1[0].header"
   ]
  },
  {
   "cell_type": "code",
   "execution_count": 7,
   "metadata": {},
   "outputs": [
    {
     "data": {
      "text/plain": [
       "(19200,)"
      ]
     },
     "execution_count": 7,
     "metadata": {},
     "output_type": "execute_result"
    }
   ],
   "source": [
    "hdu1[1].data['PROBDENSITY'].shape"
   ]
  },
  {
   "cell_type": "code",
   "execution_count": 8,
   "metadata": {},
   "outputs": [
    {
     "data": {
      "text/plain": [
       "FITS_rec([ (                1066,   4.40625732e-15,    1.54324531,  294.61895733,   2.28497625e-05),\n",
       "          (                1067,   1.00164350e-14,  297.46445755,  128.1997008 ,   9.53427001e-06),\n",
       "          (                1071,   8.21981343e-15,  307.56524854,   54.21339042,   1.02526800e-05),\n",
       "          ...,\n",
       "          (             6886721,   5.17151184e+01,  677.00775265,  205.0531015 ,   1.99846669e-06),\n",
       "          (             6886722,   5.20140450e+01,  686.14306725,  202.22785586,   1.95432113e-06),\n",
       "          (             6886723,   5.04276345e+01,  681.21409693,  203.92403666,   1.97770956e-06)],\n",
       "         dtype=(numpy.record, [('UNIQ', '>i8'), ('PROBDENSITY', '>f8'), ('DISTMU', '>f8'), ('DISTSIGMA', '>f8'), ('DISTNORM', '>f8')]))"
      ]
     },
     "execution_count": 8,
     "metadata": {},
     "output_type": "execute_result"
    }
   ],
   "source": [
    "hdu1[1].data"
   ]
  },
  {
   "cell_type": "code",
   "execution_count": null,
   "metadata": {},
   "outputs": [],
   "source": []
  },
  {
   "cell_type": "code",
   "execution_count": 10,
   "metadata": {},
   "outputs": [
    {
     "data": {
      "text/plain": [
       "array([   1066,    1067,    1071, ..., 6886721, 6886722, 6886723], dtype=uint64)"
      ]
     },
     "execution_count": 10,
     "metadata": {},
     "output_type": "execute_result"
    }
   ],
   "source": [
    "hdu1[1].data['UNIQ']"
   ]
  },
  {
   "cell_type": "code",
   "execution_count": 11,
   "metadata": {},
   "outputs": [],
   "source": [
    "level, ipix = uniq_to_level_ipix(hdu1[1].data['UNIQ'])"
   ]
  },
  {
   "cell_type": "code",
   "execution_count": 12,
   "metadata": {},
   "outputs": [
    {
     "data": {
      "text/plain": [
       "(array([ 4,  4,  4, ..., 10, 10, 10]),\n",
       " array([     42,      43,      47, ..., 2692417, 2692418, 2692419]))"
      ]
     },
     "execution_count": 12,
     "metadata": {},
     "output_type": "execute_result"
    }
   ],
   "source": [
    "level, ipix"
   ]
  },
  {
   "cell_type": "code",
   "execution_count": 13,
   "metadata": {},
   "outputs": [],
   "source": [
    "names = ['ra', 'dec', 'area']\n",
    "locations = np.zeros(hdu1[1].data['UNIQ'].size, dtype=list(zip(names, [float,float, float])))"
   ]
  },
  {
   "cell_type": "code",
   "execution_count": 14,
   "metadata": {},
   "outputs": [],
   "source": [
    "for lev in np.unique(level):\n",
    "    good = np.where(level == lev)\n",
    "    nside = 2**lev\n",
    "    ra, dec = _hpid2RaDec(nside, ipix[good])\n",
    "    locations['ra'][good] = ra\n",
    "    locations['dec'][good] = dec\n",
    "    locations['area'][good] = hp.nside2pixarea(nside)"
   ]
  },
  {
   "cell_type": "code",
   "execution_count": 15,
   "metadata": {},
   "outputs": [
    {
     "data": {
      "text/plain": [
       "array([( 0.44178647,  0.33983691,   4.09061543e-03),\n",
       "       ( 0.49087385,  0.38439677,   4.09061543e-03),\n",
       "       ( 0.58904862,  0.47611906,   4.09061543e-03), ...,\n",
       "       ( 3.82344711,  0.61802557,   9.98685409e-07),\n",
       "       ( 3.82191313,  0.61802557,   9.98685409e-07),\n",
       "       ( 3.82268012,  0.6188246 ,   9.98685409e-07)],\n",
       "      dtype=[('ra', '<f8'), ('dec', '<f8'), ('area', '<f8')])"
      ]
     },
     "execution_count": 15,
     "metadata": {},
     "output_type": "execute_result"
    }
   ],
   "source": [
    "locations"
   ]
  },
  {
   "cell_type": "code",
   "execution_count": 16,
   "metadata": {},
   "outputs": [
    {
     "name": "stdout",
     "output_type": "stream",
     "text": [
      "Help on function _hpid2RaDec in module __main__:\n",
      "\n",
      "_hpid2RaDec(nside, hpids, nest=True)\n",
      "    Correct for healpy being silly and running dec from 0-180.\n",
      "    \n",
      "    Parameters\n",
      "    ----------\n",
      "    nside : int\n",
      "        Must be a value of 2^N.\n",
      "    hpids : np.array\n",
      "        Array (or single value) of healpixel IDs.\n",
      "    \n",
      "    Returns\n",
      "    -------\n",
      "    raRet : float (or np.array)\n",
      "        RA positions of the input healpixel IDs. In radians.\n",
      "    decRet : float (or np.array)\n",
      "        Dec positions of the input healpixel IDs. In radians.\n",
      "\n"
     ]
    }
   ],
   "source": [
    "help(_hpid2RaDec)"
   ]
  },
  {
   "cell_type": "code",
   "execution_count": 17,
   "metadata": {},
   "outputs": [],
   "source": [
    "nside_out = 128\n",
    "result = _healbin(locations['ra'], locations['dec'],\n",
    "                  values=hdu1[1].data['PROBDENSITY']*locations['area'], nside=nside_out, reduceFunc=np.sum)\n",
    "good = np.where(result != hp.UNSEEN)\n",
    "result[good] = result[good]/hp.nside2pixarea(nside_out)"
   ]
  },
  {
   "cell_type": "code",
   "execution_count": 18,
   "metadata": {},
   "outputs": [
    {
     "data": {
      "text/plain": [
       "(1.0000000000000229, 1.0000000000000229)"
      ]
     },
     "execution_count": 18,
     "metadata": {},
     "output_type": "execute_result"
    }
   ],
   "source": [
    "np.sum(hdu1[1].data['PROBDENSITY']*locations['area']), np.sum(result[good]*hp.nside2pixarea(nside_out))"
   ]
  },
  {
   "cell_type": "code",
   "execution_count": 19,
   "metadata": {},
   "outputs": [
    {
     "data": {
      "image/png": "[encoded data removed]",
      "text/plain": [
       "<matplotlib.figure.Figure at 0x821155c50>"
      ]
     },
     "metadata": {},
     "output_type": "display_data"
    }
   ],
   "source": [
    "hp.mollview(result)"
   ]
  },
  {
   "cell_type": "code",
   "execution_count": 20,
   "metadata": {},
   "outputs": [
    {
     "data": {
      "text/plain": [
       "1.0000000000000229"
      ]
     },
     "execution_count": 20,
     "metadata": {},
     "output_type": "execute_result"
    }
   ],
   "source": [
    "np.sum(hdu1[1].data['PROBDENSITY']*locations['area'])"
   ]
  },
  {
   "cell_type": "code",
   "execution_count": 21,
   "metadata": {},
   "outputs": [
    {
     "data": {
      "text/plain": [
       "15645.567525706037"
      ]
     },
     "execution_count": 21,
     "metadata": {},
     "output_type": "execute_result"
    }
   ],
   "source": [
    "good = np.where(result != hp.UNSEEN)\n",
    "np.sum(result[good])"
   ]
  },
  {
   "cell_type": "code",
   "execution_count": null,
   "metadata": {},
   "outputs": [],
   "source": []
  },
  {
   "cell_type": "code",
   "execution_count": null,
   "metadata": {},
   "outputs": [],
   "source": []
  },
  {
   "cell_type": "code",
   "execution_count": null,
   "metadata": {},
   "outputs": [],
   "source": []
  },
  {
   "cell_type": "code",
   "execution_count": null,
   "metadata": {},
   "outputs": [],
   "source": []
  },
  {
   "cell_type": "code",
   "execution_count": null,
   "metadata": {},
   "outputs": [],
   "source": []
  },
  {
   "cell_type": "code",
   "execution_count": null,
   "metadata": {},
   "outputs": [],
   "source": []
  }
 ],
 "metadata": {
  "kernelspec": {
   "display_name": "Python 3",
   "language": "python",
   "name": "python3"
  }
 },
 "nbformat": 4,
 "nbformat_minor": 2
}
