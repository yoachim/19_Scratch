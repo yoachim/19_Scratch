{
 "cells": [
  {
   "cell_type": "code",
   "execution_count": 6,
   "metadata": {},
   "outputs": [],
   "source": [
    "# Now to try out running a type Ia SN detection thing\n",
    "\n",
    "\n",
    "%matplotlib inline\n",
    "import numpy as np\n",
    "import matplotlib.pyplot as plt\n",
    "import lsst.sims.maf.db as db\n",
    "import lsst.sims.maf.utils as utils\n",
    "import lsst.sims.maf.metrics as metrics\n",
    "import lsst.sims.maf.slicers as slicers\n",
    "import lsst.sims.maf.metricBundles as metricBundles\n",
    "from lsst.sims.utils import equatorialFromGalactic\n",
    "# Make the notebook repeatable\n",
    "import gzip\n",
    "import pickle\n",
    "np.random.seed(42)\n",
    "\n"
   ]
  },
  {
   "cell_type": "code",
   "execution_count": 16,
   "metadata": {},
   "outputs": [],
   "source": [
    "def rand_on_sphere(npts):\n",
    "    \"\"\"Put point on a sphere randomly\n",
    "    \"\"\"\n",
    "    ra = 2.*np.pi * np.random.rand(npts)\n",
    "    dec = np.arccos(2.*np.random.rand(npts)-1) - np.pi/2\n",
    "    return ra, dec"
   ]
  },
  {
   "cell_type": "code",
   "execution_count": 7,
   "metadata": {},
   "outputs": [],
   "source": [
    "# Read in the type 1a light curves\n",
    "with gzip.open('IDEAL_z02_MODEL11.pkl.gz', 'rb') as f:\n",
    "    lcs = pickle.load(f)\n"
   ]
  },
  {
   "cell_type": "code",
   "execution_count": 8,
   "metadata": {},
   "outputs": [
    {
     "data": {
      "text/plain": [
       "dict_keys(['u', 'g', 'r', 'i', 'z', 'Y', 'header'])"
      ]
     },
     "execution_count": 8,
     "metadata": {},
     "output_type": "execute_result"
    }
   ],
   "source": [
    "objids = list(lcs.keys())\n",
    "lcs[objids[1]].keys()"
   ]
  },
  {
   "cell_type": "code",
   "execution_count": 28,
   "metadata": {},
   "outputs": [],
   "source": [
    "n_obj = np.size(objids)\n",
    "ra,dec = rand_on_sphere(n_obj)\n",
    "# peak times\n",
    "survey_length = 365.25*10\n",
    "mjd0 = 59853.5\n",
    "peak_times = np.random.rand(n_obj)*survey_length + mjd0"
   ]
  },
  {
   "cell_type": "code",
   "execution_count": 37,
   "metadata": {},
   "outputs": [],
   "source": [
    "def plasticc2mags(plc, mjds, filters, peak_time=0, zp=27.5):\n",
    "    \"\"\"take a plasticc lightcurve dict and return interpolated mags\n",
    "    \"\"\"\n",
    "    filttrans = {'u':'u', 'g': 'g', 'r': 'r', 'i':'i', 'z':'z', 'y': 'Y'}\n",
    "    result = np.zeros(mjds.size, dtype=float)\n",
    "    for filtername in np.unique(filters):\n",
    "        infilt = np.where(filters == filtername)[0]\n",
    "        lc_mjd = plc[filttrans[filtername]][mjd] - plc['header']['SIM_PEAKMJD'] + peak_time\n",
    "        result[infilt] = -2.5*np.log10(np.interp(mjds, lc_mjd, plc[filttrans[filtername]]['fluxcal'])) + zp\n",
    "    return result\n",
    "\n"
   ]
  },
  {
   "cell_type": "code",
   "execution_count": 35,
   "metadata": {},
   "outputs": [
    {
     "data": {
      "text/plain": [
       "dict_keys(['mjd', 'fluxcal', 'fluxcalerr', 'photflag'])"
      ]
     },
     "execution_count": 35,
     "metadata": {},
     "output_type": "execute_result"
    }
   ],
   "source": [
    "lcs[objids[1]]['g'].keys()\n"
   ]
  },
  {
   "cell_type": "code",
   "execution_count": 36,
   "metadata": {},
   "outputs": [
    {
     "data": {
      "text/plain": [
       "{'SIM_AV': -9.0,\n",
       " 'SIM_DECL': 0.0,\n",
       " 'SIM_DLMU': 34.699596,\n",
       " 'SIM_EXPOSURE_Y': 1000.0,\n",
       " 'SIM_EXPOSURE_g': 1000.0,\n",
       " 'SIM_EXPOSURE_i': 1000.0,\n",
       " 'SIM_EXPOSURE_r': 1000.0,\n",
       " 'SIM_EXPOSURE_u': 1000.0,\n",
       " 'SIM_EXPOSURE_z': 1000.0,\n",
       " 'SIM_LENSDMU': -0.00053625647,\n",
       " 'SIM_LIBID': 1,\n",
       " 'SIM_MAGSMEAR_COH': -0.033319704,\n",
       " 'SIM_MODEL_INDEX': 6,\n",
       " 'SIM_MODEL_NAME': 'SALT2.WFIRST-H17                ',\n",
       " 'SIM_MWEBV': 0.0,\n",
       " 'SIM_NGEN_LIBID': 2,\n",
       " 'SIM_NOBS_UNDEFINED': 0,\n",
       " 'SIM_PEAKMAG_Y': 16.706293,\n",
       " 'SIM_PEAKMAG_g': 15.45697,\n",
       " 'SIM_PEAKMAG_i': 16.057625,\n",
       " 'SIM_PEAKMAG_r': 15.524377,\n",
       " 'SIM_PEAKMAG_u': 15.959028,\n",
       " 'SIM_PEAKMAG_z': 16.254612,\n",
       " 'SIM_PEAKMJD': 53100.539,\n",
       " 'SIM_RA': 0.0,\n",
       " 'SIM_REDSHIFT_CMB': 0.020000558,\n",
       " 'SIM_REDSHIFT_HELIO': 0.021226143,\n",
       " 'SIM_REDSHIFT_HOST': 0.021226143,\n",
       " 'SIM_RV': -9.0,\n",
       " 'SIM_SALT2alpha': 0.14,\n",
       " 'SIM_SALT2beta': 3.0999999,\n",
       " 'SIM_SALT2c': 0.001939774,\n",
       " 'SIM_SALT2mB': 15.298226,\n",
       " 'SIM_SALT2x0': 0.013636707,\n",
       " 'SIM_SALT2x1': 0.30275166,\n",
       " 'SIM_SEARCHEFF_MASK': 3,\n",
       " 'SIM_SUBSAMPLE_INDEX': -9,\n",
       " 'SIM_TEMPLATE_INDEX': 0,\n",
       " 'SIM_TYPE_INDEX': 11,\n",
       " 'SIM_TYPE_NAME': 'UNKNOWN ',\n",
       " 'SIM_VPEC': 0.0,\n",
       " 'host_photoz': -9.0,\n",
       " 'host_specz': 0.0,\n",
       " 'libid': 1,\n",
       " 'pkmag_Y': 16.706293,\n",
       " 'pkmag_g': 15.45697,\n",
       " 'pkmag_i': 16.057625,\n",
       " 'pkmag_r': 15.524377,\n",
       " 'pkmag_u': 15.959028,\n",
       " 'pkmag_z': 16.254612,\n",
       " 'pkmjd': 53100.539,\n",
       " 'snid': 18709,\n",
       " 'type': 11,\n",
       " 'z': 0.021226143}"
      ]
     },
     "execution_count": 36,
     "metadata": {},
     "output_type": "execute_result"
    }
   ],
   "source": [
    "lcs[objids[1]]['header']"
   ]
  },
  {
   "cell_type": "code",
   "execution_count": null,
   "metadata": {},
   "outputs": [],
   "source": []
  }
 ],
 "metadata": {
  "kernelspec": {
   "display_name": "Python 3",
   "language": "python",
   "name": "python3"
  },
  "language_info": {
   "codemirror_mode": {
    "name": "ipython",
    "version": 3
   },
   "file_extension": ".py",
   "mimetype": "text/x-python",
   "name": "python",
   "nbconvert_exporter": "python",
   "pygments_lexer": "ipython3",
   "version": "3.6.2"
  }
 },
 "nbformat": 4,
 "nbformat_minor": 2
}
