{
 "cells": [
  {
   "cell_type": "code",
   "execution_count": 1,
   "metadata": {},
   "outputs": [],
   "source": [
    "import numpy as np\n",
    "import sqlite3 as db\n",
    "import pandas as pd\n",
    "from lsst.sims.utils import angularSeparation\n",
    "import matplotlib.pylab as plt\n",
    "%matplotlib inline"
   ]
  },
  {
   "cell_type": "code",
   "execution_count": 2,
   "metadata": {},
   "outputs": [],
   "source": [
    "# Define a point to look around\n",
    "ra = 20\n",
    "dec = -40\n",
    "\n",
    "radius = 1.75\n",
    "filter_colors = {'u': 'purple', 'g': 'blue', 'r': 'green', 'i': 'cyan', 'z': 'orange', 'y': 'red'}"
   ]
  },
  {
   "cell_type": "code",
   "execution_count": null,
   "metadata": {},
   "outputs": [],
   "source": [
    "filenames = ['baseline_1exp_pairsmix_10yrs.db', 'roll_mod3_sdf0.10mixed_10yrs.db', 'very_alt3_rm5illum15_10yrs.db']"
   ]
  },
  {
   "cell_type": "code",
   "execution_count": null,
   "metadata": {},
   "outputs": [
    {
     "name": "stdout",
     "output_type": "stream",
     "text": [
      "baseline_1exp_pairsmix_10yrs.db 1138\n",
      "roll_mod3_sdf0.10mixed_10yrs.db 1141\n"
     ]
    }
   ],
   "source": [
    "for i,filename in enumerate(filenames):\n",
    "    conn = db.connect(filename)\n",
    "    df = pd.read_sql('select * from summaryallprops;', conn)\n",
    "    \n",
    "    ang_dist = angularSeparation(df['fieldRA'].values, df['fieldDec'].values, ra, dec)\n",
    "    overlapping = np.where(ang_dist < radius)[0]\n",
    "    df_sub = df.iloc[overlapping, :]\n",
    "    fig, ax = plt.subplots()\n",
    "    for filtername in filter_colors:\n",
    "        infilt = np.where(df_sub['filter'].values == filtername)\n",
    "        ax.scatter(df_sub['observationStartMJD'].values[infilt],\n",
    "                   df_sub['fiveSigmaDepth'].values[infilt],\n",
    "                   c=filter_colors[filtername], label=filtername, alpha=0.3)\n",
    "    title = filename.split('_')[0] + ', Nobs=%i' % df_sub.shape[0]\n",
    "    ax.set(xlabel='MJD', ylabel='5-sigma depth (mag)', title=title)\n",
    "    ax.legend(loc='center left', bbox_to_anchor=(1, 0.5))\n",
    "    print(filename, df_sub.shape[0])\n",
    "    fig.savefig('%i.pdf' % i)\n"
   ]
  },
  {
   "cell_type": "code",
   "execution_count": null,
   "metadata": {},
   "outputs": [],
   "source": [
    "# What do we see in this plot. Looks like 11 seasons (the survey probably starts part way through the \n",
    "# first season, and last one is cut off)"
   ]
  },
  {
   "cell_type": "code",
   "execution_count": null,
   "metadata": {},
   "outputs": [],
   "source": [
    "df_sub"
   ]
  },
  {
   "cell_type": "code",
   "execution_count": null,
   "metadata": {},
   "outputs": [],
   "source": [
    "fig, ax = plt.subplots()\n",
    "for filtername in filter_colors:\n",
    "    infilt = np.where(df_sub['filter'].values == filtername)\n",
    "    ack = ax.hist(df_sub['airmass'].values[infilt], color=filter_colors[filtername], alpha=.3, label=filtername) \n",
    "ax.legend(loc='center left', bbox_to_anchor=(1, 0.5))"
   ]
  },
  {
   "cell_type": "code",
   "execution_count": null,
   "metadata": {},
   "outputs": [],
   "source": []
  }
 ],
 "metadata": {
  "kernelspec": {
   "display_name": "Python 3",
   "language": "python",
   "name": "python3"
  },
  "language_info": {
   "codemirror_mode": {
    "name": "ipython",
    "version": 3
   },
   "file_extension": ".py",
   "mimetype": "text/x-python",
   "name": "python",
   "nbconvert_exporter": "python",
   "pygments_lexer": "ipython3",
   "version": "3.6.2"
  }
 },
 "nbformat": 4,
 "nbformat_minor": 2
}
