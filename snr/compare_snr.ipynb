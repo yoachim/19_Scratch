{
 "cells": [
  {
   "cell_type": "code",
   "execution_count": 1,
   "metadata": {},
   "outputs": [],
   "source": [
    "import numpy as np\n",
    "from lsst.sims.photUtils import PhotometricParameters\n",
    "from lsst.sims.photUtils import Bandpass, Sed, SignalToNoise\n",
    "import os\n",
    "from lsst.utils import getPackageDir\n",
    "import lsst.syseng.throughputs as st\n"
   ]
  },
  {
   "cell_type": "code",
   "execution_count": 2,
   "metadata": {},
   "outputs": [],
   "source": [
    "def coadd_m5(m5s):\n",
    "    result = 1.25*np.log10(np.sum(10.**(0.8*m5s)))\n",
    "    return result"
   ]
  },
  {
   "cell_type": "code",
   "execution_count": 3,
   "metadata": {},
   "outputs": [],
   "source": [
    "defaultDirs = st.setDefaultDirs()\n",
    "atmos = st.readAtmosphere(defaultDirs['atmosphere'], atmosFile='atmos_10_aerosol.dat')\n",
    "hardware, system = st.buildHardwareAndSystem(defaultDirs, addLosses=True, \n",
    "                                             atmosphereOverride=atmos, shiftFilters=None)\n"
   ]
  },
  {
   "cell_type": "code",
   "execution_count": 33,
   "metadata": {},
   "outputs": [],
   "source": [
    "def check_snr_m5(exptime=30, nexp=1):\n",
    "    \"\"\"See what the u-band m5 and snr of u=20 star is\n",
    "    \"\"\"\n",
    "    readnoise = 0 #8.8\n",
    "    effarea=np.pi*(6.423/2*100)**2\n",
    "    X=1.0\n",
    "    othernoise=0\n",
    "    darkcurrent=0.2\n",
    "    photParams_std = PhotometricParameters(exptime=exptime, nexp=nexp,\n",
    "                                               gain=1.0, effarea=effarea, readnoise=readnoise,\n",
    "                                               othernoise=othernoise, darkcurrent=darkcurrent)\n",
    "    m5info = st.makeM5(hardware, system, exptime=exptime, nexp=nexp,\n",
    "                  readnoise=readnoise, othernoise=othernoise, darkcurrent=darkcurrent,\n",
    "                   effarea=effarea,X=X )\n",
    "    m=20.\n",
    "    snr1 = SignalToNoise.calcSNR_m5(m, system['u'], m5info['m5'][0], photParams_std)\n",
    "    return snr1[0], m5info['m5'][0]"
   ]
  },
  {
   "cell_type": "code",
   "execution_count": 34,
   "metadata": {},
   "outputs": [
    {
     "name": "stdout",
     "output_type": "stream",
     "text": [
      "snr,  m5\n",
      "119.363105747 24.3522553135\n"
     ]
    }
   ],
   "source": [
    "snr, m5 = check_snr_m5(exptime=30, nexp=1)\n",
    "print('snr,  m5')\n",
    "print(snr, m5)"
   ]
  },
  {
   "cell_type": "code",
   "execution_count": 35,
   "metadata": {},
   "outputs": [
    {
     "name": "stdout",
     "output_type": "stream",
     "text": [
      "119.363105747 24.3522553135\n"
     ]
    }
   ],
   "source": [
    "snr, m5 =check_snr_m5(exptime=15, nexp=2)\n",
    "print(snr, m5)"
   ]
  },
  {
   "cell_type": "code",
   "execution_count": 36,
   "metadata": {},
   "outputs": [
    {
     "name": "stdout",
     "output_type": "stream",
     "text": [
      "119.363105747 24.3335439086\n"
     ]
    }
   ],
   "source": [
    "snr, m5 = check_snr_m5(exptime=15, nexp=1)\n",
    "# Combine two single 15s exposures. \n",
    "print(snr*np.sqrt(2), coadd_m5(np.array([m5,m5])))"
   ]
  },
  {
   "cell_type": "code",
   "execution_count": 37,
   "metadata": {},
   "outputs": [
    {
     "name": "stdout",
     "output_type": "stream",
     "text": [
      "119.363105747 24.3430336579\n"
     ]
    }
   ],
   "source": [
    "snr_1, m5_1 = check_snr_m5(exptime=2, nexp=1)\n",
    "snr_2, m5_2 = check_snr_m5(exptime=28, nexp=1)\n",
    "\n",
    "print(np.sqrt(snr_1**2+snr_2**2), coadd_m5(np.array([m5_1,m5_2])))"
   ]
  },
  {
   "cell_type": "code",
   "execution_count": 9,
   "metadata": {},
   "outputs": [],
   "source": [
    "## So, it looks like the SNR is always behaving in the usual way where I can add them in quadrature. \n",
    "#But, the m5 values are only consistent if makeM5 does them--I don't seem to know how to combine them properly? \n"
   ]
  },
  {
   "cell_type": "code",
   "execution_count": 10,
   "metadata": {},
   "outputs": [
    {
     "data": {
      "text/plain": [
       "23.25"
      ]
     },
     "execution_count": 10,
     "metadata": {},
     "output_type": "execute_result"
    }
   ],
   "source": [
    "# What happens if I coadd 10 identical frames?\n",
    "coadd_m5(np.array(10*[22.]))"
   ]
  },
  {
   "cell_type": "code",
   "execution_count": 12,
   "metadata": {},
   "outputs": [
    {
     "data": {
      "text/plain": [
       "(12.559432157547898, 0)"
      ]
     },
     "execution_count": 12,
     "metadata": {},
     "output_type": "execute_result"
    }
   ],
   "source": [
    "SignalToNoise.calcSNR_m5(20, system['u'],22., None, gamma=0)"
   ]
  },
  {
   "cell_type": "code",
   "execution_count": 13,
   "metadata": {},
   "outputs": [
    {
     "data": {
      "text/plain": [
       "(22.334179607548151, 0)"
      ]
     },
     "execution_count": 13,
     "metadata": {},
     "output_type": "execute_result"
    }
   ],
   "source": [
    "SignalToNoise.calcSNR_m5(20, system['u'],23.25, None, gamma=0)"
   ]
  },
  {
   "cell_type": "code",
   "execution_count": 14,
   "metadata": {},
   "outputs": [
    {
     "data": {
      "text/plain": [
       "39.71641173621407"
      ]
     },
     "execution_count": 14,
     "metadata": {},
     "output_type": "execute_result"
    }
   ],
   "source": [
    "SignalToNoise.calcSNR_m5(20, system['u'],22., None, gamma=0)[0]*np.sqrt(10)"
   ]
  },
  {
   "cell_type": "code",
   "execution_count": 15,
   "metadata": {},
   "outputs": [
    {
     "data": {
      "text/plain": [
       "22.376287494579977"
      ]
     },
     "execution_count": 15,
     "metadata": {},
     "output_type": "execute_result"
    }
   ],
   "source": [
    "coadd_m5(np.array(2*[22.]))"
   ]
  },
  {
   "cell_type": "code",
   "execution_count": 16,
   "metadata": {},
   "outputs": [
    {
     "data": {
      "text/plain": [
       "23.957256414054967"
      ]
     },
     "execution_count": 16,
     "metadata": {},
     "output_type": "execute_result"
    }
   ],
   "source": [
    "snr, m5 = check_snr_m5(exptime=15, nexp=1)\n",
    "m5"
   ]
  },
  {
   "cell_type": "code",
   "execution_count": 20,
   "metadata": {},
   "outputs": [
    {
     "name": "stdout",
     "output_type": "stream",
     "text": [
      "84.402461497 23.9572564141\n",
      "266.904018455 25.2072564141\n"
     ]
    }
   ],
   "source": [
    "snr, m5 =check_snr_m5(exptime=15, nexp=1)\n",
    "print(snr, m5)\n",
    "print(snr*np.sqrt(10.), m5+1.25)"
   ]
  },
  {
   "cell_type": "code",
   "execution_count": 21,
   "metadata": {},
   "outputs": [
    {
     "name": "stdout",
     "output_type": "stream",
     "text": [
      "266.904018455 25.250958978\n"
     ]
    }
   ],
   "source": [
    "snr, m5 =check_snr_m5(exptime=15, nexp=10)\n",
    "print(snr, m5)"
   ]
  },
  {
   "cell_type": "code",
   "execution_count": null,
   "metadata": {},
   "outputs": [],
   "source": []
  }
 ],
 "metadata": {
  "kernelspec": {
   "display_name": "Python 3",
   "language": "python",
   "name": "python3"
  },
  "language_info": {
   "codemirror_mode": {
    "name": "ipython",
    "version": 3
   },
   "file_extension": ".py",
   "mimetype": "text/x-python",
   "name": "python",
   "nbconvert_exporter": "python",
   "pygments_lexer": "ipython3",
   "version": "3.6.2"
  }
 },
 "nbformat": 4,
 "nbformat_minor": 2
}
