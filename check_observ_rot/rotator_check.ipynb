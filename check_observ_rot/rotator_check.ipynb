{
 "cells": [
  {
   "cell_type": "code",
   "execution_count": 1,
   "metadata": {},
   "outputs": [],
   "source": [
    "import numpy as np\n",
    "from lsst.sims.featureScheduler.modelObservatory import Model_observatory\n",
    "from lsst.sims.featureScheduler.utils import empty_observation\n",
    "import healpy as hp\n",
    "import matplotlib.pylab as plt"
   ]
  },
  {
   "cell_type": "code",
   "execution_count": 2,
   "metadata": {},
   "outputs": [
    {
     "name": "stderr",
     "output_type": "stream",
     "text": [
      "WARNING: ErfaWarning: ERFA function \"d2dtf\" yielded 1 of \"dubious year (Note 5)\" [astropy._erfa.core]\n",
      "WARNING: ErfaWarning: ERFA function \"utctai\" yielded 1 of \"dubious year (Note 3)\" [astropy._erfa.core]\n"
     ]
    }
   ],
   "source": [
    "observatory = Model_observatory()"
   ]
  },
  {
   "cell_type": "code",
   "execution_count": 16,
   "metadata": {},
   "outputs": [],
   "source": [
    "def make_obs():\n",
    "    obs = empty_observation()\n",
    "    obs['dec'] = np.radians(-60)\n",
    "    obs['RA'] = np.radians(300.)\n",
    "    obs['filter'] = 'r'\n",
    "    obs['rotSkyPos'] = np.radians(10.)\n",
    "    return obs"
   ]
  },
  {
   "cell_type": "code",
   "execution_count": 17,
   "metadata": {},
   "outputs": [
    {
     "name": "stderr",
     "output_type": "stream",
     "text": [
      "WARNING: ErfaWarning: ERFA function \"utctai\" yielded 1 of \"dubious year (Note 3)\" [astropy._erfa.core]\n",
      "/Users/yoachim/gitRepos/sims_featureScheduler/python/lsst/sims/featureScheduler/modelObservatory/model_observatory.py:475: RuntimeWarning: invalid value encountered in less\n",
      "  slewtimes[np.where(slewtimes < 0)] = np.nan\n",
      "/Users/yoachim/gitRepos/sims_utils/python/lsst/sims/utils/m5_flat_sed.py:127: RuntimeWarning: divide by zero encountered in true_divide\n",
      "  dCm -= 1.25 * np.log10(1 + (10**(0.8 * m5_flat_sed.dCm_infinity[visitFilter]) - 1) / Tscale)\n",
      "/Users/yoachim/gitRepos/sims_utils/python/lsst/sims/utils/m5_flat_sed.py:130: RuntimeWarning: divide by zero encountered in log10\n",
      "  1.25 * np.log10(expTime / 30.0) - m5_flat_sed.kAtm[visitFilter] * (airmass - 1.0) - 1.1 * tauCloud)\n"
     ]
    }
   ],
   "source": [
    "cond1 = observatory.return_conditions()\n",
    "ack = observatory.observe(make_obs())\n"
   ]
  },
  {
   "cell_type": "code",
   "execution_count": 18,
   "metadata": {},
   "outputs": [
    {
     "data": {
      "text/plain": [
       "array([ 120.])"
      ]
     },
     "execution_count": 18,
     "metadata": {},
     "output_type": "execute_result"
    }
   ],
   "source": [
    "ack[0]['slewtime']"
   ]
  },
  {
   "cell_type": "code",
   "execution_count": 19,
   "metadata": {},
   "outputs": [
    {
     "name": "stderr",
     "output_type": "stream",
     "text": [
      "WARNING: ErfaWarning: ERFA function \"utctai\" yielded 1 of \"dubious year (Note 3)\" [astropy._erfa.core]\n",
      "/Users/yoachim/gitRepos/sims_utils/python/lsst/sims/utils/m5_flat_sed.py:127: RuntimeWarning: divide by zero encountered in true_divide\n",
      "  dCm -= 1.25 * np.log10(1 + (10**(0.8 * m5_flat_sed.dCm_infinity[visitFilter]) - 1) / Tscale)\n",
      "/Users/yoachim/gitRepos/sims_utils/python/lsst/sims/utils/m5_flat_sed.py:130: RuntimeWarning: divide by zero encountered in log10\n",
      "  1.25 * np.log10(expTime / 30.0) - m5_flat_sed.kAtm[visitFilter] * (airmass - 1.0) - 1.1 * tauCloud)\n"
     ]
    }
   ],
   "source": [
    "# Let's slew to a position, swap filters. all with same rot tel pos\n",
    "obs= make_obs()\n",
    "obs['filter'] = 'r'\n",
    "obs1 = observatory.observe(obs)\n",
    "obs= make_obs()\n",
    "obs['filter'] = 'g'\n",
    "obs2 = observatory.observe(obs)"
   ]
  },
  {
   "cell_type": "code",
   "execution_count": 23,
   "metadata": {},
   "outputs": [
    {
     "data": {
      "text/plain": [
       "(array([ 120.]), array([ 2.]))"
      ]
     },
     "execution_count": 23,
     "metadata": {},
     "output_type": "execute_result"
    }
   ],
   "source": [
    "obs2[0]['slewtime'], obs1[0]['slewtime']"
   ]
  },
  {
   "cell_type": "code",
   "execution_count": 24,
   "metadata": {},
   "outputs": [
    {
     "name": "stderr",
     "output_type": "stream",
     "text": [
      "WARNING: ErfaWarning: ERFA function \"utctai\" yielded 1 of \"dubious year (Note 3)\" [astropy._erfa.core]\n",
      "/Users/yoachim/gitRepos/sims_utils/python/lsst/sims/utils/m5_flat_sed.py:127: RuntimeWarning: divide by zero encountered in true_divide\n",
      "  dCm -= 1.25 * np.log10(1 + (10**(0.8 * m5_flat_sed.dCm_infinity[visitFilter]) - 1) / Tscale)\n",
      "/Users/yoachim/gitRepos/sims_utils/python/lsst/sims/utils/m5_flat_sed.py:130: RuntimeWarning: divide by zero encountered in log10\n",
      "  1.25 * np.log10(expTime / 30.0) - m5_flat_sed.kAtm[visitFilter] * (airmass - 1.0) - 1.1 * tauCloud)\n"
     ]
    }
   ],
   "source": [
    "# Now to spin the rotator a bunch\n",
    "obs= make_obs()\n",
    "obs['rotSkyPos'] = np.radians(20)\n",
    "obs['filter'] = 'r'\n",
    "obs1 = observatory.observe(obs)\n",
    "obs= make_obs()\n",
    "obs['rotSkyPos'] = np.radians(-20)\n",
    "obs['filter'] = 'g'\n",
    "obs2 = observatory.observe(obs)"
   ]
  },
  {
   "cell_type": "code",
   "execution_count": 25,
   "metadata": {},
   "outputs": [
    {
     "data": {
      "text/plain": [
       "(array([ 120.]), array([ 120.]))"
      ]
     },
     "execution_count": 25,
     "metadata": {},
     "output_type": "execute_result"
    }
   ],
   "source": [
    "obs2[0]['slewtime'], obs1[0]['slewtime']"
   ]
  },
  {
   "cell_type": "code",
   "execution_count": 26,
   "metadata": {},
   "outputs": [
    {
     "name": "stderr",
     "output_type": "stream",
     "text": [
      "WARNING: ErfaWarning: ERFA function \"utctai\" yielded 1 of \"dubious year (Note 3)\" [astropy._erfa.core]\n",
      "/Users/yoachim/gitRepos/sims_utils/python/lsst/sims/utils/m5_flat_sed.py:127: RuntimeWarning: divide by zero encountered in true_divide\n",
      "  dCm -= 1.25 * np.log10(1 + (10**(0.8 * m5_flat_sed.dCm_infinity[visitFilter]) - 1) / Tscale)\n",
      "/Users/yoachim/gitRepos/sims_utils/python/lsst/sims/utils/m5_flat_sed.py:130: RuntimeWarning: divide by zero encountered in log10\n",
      "  1.25 * np.log10(expTime / 30.0) - m5_flat_sed.kAtm[visitFilter] * (airmass - 1.0) - 1.1 * tauCloud)\n"
     ]
    }
   ],
   "source": [
    "# yeah, there's clearly no rotation being taken into account.\n",
    "\n",
    "# Now to spin the rotator a bunch\n",
    "obs= make_obs()\n",
    "obs['rotSkyPos'] = np.radians(20)\n",
    "obs['filter'] = 'g'\n",
    "obs1 = observatory.observe(obs)\n",
    "obs= make_obs()\n",
    "obs['rotSkyPos'] = np.radians(-20)\n",
    "obs['filter'] = 'g'\n",
    "obs2 = observatory.observe(obs)"
   ]
  },
  {
   "cell_type": "code",
   "execution_count": 27,
   "metadata": {},
   "outputs": [
    {
     "data": {
      "text/plain": [
       "(array([ 14.92857146]), array([ 14.92857146]))"
      ]
     },
     "execution_count": 27,
     "metadata": {},
     "output_type": "execute_result"
    }
   ],
   "source": [
    "obs2[0]['slewtime'], obs1[0]['slewtime']"
   ]
  },
  {
   "cell_type": "code",
   "execution_count": 28,
   "metadata": {},
   "outputs": [],
   "source": [
    "# ok, only takes 15s to rotate 40 degrees, so that's not too bad."
   ]
  },
  {
   "cell_type": "code",
   "execution_count": null,
   "metadata": {},
   "outputs": [],
   "source": []
  }
 ],
 "metadata": {
  "kernelspec": {
   "display_name": "Python 3",
   "language": "python",
   "name": "python3"
  },
  "language_info": {
   "codemirror_mode": {
    "name": "ipython",
    "version": 3
   },
   "file_extension": ".py",
   "mimetype": "text/x-python",
   "name": "python",
   "nbconvert_exporter": "python",
   "pygments_lexer": "ipython3",
   "version": "3.6.2"
  }
 },
 "nbformat": 4,
 "nbformat_minor": 2
}
