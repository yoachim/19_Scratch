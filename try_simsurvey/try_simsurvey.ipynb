{
 "cells": [
  {
   "cell_type": "code",
   "execution_count": 1,
   "metadata": {},
   "outputs": [],
   "source": [
    "import numpy as np\n",
    "import matplotlib.pyplot as plt\n",
    "%matplotlib inline\n",
    "\n",
    "import simsurvey\n",
    "import sncosmo\n",
    "from astropy.cosmology import Planck15\n"
   ]
  },
  {
   "cell_type": "code",
   "execution_count": 2,
   "metadata": {},
   "outputs": [
    {
     "name": "stdout",
     "output_type": "stream",
     "text": [
      "Help on function get_transient_generator in module simsurvey.simultarget:\n",
      "\n",
      "get_transient_generator(zrange, ratekind='basic', ratefunc=None, ra_range=[0, 360], dec_range=[-90, 90], ntransient=None, **kwargs)\n",
      "    This model returns the object that enables to create and change\n",
      "    the kind of transient you wish to set in the sky.\n",
      "    \n",
      "    # - HERE COPY PASTE THE TransientGenerator INIT - #\n",
      "    # - TO BE DONE\n",
      "\n"
     ]
    }
   ],
   "source": [
    "help(simsurvey.get_transient_generator)"
   ]
  },
  {
   "cell_type": "code",
   "execution_count": 3,
   "metadata": {},
   "outputs": [
    {
     "name": "stdout",
     "output_type": "stream",
     "text": [
      "CPU times: user 57.9 s, sys: 568 ms, total: 58.5 s\n",
      "Wall time: 58.7 s\n"
     ]
    },
    {
     "name": "stderr",
     "output_type": "stream",
     "text": [
      "/Users/yoachim/lsst/python/miniconda3-4.5.4/envs/lsst-scipipe-fcd27eb/lib/python3.6/site-packages/simsurvey/simultarget.py:508: UserWarning: SFD98 dust map files not found. MW E(B-V) will be set to zero.\n",
      "  warnings.warn(\"SFD98 dust map files not found. \"\n"
     ]
    }
   ],
   "source": [
    "%%time\n",
    "mjd0 = 5200\n",
    "duration = 365.25-10\n",
    "\n",
    "\n",
    "tr = simsurvey.get_transient_generator((0.0, 0.2),\n",
    "                                       transient='Ia',\n",
    "                                       template='salt2',\n",
    "                                       dec_range=(-90,30),\n",
    "                                       mjd_range=(mjd0,\n",
    "                                                  mjd0+duration))"
   ]
  },
  {
   "cell_type": "code",
   "execution_count": 4,
   "metadata": {},
   "outputs": [
    {
     "data": {
      "text/plain": [
       "43558"
      ]
     },
     "execution_count": 4,
     "metadata": {},
     "output_type": "execute_result"
    }
   ],
   "source": [
    "tr.ra.size"
   ]
  },
  {
   "cell_type": "code",
   "execution_count": 5,
   "metadata": {},
   "outputs": [
    {
     "name": "stdout",
     "output_type": "stream",
     "text": [
      "CPU times: user 4min 33s, sys: 2.49 s, total: 4min 36s\n",
      "Wall time: 4min 38s\n"
     ]
    }
   ],
   "source": [
    "%%time\n",
    "# let's try a high z slice\n",
    "tr_hz = simsurvey.get_transient_generator((1.1, 1.15),\n",
    "                                       transient='Ia',\n",
    "                                       template='salt2',\n",
    "                                       dec_range=(-90,30),\n",
    "                                       mjd_range=(mjd0,\n",
    "                                                  mjd0+duration))"
   ]
  },
  {
   "cell_type": "code",
   "execution_count": 6,
   "metadata": {},
   "outputs": [
    {
     "data": {
      "text/plain": [
       "189659"
      ]
     },
     "execution_count": 6,
     "metadata": {},
     "output_type": "execute_result"
    }
   ],
   "source": [
    "tr_hz.ra.size"
   ]
  },
  {
   "cell_type": "code",
   "execution_count": 6,
   "metadata": {},
   "outputs": [
    {
     "data": {
      "text/plain": [
       "['DERIVED_PROPERTIES',\n",
       " 'PROPERTIES',\n",
       " 'SIDE_PROPERTIES',\n",
       " '__build__',\n",
       " '__class__',\n",
       " '__delattr__',\n",
       " '__dict__',\n",
       " '__dir__',\n",
       " '__doc__',\n",
       " '__eq__',\n",
       " '__format__',\n",
       " '__ge__',\n",
       " '__getattribute__',\n",
       " '__gt__',\n",
       " '__hash__',\n",
       " '__init__',\n",
       " '__init_subclass__',\n",
       " '__le__',\n",
       " '__lt__',\n",
       " '__module__',\n",
       " '__nature__',\n",
       " '__ne__',\n",
       " '__new__',\n",
       " '__reduce__',\n",
       " '__reduce_ex__',\n",
       " '__repr__',\n",
       " '__setattr__',\n",
       " '__sizeof__',\n",
       " '__str__',\n",
       " '__subclasshook__',\n",
       " '__weakref__',\n",
       " '_derived_properties',\n",
       " '_derived_properties_keys',\n",
       " '_fundamental_parameters',\n",
       " '_get_event_property_',\n",
       " '_properties',\n",
       " '_properties_keys',\n",
       " '_reset_mwebv_',\n",
       " '_sfd98_dir',\n",
       " '_side_properties',\n",
       " '_side_properties_keys',\n",
       " '_simulate_mjd_',\n",
       " '_update_',\n",
       " '_update_mwebv_',\n",
       " '_update_mwebv_sfd98_',\n",
       " '_update_simulation_',\n",
       " 'copy',\n",
       " 'coveredarea',\n",
       " 'create',\n",
       " 'dec',\n",
       " 'dec_range',\n",
       " 'err_mwebv',\n",
       " 'event_coverage',\n",
       " 'get_bandmag',\n",
       " 'get_lightcurve_full_param',\n",
       " 'get_lightcurves',\n",
       " 'has_lightcurves',\n",
       " 'has_mwebv_sfd98',\n",
       " 'hist_skycoverage',\n",
       " 'lightcurve',\n",
       " 'lightcurve_param_names',\n",
       " 'lightcurve_properties',\n",
       " 'load',\n",
       " 'mjd',\n",
       " 'mjd_range',\n",
       " 'model',\n",
       " 'mwebv',\n",
       " 'mwebv_sfd98',\n",
       " 'ntransient',\n",
       " 'ra',\n",
       " 'ra_range',\n",
       " 'ratefunc',\n",
       " 'ratekind',\n",
       " 'save',\n",
       " 'set_err_mwebv',\n",
       " 'set_event_parameters',\n",
       " 'set_lightcurve_prop',\n",
       " 'set_model',\n",
       " 'set_sfd98_dir',\n",
       " 'set_transient_parameters',\n",
       " 'show_skycoverage',\n",
       " 'simul_parameters',\n",
       " 'template',\n",
       " 'timescale',\n",
       " 'transient_coverage',\n",
       " 'transienttype',\n",
       " 'zcmb',\n",
       " 'zcmb_range']"
      ]
     },
     "execution_count": 6,
     "metadata": {},
     "output_type": "execute_result"
    }
   ],
   "source": [
    "dir(tr)"
   ]
  },
  {
   "cell_type": "code",
   "execution_count": null,
   "metadata": {},
   "outputs": [],
   "source": []
  },
  {
   "cell_type": "code",
   "execution_count": 9,
   "metadata": {},
   "outputs": [
    {
     "data": {
      "text/plain": [
       "(43751,)"
      ]
     },
     "execution_count": 9,
     "metadata": {},
     "output_type": "execute_result"
    }
   ],
   "source": [
    "tr.lightcurve['x0'].shape"
   ]
  },
  {
   "cell_type": "code",
   "execution_count": 21,
   "metadata": {},
   "outputs": [
    {
     "data": {
      "text/plain": [
       "{'param_func': <bound method LightCurveGenerator.lightcurve_Ia_salt2_basic of <simsurvey.simultarget.LightCurveGenerator object at 0x1a17cc5f60>>,\n",
       " 'param_func_kwargs': {}}"
      ]
     },
     "execution_count": 21,
     "metadata": {},
     "output_type": "execute_result"
    }
   ],
   "source": [
    "tr.lightcurve_properties"
   ]
  },
  {
   "cell_type": "code",
   "execution_count": null,
   "metadata": {},
   "outputs": [],
   "source": [
    "# OK, at this point I think I just want to roll back to use some sncosmo things to generate the light curves? "
   ]
  }
 ],
 "metadata": {
  "kernelspec": {
   "display_name": "Python 3",
   "language": "python",
   "name": "python3"
  },
  "language_info": {
   "codemirror_mode": {
    "name": "ipython",
    "version": 3
   },
   "file_extension": ".py",
   "mimetype": "text/x-python",
   "name": "python",
   "nbconvert_exporter": "python",
   "pygments_lexer": "ipython3",
   "version": "3.6.6"
  }
 },
 "nbformat": 4,
 "nbformat_minor": 2
}
