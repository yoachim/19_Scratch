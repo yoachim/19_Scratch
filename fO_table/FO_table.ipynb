{
 "cells": [
  {
   "cell_type": "code",
   "execution_count": 1,
   "metadata": {},
   "outputs": [],
   "source": [
    "import numpy as np\n",
    "import pandas as pd\n",
    "import sqlite3\n",
    "import os"
   ]
  },
  {
   "cell_type": "code",
   "execution_count": 2,
   "metadata": {},
   "outputs": [],
   "source": [
    "v13_path = '/Users/yoachim/Temp/sims_featureScheduler_runs_1.3/maf'\n",
    "v13_dirs = ['baseline_2snap_v1.3_10yrs',\n",
    "            'baseline_nomix_v1.3_10yrs',\n",
    "            'baseline_v1.3_10yrs',\n",
    "            'baseline_v1.3_1yrs',\n",
    "           'wfd_95_v1.3_10yrs',\n",
    "           'wfd_80_v1.3_10yrs',\n",
    "           'wfd_65_v1.3_10yrs',\n",
    "           'delayedrolling_mod2_sdf_0.10_v1.3_10yrs']\n",
    "\n",
    "dirs = [os.path.join(v13_path, filename) for filename in v13_dirs]\n",
    "\n",
    "dirs.append('/Users/yoachim/Temp/old_runs/baseline2018a_note')"
   ]
  },
  {
   "cell_type": "code",
   "execution_count": 3,
   "metadata": {},
   "outputs": [],
   "source": [
    "v12_path = '/Users/yoachim/gitRepos/sims_featureScheduler_runs/baselines'\n",
    "v12_dirs = ['baseline_1exp_pairsame_10yrs',\n",
    "           'baseline_1exp_pairsmix_10yrs',\n",
    "           'baseline_2exp_pairsame_10yrs',\n",
    "           'baseline_2exp_pairsmix_10yrs']\n",
    "\n",
    "for directory in v12_dirs:\n",
    "    dirs.append(os.path.join(v12_path, directory))"
   ]
  },
  {
   "cell_type": "code",
   "execution_count": 4,
   "metadata": {},
   "outputs": [],
   "source": [
    "results = {'fONv MedianNvis':[], 'fOArea': [], 'osf':[], 'nexp':[]}\n",
    "for directory in dirs:\n",
    "    conn = sqlite3.connect(os.path.join(directory, 'resultsDb_sqlite.db'))\n",
    "    df = pd.read_sql('select summaryValue from summarystats where summaryName=\"fONv MedianNvis\";', conn)\n",
    "    results['fONv MedianNvis'].append(np.max(df.values))\n",
    "    \n",
    "    df = pd.read_sql('select summaryValue from summarystats where summaryName=\"fOArea\";', conn)\n",
    "    results['fOArea'].append(np.max(df.values))\n",
    "    \n",
    "    df = pd.read_sql('select summaryValue from summarystats where metricid=3;', conn)\n",
    "    results['osf'].append(np.max(df.values))\n",
    "    \n",
    "    df = pd.read_sql('select summaryValue from summarystats where metricid=5;', conn)\n",
    "    results['nexp'].append(np.max(df.values))\n",
    "    \n",
    "    conn.close()"
   ]
  },
  {
   "cell_type": "code",
   "execution_count": 5,
   "metadata": {},
   "outputs": [
    {
     "data": {
      "text/plain": [
       "{'fOArea': [10052.219988694145,\n",
       "  18127.06414927078,\n",
       "  18090.135228881489,\n",
       "  67.982785262104514,\n",
       "  18404.031052190465,\n",
       "  18212.67210108232,\n",
       "  10551.599707594789,\n",
       "  16123.670218151725,\n",
       "  18056.563483073041,\n",
       "  18226.940093050907,\n",
       "  18186.653998080772,\n",
       "  18096.849578043177,\n",
       "  17942.419547324324],\n",
       " 'fONv MedianNvis': [828.0,\n",
       "  915.0,\n",
       "  900.0,\n",
       "  94.0,\n",
       "  1040.0,\n",
       "  922.0,\n",
       "  831.0,\n",
       "  880.0,\n",
       "  915.0,\n",
       "  986.0,\n",
       "  963.0,\n",
       "  907.0,\n",
       "  887.0],\n",
       " 'nexp': [2019329.0,\n",
       "  2230670.0,\n",
       "  2182491.0,\n",
       "  228046.0,\n",
       "  2190893.0,\n",
       "  2190844.0,\n",
       "  2194390.0,\n",
       "  2192506.0,\n",
       "  2372700.0,\n",
       "  2263993.0,\n",
       "  2216026.0,\n",
       "  2092909.0,\n",
       "  2048865.0],\n",
       " 'osf': [0.7027261183796657,\n",
       "  0.77623484079066107,\n",
       "  0.75941748316485058,\n",
       "  0.76720785006963166,\n",
       "  0.76235593935538637,\n",
       "  0.7623543785010467,\n",
       "  0.76357136217036081,\n",
       "  0.76291726080211031,\n",
       "  0.71565104665181434,\n",
       "  0.78456252309099028,\n",
       "  0.7679721152855904,\n",
       "  0.72535594217231303,\n",
       "  0.71010851612466019]}"
      ]
     },
     "execution_count": 5,
     "metadata": {},
     "output_type": "execute_result"
    }
   ],
   "source": [
    "results\n"
   ]
  },
  {
   "cell_type": "code",
   "execution_count": 14,
   "metadata": {},
   "outputs": [
    {
     "name": "stdout",
     "output_type": "stream",
     "text": [
      "| Run Name  |    fONv MedianNvis |fOArea |osf |nexp |\n",
      "| -- | -- | -- | -- | --|\n",
      "| baseline_2snap_v1.3_10yrs |   828.000  |   10052.220  |   0.703  |   2019329.000  |\n",
      "| baseline_nomix_v1.3_10yrs |   915.000  |   18127.064  |   0.776  |   2230670.000  |\n",
      "| baseline_v1.3_10yrs |   900.000  |   18090.135  |   0.759  |   2182491.000  |\n",
      "| baseline_v1.3_1yrs |   94.000  |   67.983  |   0.767  |   228046.000  |\n",
      "| wfd_95_v1.3_10yrs |   1040.000  |   18404.031  |   0.762  |   2190893.000  |\n",
      "| wfd_80_v1.3_10yrs |   922.000  |   18212.672  |   0.762  |   2190844.000  |\n",
      "| wfd_65_v1.3_10yrs |   831.000  |   10551.600  |   0.764  |   2194390.000  |\n",
      "| delayedrolling_mod2_sdf_0.10_v1.3_10yrs |   880.000  |   16123.670  |   0.763  |   2192506.000  |\n",
      "| baseline2018a_note |   915.000  |   18056.563  |   0.716  |   2372700.000  |\n",
      "| baseline_1exp_pairsame_10yrs |   986.000  |   18226.940  |   0.785  |   2263993.000  |\n",
      "| baseline_1exp_pairsmix_10yrs |   963.000  |   18186.654  |   0.768  |   2216026.000  |\n",
      "| baseline_2exp_pairsame_10yrs |   907.000  |   18096.850  |   0.725  |   2092909.000  |\n",
      "| baseline_2exp_pairsmix_10yrs |   887.000  |   17942.420  |   0.710  |   2048865.000  |\n"
     ]
    }
   ],
   "source": [
    "keys = list(results.keys())\n",
    "header = '| Run Name  |    '\n",
    "for key in keys:\n",
    "    header+= '%s |' % key\n",
    "\n",
    "print(header)\n",
    "print('| -- | -- | -- | -- | --|')\n",
    "for i in range(len(dirs)):\n",
    "    rn = os.path.basename(dirs[i])\n",
    "    out = '| '\n",
    "    out += rn +' |'\n",
    "    for key in keys:\n",
    "        out +='   %.3f  |' % results[key][i]\n",
    "    print(out)\n",
    "    "
   ]
  },
  {
   "cell_type": "markdown",
   "metadata": {},
   "source": [
    "| Run Name  |    fONv MedianNvis |fOArea |osf |nexp |\n",
    "| -- | -- | -- | -- | --|\n",
    "| baseline_2snap_v1.3_10yrs |   828.000  |   10052.220  |   0.703  |   2019329.000  |\n",
    "| baseline_nomix_v1.3_10yrs |   915.000  |   18127.064  |   0.776  |   2230670.000  |\n",
    "| baseline_v1.3_10yrs |   900.000  |   18090.135  |   0.759  |   2182491.000  |\n",
    "| baseline_v1.3_1yrs |   94.000  |   67.983  |   0.767  |   228046.000  |\n",
    "| wfd_95_v1.3_10yrs |   1040.000  |   18404.031  |   0.762  |   2190893.000  |\n",
    "| wfd_80_v1.3_10yrs |   922.000  |   18212.672  |   0.762  |   2190844.000  |\n",
    "| wfd_65_v1.3_10yrs |   831.000  |   10551.600  |   0.764  |   2194390.000  |\n",
    "| delayedrolling_mod2_sdf_0.10_v1.3_10yrs |   880.000  |   16123.670  |   0.763  |   2192506.000  |\n",
    "| baseline2018a_note |   915.000  |   18056.563  |   0.716  |   2372700.000  |\n",
    "| baseline_1exp_pairsame_10yrs |   986.000  |   18226.940  |   0.785  |   2263993.000  |\n",
    "| baseline_1exp_pairsmix_10yrs |   963.000  |   18186.654  |   0.768  |   2216026.000  |\n",
    "| baseline_2exp_pairsame_10yrs |   907.000  |   18096.850  |   0.725  |   2092909.000  |\n",
    "| baseline_2exp_pairsmix_10yrs |   887.000  |   17942.420  |   0.710  |   2048865.000  |"
   ]
  },
  {
   "cell_type": "markdown",
   "metadata": {},
   "source": [
    "| Run Name  | version | Pairs | snaps |  fONv MedianNvis |fOArea |osf |nexp |\n",
    "| -- | -- | -- | -- | --|  -- | -- | --|\n",
    "| baseline_2snap_v1.3_10yrs | FBS1.3 | Mixed  |  2 | 828.000  |   10052.220  |   0.703  |   2019329.000  |\n",
    "| baseline_nomix_v1.3_10yrs |  FBS1.3   | Same  | 1  |915.000  |   18127.064  |   0.776  |   2230670.000  |\n",
    "| baseline_v1.3_10yrs |  FBS1.3  | Mixed  |  1 | 900.000  |   18090.135  |   0.759  |   2182491.000  |\n",
    "| baseline_v1.3_1yrs |  FBS1.3   | Mixed  |  1 |94.000  |   67.983  |   0.767  |   228046.000  |\n",
    "| wfd_95_v1.3_10yrs | FBS1.3   |  Mixed | 1  | 1040.000  |   18404.031  |   0.762  |   2190893.000  |\n",
    "| wfd_80_v1.3_10yrs |  FBS1.3   | Mixed  | 1  |922.000  |   18212.672  |   0.762  |   2190844.000  |\n",
    "| wfd_65_v1.3_10yrs |  FBS1.3   | Mixed  |  1 |831.000  |   10551.600  |   0.764  |   2194390.000  |\n",
    "| delayedrolling_mod2_sdf_0.10_v1.3_10yrs |  FBS1.3  | Mixed  |  1 | 880.000  |   16123.670  |   0.763  |   2192506.000  |\n",
    "| baseline2018a_note |  OpSimv4  | Same  | 2  | 915.000  |   18056.563  |   0.716  |   2372700.000  |\n",
    "| baseline_1exp_pairsame_10yrs | FBS1.2   | Same  |  1 | 986.000  |   18226.940  |   0.785  |   2263993.000  |\n",
    "| baseline_1exp_pairsmix_10yrs |  FBS1.2  | Mixed  |  1 | 963.000  |   18186.654  |   0.768  |   2216026.000  |\n",
    "| baseline_2exp_pairsame_10yrs | FBS1.2   | Same  |  2 | 907.000  |   18096.850  |   0.725  |   2092909.000  |\n",
    "| baseline_2exp_pairsmix_10yrs |  FBS1.2  | Mixed  |  2 | 887.000  |   17942.420  |   0.710  |   2048865.000  |"
   ]
  },
  {
   "cell_type": "code",
   "execution_count": null,
   "metadata": {},
   "outputs": [],
   "source": []
  }
 ],
 "metadata": {
  "kernelspec": {
   "display_name": "Python 3",
   "language": "python",
   "name": "python3"
  },
  "language_info": {
   "codemirror_mode": {
    "name": "ipython",
    "version": 3
   },
   "file_extension": ".py",
   "mimetype": "text/x-python",
   "name": "python",
   "nbconvert_exporter": "python",
   "pygments_lexer": "ipython3",
   "version": "3.6.2"
  }
 },
 "nbformat": 4,
 "nbformat_minor": 2
}
