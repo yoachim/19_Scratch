{
 "cells": [
  {
   "cell_type": "code",
   "execution_count": 1,
   "metadata": {},
   "outputs": [],
   "source": [
    "from lsst.sims.featureScheduler.modelObservatory import Model_observatory\n",
    "import numpy as np\n",
    "from lsst.sims.almanac import Almanac\n",
    "from lsst.sims.cloudModel import CloudModel\n",
    "%matplotlib inline\n",
    "import matplotlib.pylab as plt\n",
    "from scipy.stats import binned_statistic\n",
    "from astropy.time import Time\n",
    "\n",
    "from datetime import datetime"
   ]
  },
  {
   "cell_type": "code",
   "execution_count": 2,
   "metadata": {},
   "outputs": [],
   "source": [
    "class dummy_time_handler(object):\n",
    "    \"\"\"\n",
    "    Don't need the full time handler, so save a dependency and use this.\n",
    "    \"\"\"\n",
    "    def __init__(self, mjd_init):\n",
    "        \"\"\"\n",
    "        Parameters\n",
    "        ----------\n",
    "        mjd_init : float\n",
    "            The initial mjd\n",
    "        \"\"\"\n",
    "        self._unix_start = datetime(1970, 1, 1)\n",
    "        t = Time(mjd_init, format='mjd')\n",
    "        self.initial_dt = t.datetime\n",
    "\n",
    "    def time_since_given_datetime(self, datetime1, datetime2=None, reverse=False):\n",
    "        \"\"\"\n",
    "        Really? We need a method to do one line of arithmatic?\n",
    "        \"\"\"\n",
    "        if datetime2 is None:\n",
    "            datetime2 = self._unix_start\n",
    "        if reverse:\n",
    "            return (datetime1 - datetime2).total_seconds()\n",
    "        else:\n",
    "            return (datetime2 - datetime1).total_seconds()\n"
   ]
  },
  {
   "cell_type": "code",
   "execution_count": 3,
   "metadata": {},
   "outputs": [
    {
     "name": "stderr",
     "output_type": "stream",
     "text": [
      "WARNING: ErfaWarning: ERFA function \"d2dtf\" yielded 1 of \"dubious year (Note 5)\" [astropy._erfa.core]\n"
     ]
    }
   ],
   "source": [
    "observatory = Model_observatory()"
   ]
  },
  {
   "cell_type": "code",
   "execution_count": 4,
   "metadata": {},
   "outputs": [
    {
     "data": {
      "text/plain": [
       "[(158, 7, 'general maintenance'),\n",
       " (307, 7, 'general maintenance'),\n",
       " (523, 7, 'general maintenance'),\n",
       " (672, 7, 'general maintenance'),\n",
       " (888, 14, 'recoat mirror'),\n",
       " (1253, 7, 'general maintenance'),\n",
       " (1402, 7, 'general maintenance'),\n",
       " (1618, 14, 'recoat mirror'),\n",
       " (1983, 7, 'general maintenance'),\n",
       " (2132, 7, 'general maintenance'),\n",
       " (2348, 14, 'recoat mirror'),\n",
       " (2713, 7, 'general maintenance'),\n",
       " (2862, 7, 'general maintenance'),\n",
       " (3078, 14, 'recoat mirror'),\n",
       " (3443, 7, 'general maintenance'),\n",
       " (3592, 7, 'general maintenance'),\n",
       " (3808, 14, 'recoat mirror'),\n",
       " (4173, 7, 'general maintenance'),\n",
       " (4322, 7, 'general maintenance'),\n",
       " (4538, 14, 'recoat mirror'),\n",
       " (4903, 7, 'general maintenance'),\n",
       " (5052, 7, 'general maintenance'),\n",
       " (5268, 14, 'recoat mirror'),\n",
       " (5633, 7, 'general maintenance'),\n",
       " (5782, 7, 'general maintenance'),\n",
       " (5998, 14, 'recoat mirror'),\n",
       " (6363, 7, 'general maintenance'),\n",
       " (6512, 7, 'general maintenance'),\n",
       " (6728, 14, 'recoat mirror'),\n",
       " (7093, 7, 'general maintenance'),\n",
       " (7242, 7, 'general maintenance')]"
      ]
     },
     "execution_count": 4,
     "metadata": {},
     "output_type": "execute_result"
    }
   ],
   "source": [
    "observatory.scheduledDowntime_model.downtimes\n",
    "# night, number of nights down, reason"
   ]
  },
  {
   "cell_type": "code",
   "execution_count": 5,
   "metadata": {},
   "outputs": [
    {
     "data": {
      "text/plain": [
       "[(48, 3, 'intermediate event'),\n",
       " (127, 1, 'minor event'),\n",
       " (230, 1, 'minor event'),\n",
       " (233, 1, 'minor event'),\n",
       " (299, 1, 'minor event'),\n",
       " (355, 1, 'minor event'),\n",
       " (386, 7, 'major event'),\n",
       " (397, 1, 'minor event'),\n",
       " (413, 1, 'minor event'),\n",
       " (507, 1, 'minor event'),\n",
       " (530, 1, 'minor event'),\n",
       " (552, 1, 'minor event'),\n",
       " (649, 1, 'minor event'),\n",
       " (748, 3, 'intermediate event'),\n",
       " (792, 3, 'intermediate event'),\n",
       " (872, 1, 'minor event'),\n",
       " (1051, 7, 'major event'),\n",
       " (1060, 1, 'minor event'),\n",
       " (1161, 1, 'minor event'),\n",
       " (1163, 3, 'intermediate event'),\n",
       " (1203, 1, 'minor event'),\n",
       " (1232, 1, 'minor event'),\n",
       " (1307, 3, 'intermediate event'),\n",
       " (1337, 1, 'minor event'),\n",
       " (1396, 1, 'minor event'),\n",
       " (1411, 3, 'intermediate event'),\n",
       " (1444, 1, 'minor event'),\n",
       " (1465, 3, 'intermediate event'),\n",
       " (1626, 1, 'minor event'),\n",
       " (1650, 1, 'minor event'),\n",
       " (1916, 7, 'major event'),\n",
       " (2046, 1, 'minor event'),\n",
       " (2218, 1, 'minor event'),\n",
       " (2262, 1, 'minor event'),\n",
       " (2383, 3, 'intermediate event'),\n",
       " (2396, 3, 'intermediate event'),\n",
       " (2463, 1, 'minor event'),\n",
       " (2563, 1, 'minor event'),\n",
       " (2617, 1, 'minor event'),\n",
       " (2712, 3, 'intermediate event'),\n",
       " (2729, 14, 'catastrophic event'),\n",
       " (2771, 7, 'major event'),\n",
       " (2782, 1, 'minor event'),\n",
       " (2821, 1, 'minor event'),\n",
       " (2846, 1, 'minor event'),\n",
       " (2857, 1, 'minor event'),\n",
       " (2958, 3, 'intermediate event'),\n",
       " (3021, 1, 'minor event'),\n",
       " (3029, 7, 'major event'),\n",
       " (3090, 1, 'minor event'),\n",
       " (3149, 1, 'minor event'),\n",
       " (3168, 1, 'minor event'),\n",
       " (3174, 1, 'minor event'),\n",
       " (3193, 3, 'intermediate event'),\n",
       " (3207, 1, 'minor event'),\n",
       " (3304, 1, 'minor event'),\n",
       " (3314, 3, 'intermediate event'),\n",
       " (3374, 1, 'minor event'),\n",
       " (3439, 1, 'minor event'),\n",
       " (3555, 1, 'minor event'),\n",
       " (3567, 1, 'minor event'),\n",
       " (3653, 1, 'minor event'),\n",
       " (3677, 3, 'intermediate event'),\n",
       " (3750, 3, 'intermediate event'),\n",
       " (3797, 1, 'minor event'),\n",
       " (3866, 1, 'minor event'),\n",
       " (3883, 7, 'major event'),\n",
       " (3927, 1, 'minor event'),\n",
       " (4035, 1, 'minor event'),\n",
       " (4044, 3, 'intermediate event'),\n",
       " (4053, 7, 'major event'),\n",
       " (4076, 7, 'major event'),\n",
       " (4086, 3, 'intermediate event'),\n",
       " (4116, 3, 'intermediate event'),\n",
       " (4141, 1, 'minor event'),\n",
       " (4300, 1, 'minor event'),\n",
       " (4388, 3, 'intermediate event'),\n",
       " (4405, 3, 'intermediate event'),\n",
       " (4422, 3, 'intermediate event'),\n",
       " (4458, 1, 'minor event'),\n",
       " (4494, 3, 'intermediate event'),\n",
       " (4537, 1, 'minor event'),\n",
       " (4711, 1, 'minor event'),\n",
       " (4760, 1, 'minor event'),\n",
       " (4796, 1, 'minor event'),\n",
       " (4805, 1, 'minor event'),\n",
       " (4823, 1, 'minor event'),\n",
       " (4866, 3, 'intermediate event'),\n",
       " (4898, 3, 'intermediate event'),\n",
       " (4924, 3, 'intermediate event'),\n",
       " (5133, 1, 'minor event'),\n",
       " (5159, 1, 'minor event'),\n",
       " (5195, 1, 'minor event'),\n",
       " (5199, 3, 'intermediate event'),\n",
       " (5220, 3, 'intermediate event'),\n",
       " (5225, 3, 'intermediate event'),\n",
       " (5263, 1, 'minor event'),\n",
       " (5268, 1, 'minor event'),\n",
       " (5337, 1, 'minor event'),\n",
       " (5367, 3, 'intermediate event'),\n",
       " (5438, 3, 'intermediate event'),\n",
       " (5521, 3, 'intermediate event'),\n",
       " (5573, 7, 'major event'),\n",
       " (5615, 3, 'intermediate event'),\n",
       " (5622, 3, 'intermediate event'),\n",
       " (5802, 3, 'intermediate event'),\n",
       " (5812, 3, 'intermediate event'),\n",
       " (5832, 3, 'intermediate event'),\n",
       " (5851, 3, 'intermediate event'),\n",
       " (5876, 1, 'minor event'),\n",
       " (5889, 3, 'intermediate event'),\n",
       " (5922, 1, 'minor event'),\n",
       " (6021, 7, 'major event'),\n",
       " (6104, 3, 'intermediate event'),\n",
       " (6171, 1, 'minor event'),\n",
       " (6214, 1, 'minor event'),\n",
       " (6233, 3, 'intermediate event'),\n",
       " (6274, 1, 'minor event'),\n",
       " (6344, 1, 'minor event'),\n",
       " (6349, 3, 'intermediate event'),\n",
       " (6442, 1, 'minor event'),\n",
       " (6504, 1, 'minor event'),\n",
       " (6543, 3, 'intermediate event'),\n",
       " (6655, 14, 'catastrophic event'),\n",
       " (6860, 1, 'minor event'),\n",
       " (6889, 7, 'major event'),\n",
       " (6943, 1, 'minor event'),\n",
       " (6991, 1, 'minor event'),\n",
       " (7154, 3, 'intermediate event'),\n",
       " (7219, 1, 'minor event'),\n",
       " (7225, 1, 'minor event'),\n",
       " (7246, 3, 'intermediate event'),\n",
       " (7270, 3, 'intermediate event')]"
      ]
     },
     "execution_count": 5,
     "metadata": {},
     "output_type": "execute_result"
    }
   ],
   "source": [
    "observatory.unscheduledDowntime_model.downtimes\n",
    "# night, number of nights down, reason"
   ]
  },
  {
   "cell_type": "code",
   "execution_count": 6,
   "metadata": {},
   "outputs": [
    {
     "data": {
      "text/plain": [
       "[48,\n",
       " 49,\n",
       " 50,\n",
       " 127,\n",
       " 158,\n",
       " 159,\n",
       " 160,\n",
       " 161,\n",
       " 162,\n",
       " 163,\n",
       " 164,\n",
       " 230,\n",
       " 233,\n",
       " 299,\n",
       " 307,\n",
       " 308,\n",
       " 309,\n",
       " 310,\n",
       " 311,\n",
       " 312,\n",
       " 313,\n",
       " 355,\n",
       " 386,\n",
       " 387,\n",
       " 388,\n",
       " 389,\n",
       " 390,\n",
       " 391,\n",
       " 392,\n",
       " 397,\n",
       " 413,\n",
       " 507,\n",
       " 523,\n",
       " 524,\n",
       " 525,\n",
       " 526,\n",
       " 527,\n",
       " 528,\n",
       " 529,\n",
       " 530,\n",
       " 552,\n",
       " 649,\n",
       " 672,\n",
       " 673,\n",
       " 674,\n",
       " 675,\n",
       " 676,\n",
       " 677,\n",
       " 678,\n",
       " 748,\n",
       " 749,\n",
       " 750,\n",
       " 792,\n",
       " 793,\n",
       " 794,\n",
       " 872,\n",
       " 888,\n",
       " 889,\n",
       " 890,\n",
       " 891,\n",
       " 892,\n",
       " 893,\n",
       " 894,\n",
       " 895,\n",
       " 896,\n",
       " 897,\n",
       " 898,\n",
       " 899,\n",
       " 900,\n",
       " 901,\n",
       " 1051,\n",
       " 1052,\n",
       " 1053,\n",
       " 1054,\n",
       " 1055,\n",
       " 1056,\n",
       " 1057,\n",
       " 1060,\n",
       " 1161,\n",
       " 1163,\n",
       " 1164,\n",
       " 1165,\n",
       " 1203,\n",
       " 1232,\n",
       " 1253,\n",
       " 1254,\n",
       " 1255,\n",
       " 1256,\n",
       " 1257,\n",
       " 1258,\n",
       " 1259,\n",
       " 1307,\n",
       " 1308,\n",
       " 1309,\n",
       " 1337,\n",
       " 1396,\n",
       " 1402,\n",
       " 1403,\n",
       " 1404,\n",
       " 1405,\n",
       " 1406,\n",
       " 1407,\n",
       " 1408,\n",
       " 1411,\n",
       " 1412,\n",
       " 1413,\n",
       " 1444,\n",
       " 1465,\n",
       " 1466,\n",
       " 1467,\n",
       " 1618,\n",
       " 1619,\n",
       " 1620,\n",
       " 1621,\n",
       " 1622,\n",
       " 1623,\n",
       " 1624,\n",
       " 1625,\n",
       " 1626,\n",
       " 1626,\n",
       " 1627,\n",
       " 1628,\n",
       " 1629,\n",
       " 1630,\n",
       " 1631,\n",
       " 1650,\n",
       " 1916,\n",
       " 1917,\n",
       " 1918,\n",
       " 1919,\n",
       " 1920,\n",
       " 1921,\n",
       " 1922,\n",
       " 1983,\n",
       " 1984,\n",
       " 1985,\n",
       " 1986,\n",
       " 1987,\n",
       " 1988,\n",
       " 1989,\n",
       " 2046,\n",
       " 2132,\n",
       " 2133,\n",
       " 2134,\n",
       " 2135,\n",
       " 2136,\n",
       " 2137,\n",
       " 2138,\n",
       " 2218,\n",
       " 2262,\n",
       " 2348,\n",
       " 2349,\n",
       " 2350,\n",
       " 2351,\n",
       " 2352,\n",
       " 2353,\n",
       " 2354,\n",
       " 2355,\n",
       " 2356,\n",
       " 2357,\n",
       " 2358,\n",
       " 2359,\n",
       " 2360,\n",
       " 2361,\n",
       " 2383,\n",
       " 2384,\n",
       " 2385,\n",
       " 2396,\n",
       " 2397,\n",
       " 2398,\n",
       " 2463,\n",
       " 2563,\n",
       " 2617,\n",
       " 2712,\n",
       " 2713,\n",
       " 2713,\n",
       " 2714,\n",
       " 2714,\n",
       " 2715,\n",
       " 2716,\n",
       " 2717,\n",
       " 2718,\n",
       " 2719,\n",
       " 2729,\n",
       " 2730,\n",
       " 2731,\n",
       " 2732,\n",
       " 2733,\n",
       " 2734,\n",
       " 2735,\n",
       " 2736,\n",
       " 2737,\n",
       " 2738,\n",
       " 2739,\n",
       " 2740,\n",
       " 2741,\n",
       " 2742,\n",
       " 2771,\n",
       " 2772,\n",
       " 2773,\n",
       " 2774,\n",
       " 2775,\n",
       " 2776,\n",
       " 2777,\n",
       " 2782,\n",
       " 2821,\n",
       " 2846,\n",
       " 2857,\n",
       " 2862,\n",
       " 2863,\n",
       " 2864,\n",
       " 2865,\n",
       " 2866,\n",
       " 2867,\n",
       " 2868,\n",
       " 2958,\n",
       " 2959,\n",
       " 2960,\n",
       " 3021,\n",
       " 3029,\n",
       " 3030,\n",
       " 3031,\n",
       " 3032,\n",
       " 3033,\n",
       " 3034,\n",
       " 3035,\n",
       " 3078,\n",
       " 3079,\n",
       " 3080,\n",
       " 3081,\n",
       " 3082,\n",
       " 3083,\n",
       " 3084,\n",
       " 3085,\n",
       " 3086,\n",
       " 3087,\n",
       " 3088,\n",
       " 3089,\n",
       " 3090,\n",
       " 3090,\n",
       " 3091,\n",
       " 3149,\n",
       " 3168,\n",
       " 3174,\n",
       " 3193,\n",
       " 3194,\n",
       " 3195,\n",
       " 3207,\n",
       " 3304,\n",
       " 3314,\n",
       " 3315,\n",
       " 3316,\n",
       " 3374,\n",
       " 3439,\n",
       " 3443,\n",
       " 3444,\n",
       " 3445,\n",
       " 3446,\n",
       " 3447,\n",
       " 3448,\n",
       " 3449,\n",
       " 3555,\n",
       " 3567,\n",
       " 3592,\n",
       " 3593,\n",
       " 3594,\n",
       " 3595,\n",
       " 3596,\n",
       " 3597,\n",
       " 3598,\n",
       " 3653,\n",
       " 3677,\n",
       " 3678,\n",
       " 3679,\n",
       " 3750,\n",
       " 3751,\n",
       " 3752,\n",
       " 3797,\n",
       " 3808,\n",
       " 3809,\n",
       " 3810,\n",
       " 3811,\n",
       " 3812,\n",
       " 3813,\n",
       " 3814,\n",
       " 3815,\n",
       " 3816,\n",
       " 3817,\n",
       " 3818,\n",
       " 3819,\n",
       " 3820,\n",
       " 3821,\n",
       " 3866,\n",
       " 3883,\n",
       " 3884,\n",
       " 3885,\n",
       " 3886,\n",
       " 3887,\n",
       " 3888,\n",
       " 3889,\n",
       " 3927,\n",
       " 4035,\n",
       " 4044,\n",
       " 4045,\n",
       " 4046,\n",
       " 4053,\n",
       " 4054,\n",
       " 4055,\n",
       " 4056,\n",
       " 4057,\n",
       " 4058,\n",
       " 4059,\n",
       " 4076,\n",
       " 4077,\n",
       " 4078,\n",
       " 4079,\n",
       " 4080,\n",
       " 4081,\n",
       " 4082,\n",
       " 4086,\n",
       " 4087,\n",
       " 4088,\n",
       " 4116,\n",
       " 4117,\n",
       " 4118,\n",
       " 4141,\n",
       " 4173,\n",
       " 4174,\n",
       " 4175,\n",
       " 4176,\n",
       " 4177,\n",
       " 4178,\n",
       " 4179,\n",
       " 4300,\n",
       " 4322,\n",
       " 4323,\n",
       " 4324,\n",
       " 4325,\n",
       " 4326,\n",
       " 4327,\n",
       " 4328,\n",
       " 4388,\n",
       " 4389,\n",
       " 4390,\n",
       " 4405,\n",
       " 4406,\n",
       " 4407,\n",
       " 4422,\n",
       " 4423,\n",
       " 4424,\n",
       " 4458,\n",
       " 4494,\n",
       " 4495,\n",
       " 4496,\n",
       " 4537,\n",
       " 4538,\n",
       " 4539,\n",
       " 4540,\n",
       " 4541,\n",
       " 4542,\n",
       " 4543,\n",
       " 4544,\n",
       " 4545,\n",
       " 4546,\n",
       " 4547,\n",
       " 4548,\n",
       " 4549,\n",
       " 4550,\n",
       " 4551,\n",
       " 4711,\n",
       " 4760,\n",
       " 4796,\n",
       " 4805,\n",
       " 4823,\n",
       " 4866,\n",
       " 4867,\n",
       " 4868,\n",
       " 4898,\n",
       " 4899,\n",
       " 4900,\n",
       " 4903,\n",
       " 4904,\n",
       " 4905,\n",
       " 4906,\n",
       " 4907,\n",
       " 4908,\n",
       " 4909,\n",
       " 4924,\n",
       " 4925,\n",
       " 4926,\n",
       " 5052,\n",
       " 5053,\n",
       " 5054,\n",
       " 5055,\n",
       " 5056,\n",
       " 5057,\n",
       " 5058,\n",
       " 5133,\n",
       " 5159,\n",
       " 5195,\n",
       " 5199,\n",
       " 5200,\n",
       " 5201,\n",
       " 5220,\n",
       " 5221,\n",
       " 5222,\n",
       " 5225,\n",
       " 5226,\n",
       " 5227,\n",
       " 5263,\n",
       " 5268,\n",
       " 5268,\n",
       " 5269,\n",
       " 5270,\n",
       " 5271,\n",
       " 5272,\n",
       " 5273,\n",
       " 5274,\n",
       " 5275,\n",
       " 5276,\n",
       " 5277,\n",
       " 5278,\n",
       " 5279,\n",
       " 5280,\n",
       " 5281,\n",
       " 5337,\n",
       " 5367,\n",
       " 5368,\n",
       " 5369,\n",
       " 5438,\n",
       " 5439,\n",
       " 5440,\n",
       " 5521,\n",
       " 5522,\n",
       " 5523,\n",
       " 5573,\n",
       " 5574,\n",
       " 5575,\n",
       " 5576,\n",
       " 5577,\n",
       " 5578,\n",
       " 5579,\n",
       " 5615,\n",
       " 5616,\n",
       " 5617,\n",
       " 5622,\n",
       " 5623,\n",
       " 5624,\n",
       " 5633,\n",
       " 5634,\n",
       " 5635,\n",
       " 5636,\n",
       " 5637,\n",
       " 5638,\n",
       " 5639,\n",
       " 5782,\n",
       " 5783,\n",
       " 5784,\n",
       " 5785,\n",
       " 5786,\n",
       " 5787,\n",
       " 5788,\n",
       " 5802,\n",
       " 5803,\n",
       " 5804,\n",
       " 5812,\n",
       " 5813,\n",
       " 5814,\n",
       " 5832,\n",
       " 5833,\n",
       " 5834,\n",
       " 5851,\n",
       " 5852,\n",
       " 5853,\n",
       " 5876,\n",
       " 5889,\n",
       " 5890,\n",
       " 5891,\n",
       " 5922,\n",
       " 5998,\n",
       " 5999,\n",
       " 6000,\n",
       " 6001,\n",
       " 6002,\n",
       " 6003,\n",
       " 6004,\n",
       " 6005,\n",
       " 6006,\n",
       " 6007,\n",
       " 6008,\n",
       " 6009,\n",
       " 6010,\n",
       " 6011,\n",
       " 6021,\n",
       " 6022,\n",
       " 6023,\n",
       " 6024,\n",
       " 6025,\n",
       " 6026,\n",
       " 6027,\n",
       " 6104,\n",
       " 6105,\n",
       " 6106,\n",
       " 6171,\n",
       " 6214,\n",
       " 6233,\n",
       " 6234,\n",
       " 6235,\n",
       " 6274,\n",
       " 6344,\n",
       " 6349,\n",
       " 6350,\n",
       " 6351,\n",
       " 6363,\n",
       " 6364,\n",
       " 6365,\n",
       " 6366,\n",
       " 6367,\n",
       " 6368,\n",
       " 6369,\n",
       " 6442,\n",
       " 6504,\n",
       " 6512,\n",
       " 6513,\n",
       " 6514,\n",
       " 6515,\n",
       " 6516,\n",
       " 6517,\n",
       " 6518,\n",
       " 6543,\n",
       " 6544,\n",
       " 6545,\n",
       " 6655,\n",
       " 6656,\n",
       " 6657,\n",
       " 6658,\n",
       " 6659,\n",
       " 6660,\n",
       " 6661,\n",
       " 6662,\n",
       " 6663,\n",
       " 6664,\n",
       " 6665,\n",
       " 6666,\n",
       " 6667,\n",
       " 6668,\n",
       " 6728,\n",
       " 6729,\n",
       " 6730,\n",
       " 6731,\n",
       " 6732,\n",
       " 6733,\n",
       " 6734,\n",
       " 6735,\n",
       " 6736,\n",
       " 6737,\n",
       " 6738,\n",
       " 6739,\n",
       " 6740,\n",
       " 6741,\n",
       " 6860,\n",
       " 6889,\n",
       " 6890,\n",
       " 6891,\n",
       " 6892,\n",
       " 6893,\n",
       " 6894,\n",
       " 6895,\n",
       " 6943,\n",
       " 6991,\n",
       " 7093,\n",
       " 7094,\n",
       " 7095,\n",
       " 7096,\n",
       " 7097,\n",
       " 7098,\n",
       " 7099,\n",
       " 7154,\n",
       " 7155,\n",
       " 7156,\n",
       " 7219,\n",
       " 7225,\n",
       " 7242,\n",
       " 7243,\n",
       " 7244,\n",
       " 7245,\n",
       " 7246,\n",
       " 7246,\n",
       " 7247,\n",
       " 7247,\n",
       " 7248,\n",
       " 7248,\n",
       " 7270,\n",
       " 7271,\n",
       " 7272]"
      ]
     },
     "execution_count": 6,
     "metadata": {},
     "output_type": "execute_result"
    }
   ],
   "source": [
    "observatory.down_nights"
   ]
  },
  {
   "cell_type": "code",
   "execution_count": 7,
   "metadata": {},
   "outputs": [
    {
     "name": "stdout",
     "output_type": "stream",
     "text": [
      "total number of down nights (not including weather) 595\n"
     ]
    }
   ],
   "source": [
    "print('total number of down nights (not including weather)', np.size(observatory.down_nights))"
   ]
  },
  {
   "cell_type": "code",
   "execution_count": 8,
   "metadata": {},
   "outputs": [
    {
     "name": "stderr",
     "output_type": "stream",
     "text": [
      "WARNING: ErfaWarning: ERFA function \"d2dtf\" yielded 1 of \"dubious year (Note 5)\" [astropy._erfa.core]\n"
     ]
    }
   ],
   "source": [
    "mjd_start=59853.5\n",
    "almanac = Almanac(mjd_start=mjd_start)\n",
    "dth = dummy_time_handler(mjd_start)\n",
    "cloud_model = CloudModel(dth)\n",
    "cloud_model.read_data()\n",
    "        # XXX-argle bargle, really?!?!?\n",
    "cloud_model.offset = 0"
   ]
  },
  {
   "cell_type": "code",
   "execution_count": null,
   "metadata": {},
   "outputs": [],
   "source": []
  },
  {
   "cell_type": "code",
   "execution_count": 9,
   "metadata": {},
   "outputs": [],
   "source": [
    "mjds = np.arange(mjd_start, mjd_start+365.25*10, 1/24/2.)"
   ]
  },
  {
   "cell_type": "code",
   "execution_count": 10,
   "metadata": {},
   "outputs": [],
   "source": [
    "indx = almanac.mjd_indx(mjds)"
   ]
  },
  {
   "cell_type": "code",
   "execution_count": 11,
   "metadata": {},
   "outputs": [],
   "source": [
    "sun_moon_info = almanac.get_sun_moon_positions(mjds)"
   ]
  },
  {
   "cell_type": "code",
   "execution_count": 12,
   "metadata": {},
   "outputs": [],
   "source": [
    "good = np.where(sun_moon_info['sun_alt'] < np.radians(-18.))\n"
   ]
  },
  {
   "cell_type": "code",
   "execution_count": 13,
   "metadata": {},
   "outputs": [],
   "source": [
    "delta_t = (mjds[good]-mjd_start)*24.*3600.\n",
    "clouds = [cloud_model.get_cloud(x) for x in delta_t]"
   ]
  },
  {
   "cell_type": "code",
   "execution_count": 14,
   "metadata": {},
   "outputs": [],
   "source": [
    "cloud_limit = 0.3\n",
    "t_lost = mjds[good]*0\n",
    "t_lost[np.where(np.array(clouds) >= cloud_limit)] = 0.5\n",
    "t_open = t_lost*0\n",
    "t_open[np.where(np.array(clouds) < cloud_limit)] = 0.5"
   ]
  },
  {
   "cell_type": "code",
   "execution_count": 15,
   "metadata": {},
   "outputs": [
    {
     "data": {
      "text/plain": [
       "0.40297371036991603"
      ]
     },
     "execution_count": 15,
     "metadata": {},
     "output_type": "execute_result"
    }
   ],
   "source": [
    "np.sum(t_lost)/np.sum(t_open)"
   ]
  },
  {
   "cell_type": "code",
   "execution_count": 16,
   "metadata": {},
   "outputs": [
    {
     "data": {
      "image/png": "[encoded data removed]",
      "text/plain": [
       "<matplotlib.figure.Figure at 0x1a1fa2f898>"
      ]
     },
     "metadata": {},
     "output_type": "display_data"
    }
   ],
   "source": [
    "bins = np.arange(mjd_start, mjd_start+365.25*10+30, 30)\n",
    "ack = plt.hist(mjds[good], weights=t_lost, bins=bins, alpha=0.5)\n",
    "ack = plt.hist(mjds[good], weights=t_open, bins=bins, alpha=0.5)"
   ]
  },
  {
   "cell_type": "code",
   "execution_count": 17,
   "metadata": {},
   "outputs": [
    {
     "data": {
      "text/plain": [
       "[<matplotlib.lines.Line2D at 0x10bd0ea58>]"
      ]
     },
     "execution_count": 17,
     "metadata": {},
     "output_type": "execute_result"
    },
    {
     "data": {
      "image/png": "[encoded data removed]",
      "text/plain": [
       "<matplotlib.figure.Figure at 0x10bd0ea20>"
      ]
     },
     "metadata": {},
     "output_type": "display_data"
    }
   ],
   "source": [
    "plt.plot(mjds[good], np.cumsum(t_lost))\n",
    "plt.plot(mjds[good], np.cumsum(t_open))"
   ]
  },
  {
   "cell_type": "code",
   "execution_count": 18,
   "metadata": {},
   "outputs": [
    {
     "data": {
      "text/plain": [
       "[<matplotlib.lines.Line2D at 0x1a23db81d0>]"
      ]
     },
     "execution_count": 18,
     "metadata": {},
     "output_type": "execute_result"
    },
    {
     "data": {
      "image/png": "[encoded data removed]",
      "text/plain": [
       "<matplotlib.figure.Figure at 0x1a239320b8>"
      ]
     },
     "metadata": {},
     "output_type": "display_data"
    }
   ],
   "source": [
    "plt.plot((mjds[good]-mjd_start)/365.25, np.cumsum(t_open)/(np.cumsum(t_open)+np.cumsum(t_lost)))"
   ]
  },
  {
   "cell_type": "code",
   "execution_count": 19,
   "metadata": {},
   "outputs": [],
   "source": [
    "lost, bins, bn = binned_statistic(mjds[good], t_lost, bins=bins, statistic='sum')\n",
    "obs, bins, bn = binned_statistic(mjds[good], t_open, bins=bins, statistic='sum')"
   ]
  },
  {
   "cell_type": "code",
   "execution_count": 20,
   "metadata": {},
   "outputs": [
    {
     "data": {
      "text/plain": [
       "array([  12. ,    0. ,   10. ,   45.5,   56.5,  152.5,   80. ,   91. ,\n",
       "        143. ,   38. ,   15. ,    0. ,    9. ,   15.5,   29.5,    3.5,\n",
       "         92.5,  206.5,  125. ,  188.5,  132. ,  160. ,   71. ,   58. ,\n",
       "         17.5,   76. ,   72. ,  122.5,  128.5,  166. ,   77. ,  113.5,\n",
       "         93.5,   55. ,   58. ,    0. ,   50.5,   12.5,   17.5,   17.5,\n",
       "         74. ,  112. ,  156.5,   66.5,  192. ,  126. ,   54. ,    5. ,\n",
       "         22.5,   32.5,   22. ,   28. ,   57. ,   97. ,  181. ,   35. ,\n",
       "        130.5,  110. ,  139. ,   30. ,   23. ,   20. ,   23. ,   48. ,\n",
       "         39. ,  112.5,   88. ,  175.5,  135.5,  121. ,   92. ,   61. ,\n",
       "         23.5,    4.5,   13.5,   23. ,   71. ,  150. ,  133.5,  144. ,\n",
       "        171. ,  159.5,   99.5,   71. ,   44. ,    8. ,   16. ,   23.5,\n",
       "         42. ,   92.5,  161. ,  153. ,   95. ,  115.5,   99.5,  110.5,\n",
       "         30. ,   12.5,    4. ,   35. ,   45.5,   77. ,  108. ,  122.5,\n",
       "        170.5,   71.5,   97.5,  131. ,   80.5,   45. ,   31.5,   68. ,\n",
       "         10. ,  146.5,  145.5,  174. ,  122.5,  191. ,  115.5,   36. ,\n",
       "         10. ,    0. ])"
      ]
     },
     "execution_count": 20,
     "metadata": {},
     "output_type": "execute_result"
    }
   ],
   "source": [
    "lost"
   ]
  },
  {
   "cell_type": "code",
   "execution_count": 21,
   "metadata": {},
   "outputs": [
    {
     "data": {
      "text/plain": [
       "array([ 239. ,  222. ,  191. ,  168.5,  182. ,  116. ,  219. ,  229. ,\n",
       "        187. ,  291.5,  291.5,  290. ,  247.5,  211.5,  171. ,  208. ,\n",
       "        141. ,   57. ,  171.5,  126.5,  198. ,  170. ,  240. ,  235.5,\n",
       "        244. ,  156. ,  131. ,   87.5,   98.5,   94.5,  214.5,  195.5,\n",
       "        236.5,  275. ,  258.5,  296.5,  216.5,  224.5,  190. ,  190.5,\n",
       "        147. ,  143.5,  129. ,  240. ,  135.5,  204. ,  268. ,  294. ,\n",
       "        250. ,  209.5,  191. ,  177.5,  161.5,  151. ,   99.5,  269. ,\n",
       "        194.5,  220. ,  186. ,  272. ,  256. ,  227. ,  195. ,  155. ,\n",
       "        177. ,  130. ,  185.5,  126. ,  187. ,  209. ,  235.5,  243.5,\n",
       "        262.5,  248.5,  210.5,  177. ,  142. ,   87.5,  133.5,  154.5,\n",
       "        147. ,  170.5,  230.5,  236.5,  247.5,  250.5,  212. ,  177.5,\n",
       "        168.5,  139. ,  101.5,  142. ,  218. ,  214.5,  230.5,  202. ,\n",
       "        264.5,  251. ,  229. ,  169. ,  164.5,  148. ,  151.5,  167. ,\n",
       "        138. ,  258. ,  232.5,  187. ,  216.5,  223.5,  206.5,  141. ,\n",
       "        197.5,   74. ,  108.5,  110.5,  183.5,  136. ,  214.5,  287. ,\n",
       "        289.5,  205.5])"
      ]
     },
     "execution_count": 21,
     "metadata": {},
     "output_type": "execute_result"
    }
   ],
   "source": [
    "obs"
   ]
  },
  {
   "cell_type": "code",
   "execution_count": 22,
   "metadata": {},
   "outputs": [
    {
     "data": {
      "text/plain": [
       "[<matplotlib.lines.Line2D at 0x1a240e0d30>]"
      ]
     },
     "execution_count": 22,
     "metadata": {},
     "output_type": "execute_result"
    },
    {
     "data": {
      "image/png": "[encoded data removed]",
      "text/plain": [
       "<matplotlib.figure.Figure at 0x191f2941d0>"
      ]
     },
     "metadata": {},
     "output_type": "display_data"
    }
   ],
   "source": [
    "plt.plot(lost/(lost+obs))\n"
   ]
  },
  {
   "cell_type": "code",
   "execution_count": 23,
   "metadata": {},
   "outputs": [
    {
     "data": {
      "text/plain": [
       "952.64999999999998"
      ]
     },
     "execution_count": 23,
     "metadata": {},
     "output_type": "execute_result"
    }
   ],
   "source": [
    "np.sum(t_lost)/10."
   ]
  },
  {
   "cell_type": "code",
   "execution_count": 24,
   "metadata": {},
   "outputs": [
    {
     "data": {
      "text/plain": [
       "915"
      ]
     },
     "execution_count": 24,
     "metadata": {},
     "output_type": "execute_result"
    }
   ],
   "source": [
    "# Just reading from Gemini\n",
    "from_plot = 100+90+60+25+40+40+40+60+140+160+160\n",
    "from_plot"
   ]
  },
  {
   "cell_type": "code",
   "execution_count": 25,
   "metadata": {},
   "outputs": [
    {
     "data": {
      "text/plain": [
       "array([ 0.   ,  0.125,  0.25 ,  0.375,  0.5  ,  0.625,  0.75 ,  0.875,  1.   ])"
      ]
     },
     "execution_count": 25,
     "metadata": {},
     "output_type": "execute_result"
    }
   ],
   "source": [
    "np.unique(clouds)"
   ]
  },
  {
   "cell_type": "code",
   "execution_count": 26,
   "metadata": {},
   "outputs": [
    {
     "name": "stdout",
     "output_type": "stream",
     "text": [
      "0.3 952.65\n",
      "0.49 790.15\n",
      "0.7 561.5\n"
     ]
    }
   ],
   "source": [
    "for cloud_limit in [0.3, 0.49, 0.7]:\n",
    "\n",
    "    t_lost = mjds[good]*0\n",
    "    t_lost[np.where(np.array(clouds) >= cloud_limit)] = 0.5\n",
    "    t_open = t_lost*0\n",
    "    t_open[np.where(np.array(clouds) < cloud_limit)] = 0.5\n",
    "    print(cloud_limit, np.sum(t_lost)/10.)"
   ]
  },
  {
   "cell_type": "code",
   "execution_count": 27,
   "metadata": {},
   "outputs": [
    {
     "name": "stdout",
     "output_type": "stream",
     "text": [
      "mean weather loss percent from SOAR 22.9\n"
     ]
    }
   ],
   "source": [
    "# stats from http://www.ctio.noao.edu/soar/content/soar-observing-statistics\n",
    "soar_per = np.array([16.5, 21.6, 33.4, 27.7, 15.3])\n",
    "print('mean weather loss percent from SOAR', soar_per.mean())"
   ]
  },
  {
   "cell_type": "code",
   "execution_count": null,
   "metadata": {},
   "outputs": [],
   "source": []
  }
 ],
 "metadata": {
  "kernelspec": {
   "display_name": "Python 3",
   "language": "python",
   "name": "python3"
  },
  "language_info": {
   "codemirror_mode": {
    "name": "ipython",
    "version": 3
   },
   "file_extension": ".py",
   "mimetype": "text/x-python",
   "name": "python",
   "nbconvert_exporter": "python",
   "pygments_lexer": "ipython3",
   "version": "3.6.2"
  }
 },
 "nbformat": 4,
 "nbformat_minor": 2
}
