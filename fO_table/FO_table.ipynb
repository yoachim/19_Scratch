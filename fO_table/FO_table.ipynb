{
 "cells": [
  {
   "cell_type": "code",
   "execution_count": 1,
   "metadata": {},
   "outputs": [],
   "source": [
    "import numpy as np\n",
    "import pandas as pd\n",
    "import sqlite3\n",
    "import os"
   ]
  },
  {
   "cell_type": "code",
   "execution_count": 2,
   "metadata": {},
   "outputs": [],
   "source": [
    "v13_path = '/Users/yoachim/Temp/sims_featureScheduler_runs_1.3/maf'\n",
    "v13_dirs = ['baseline_2snap_v1.3_10yrs',\n",
    "            'baseline_nomix_v1.3_10yrs',\n",
    "            'baseline_v1.3_10yrs',\n",
    "            'baseline_v1.3_1yrs',\n",
    "           'wfd_95_v1.3_10yrs',\n",
    "           'wfd_90_v1.3_10yrs',\n",
    "           'wfd_85_v1.3_10yrs',\n",
    "           'wfd_80_v1.3_10yrs',\n",
    "           'wfd_75_v1.3_10yrs',\n",
    "           'wfd_70_v1.3_10yrs',\n",
    "           'wfd_65_v1.3_10yrs',\n",
    "           'delayedrolling_mod2_sdf_0.10_v1.3_10yrs']\n",
    "\n",
    "dirs = [os.path.join(v13_path, filename) for filename in v13_dirs]\n",
    "snaps = [1]*len(v13_dirs)\n",
    "snaps[0] = 2\n",
    "pairs = ['mixed']*len(v13_dirs)\n",
    "pairs[1] = 'same'\n",
    "\n",
    "dirs.append('/Users/yoachim/Temp/old_runs/baseline2018a_note')\n",
    "snaps.append(2)\n",
    "pairs.append('same')"
   ]
  },
  {
   "cell_type": "code",
   "execution_count": 3,
   "metadata": {},
   "outputs": [],
   "source": [
    "v12_path = '/Users/yoachim/gitRepos/sims_featureScheduler_runs/baselines'\n",
    "v12_dirs = ['baseline_1exp_pairsame_10yrs',\n",
    "           'baseline_1exp_pairsmix_10yrs',\n",
    "           'baseline_2exp_pairsame_10yrs',\n",
    "           'baseline_2exp_pairsmix_10yrs']\n",
    "\n",
    "for directory in v12_dirs:\n",
    "    dirs.append(os.path.join(v12_path, directory))\n",
    "    \n",
    "snaps.extend([1,1,2,2])\n",
    "pairs.extend(['same', 'mixed', 'same', 'mixed'])"
   ]
  },
  {
   "cell_type": "code",
   "execution_count": 4,
   "metadata": {},
   "outputs": [],
   "source": [
    "results = {'fONv MedianNvis':[], 'fOArea': [], 'osf':[], 'nexp':[], 'fONv MinNvis':[]}\n",
    "for directory in dirs:\n",
    "    conn = sqlite3.connect(os.path.join(directory, 'resultsDb_sqlite.db'))\n",
    "    df = pd.read_sql('select summaryValue from summarystats where summaryName=\"fONv MedianNvis\";', conn)\n",
    "    results['fONv MedianNvis'].append(np.max(df.values))\n",
    "    \n",
    "    df = pd.read_sql('select summaryValue from summarystats where summaryName=\"fOArea\";', conn)\n",
    "    results['fOArea'].append(np.max(df.values))\n",
    "    \n",
    "    df = pd.read_sql('select summaryValue from summarystats where metricid=3;', conn)\n",
    "    results['osf'].append(np.max(df.values))\n",
    "    \n",
    "    df = pd.read_sql('select summaryValue from summarystats where metricid=5;', conn)\n",
    "    results['nexp'].append(np.max(df.values))\n",
    "    \n",
    "    df = pd.read_sql('select summaryValue from summarystats where summaryName=\"fONv MinNvis\";', conn)\n",
    "    results['fONv MinNvis'].append(np.max(df.values))\n",
    "    \n",
    "    conn.close()"
   ]
  },
  {
   "cell_type": "code",
   "execution_count": null,
   "metadata": {},
   "outputs": [],
   "source": [
    "\n"
   ]
  },
  {
   "cell_type": "code",
   "execution_count": 5,
   "metadata": {},
   "outputs": [
    {
     "name": "stdout",
     "output_type": "stream",
     "text": [
      "| Run Name  |    fONv MedianNvis |fOArea |osf |nexp |fONv MinNvis |snaps |pairs |\n",
      "| -- | -- | -- | -- | --| --| --|--|\n",
      "| baseline_2snap_v1.3_10yrs |   828.000  |   10052.220  |   0.703  |   2019329.000  |   767.000  |  2 |  mixed |\n",
      "| baseline_nomix_v1.3_10yrs |   915.000  |   18127.064  |   0.776  |   2230670.000  |   847.000  |  1 |  same |\n",
      "| baseline_v1.3_10yrs |   900.000  |   18090.135  |   0.759  |   2182491.000  |   834.000  |  1 |  mixed |\n",
      "| baseline_v1.3_1yrs |   94.000  |   67.983  |   0.767  |   228046.000  |   69.000  |  1 |  mixed |\n",
      "| wfd_95_v1.3_10yrs |   1040.000  |   18404.031  |   0.762  |   2190893.000  |   970.000  |  1 |  mixed |\n",
      "| wfd_90_v1.3_10yrs |   1001.000  |   18298.280  |   0.762  |   2189357.000  |   931.000  |  1 |  mixed |\n",
      "| wfd_85_v1.3_10yrs |   962.000  |   18218.547  |   0.762  |   2189452.000  |   894.000  |  1 |  mixed |\n",
      "| wfd_80_v1.3_10yrs |   922.000  |   18212.672  |   0.762  |   2190844.000  |   857.000  |  1 |  mixed |\n",
      "| wfd_75_v1.3_10yrs |   884.000  |   18088.457  |   0.763  |   2192487.000  |   827.000  |  1 |  mixed |\n",
      "| wfd_70_v1.3_10yrs |   851.000  |   15814.810  |   0.763  |   2193207.000  |   813.000  |  1 |  mixed |\n",
      "| wfd_65_v1.3_10yrs |   831.000  |   10551.600  |   0.764  |   2194390.000  |   795.000  |  1 |  mixed |\n",
      "| delayedrolling_mod2_sdf_0.10_v1.3_10yrs |   880.000  |   16123.670  |   0.763  |   2192506.000  |   788.000  |  1 |  mixed |\n",
      "| baseline2018a_note |   915.000  |   18056.563  |   0.716  |   2372700.000  |   836.000  |  2 |  same |\n",
      "| baseline_1exp_pairsame_10yrs |   986.000  |   18226.940  |   0.785  |   2263993.000  |   914.000  |  1 |  same |\n",
      "| baseline_1exp_pairsmix_10yrs |   963.000  |   18186.654  |   0.768  |   2216026.000  |   895.000  |  1 |  mixed |\n",
      "| baseline_2exp_pairsame_10yrs |   907.000  |   18096.850  |   0.725  |   2092909.000  |   839.000  |  2 |  same |\n",
      "| baseline_2exp_pairsmix_10yrs |   887.000  |   17942.420  |   0.710  |   2048865.000  |   821.000  |  2 |  mixed |\n"
     ]
    }
   ],
   "source": [
    "keys = list(results.keys())\n",
    "header = '| Run Name  |    '\n",
    "for key in keys:\n",
    "    header+= '%s |' % key\n",
    "\n",
    "header += 'snaps |'\n",
    "header += 'pairs |'\n",
    "print(header)\n",
    "print('| -- | -- | -- | -- | --| --| --|--|')\n",
    "for i in range(len(dirs)):\n",
    "    rn = os.path.basename(dirs[i])\n",
    "    out = '| '\n",
    "    out += rn +' |'\n",
    "    for key in keys:\n",
    "        out +='   %.3f  |' % results[key][i]\n",
    "    out += '  %i |' % snaps[i]\n",
    "    out += '  %s |' % pairs[i]\n",
    "    print(out)\n",
    "    "
   ]
  },
  {
   "cell_type": "markdown",
   "metadata": {},
   "source": [
    "| Run Name  |    fONv MedianNvis |fOArea |osf |nexp |fONv MinNvis |snaps |pairs |\n",
    "| -- | -- | -- | -- | --| --| --|--|\n",
    "| baseline_2snap_v1.3_10yrs |   828.000  |   10052.220  |   0.703  |   2019329.000  |   767.000  |  2 |  mixed |\n",
    "| baseline_nomix_v1.3_10yrs |   915.000  |   18127.064  |   0.776  |   2230670.000  |   847.000  |  1 |  same |\n",
    "| baseline_v1.3_10yrs |   900.000  |   18090.135  |   0.759  |   2182491.000  |   834.000  |  1 |  mixed |\n",
    "| baseline_v1.3_1yrs |   94.000  |   67.983  |   0.767  |   228046.000  |   69.000  |  1 |  mixed |\n",
    "| wfd_95_v1.3_10yrs |   1040.000  |   18404.031  |   0.762  |   2190893.000  |   970.000  |  1 |  mixed |\n",
    "| wfd_90_v1.3_10yrs |   1001.000  |   18298.280  |   0.762  |   2189357.000  |   931.000  |  1 |  mixed |\n",
    "| wfd_85_v1.3_10yrs |   962.000  |   18218.547  |   0.762  |   2189452.000  |   894.000  |  1 |  mixed |\n",
    "| wfd_80_v1.3_10yrs |   922.000  |   18212.672  |   0.762  |   2190844.000  |   857.000  |  1 |  mixed |\n",
    "| wfd_75_v1.3_10yrs |   884.000  |   18088.457  |   0.763  |   2192487.000  |   827.000  |  1 |  mixed |\n",
    "| wfd_70_v1.3_10yrs |   851.000  |   15814.810  |   0.763  |   2193207.000  |   813.000  |  1 |  mixed |\n",
    "| wfd_65_v1.3_10yrs |   831.000  |   10551.600  |   0.764  |   2194390.000  |   795.000  |  1 |  mixed |\n",
    "| delayedrolling_mod2_sdf_0.10_v1.3_10yrs |   880.000  |   16123.670  |   0.763  |   2192506.000  |   788.000  |  1 |  mixed |\n",
    "| baseline2018a_note |   915.000  |   18056.563  |   0.716  |   2372700.000  |   836.000  |  2 |  same |\n",
    "| baseline_1exp_pairsame_10yrs |   986.000  |   18226.940  |   0.785  |   2263993.000  |   914.000  |  1 |  same |\n",
    "| baseline_1exp_pairsmix_10yrs |   963.000  |   18186.654  |   0.768  |   2216026.000  |   895.000  |  1 |  mixed |\n",
    "| baseline_2exp_pairsame_10yrs |   907.000  |   18096.850  |   0.725  |   2092909.000  |   839.000  |  2 |  same |\n",
    "| baseline_2exp_pairsmix_10yrs |   887.000  |   17942.420  |   0.710  |   2048865.000  |   821.000  |  2 |  mixed |"
   ]
  },
  {
   "cell_type": "code",
   "execution_count": null,
   "metadata": {},
   "outputs": [],
   "source": []
  }
 ],
 "metadata": {
  "kernelspec": {
   "display_name": "Python 3",
   "language": "python",
   "name": "python3"
  },
  "language_info": {
   "codemirror_mode": {
    "name": "ipython",
    "version": 3
   },
   "file_extension": ".py",
   "mimetype": "text/x-python",
   "name": "python",
   "nbconvert_exporter": "python",
   "pygments_lexer": "ipython3",
   "version": "3.6.2"
  }
 },
 "nbformat": 4,
 "nbformat_minor": 2
}
