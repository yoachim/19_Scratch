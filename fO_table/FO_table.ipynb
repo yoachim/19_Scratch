{
 "cells": [
  {
   "cell_type": "code",
   "execution_count": 1,
   "metadata": {},
   "outputs": [],
   "source": [
    "import numpy as np\n",
    "import pandas as pd\n",
    "import sqlite3\n",
    "import os\n",
    "import matplotlib.pylab as plt\n",
    "%matplotlib inline"
   ]
  },
  {
   "cell_type": "code",
   "execution_count": 2,
   "metadata": {},
   "outputs": [],
   "source": [
    "v13_path = '/Users/yoachim/runs13/'\n",
    "v13_dirs = ['baseline/baseline_2snap_v1.3_10yrs',\n",
    "            #'baseline/baseline_nomix_v1.3_10yrs',\n",
    "            'baseline/baseline_v1.3_10yrs',\n",
    "           'wfd_depth/wfd_95_v1.3_10yrs',\n",
    "           'wfd_depth/wfd_90_v1.3_10yrs',\n",
    "           'wfd_depth/wfd_85_v1.3_10yrs',\n",
    "           'wfd_depth/wfd_80_v1.3_10yrs',\n",
    "           'wfd_depth/wfd_75_v1.3_10yrs',\n",
    "           'wfd_depth/wfd_70_v1.3_10yrs',\n",
    "           'wfd_depth/wfd_65_v1.3_10yrs',\n",
    "           'rolling_cadence/delayedrolling_mod2_sdf_0.10_v1.3_10yrs']\n",
    "\n",
    "dirs = [os.path.join(v13_path, filename) for filename in v13_dirs]\n",
    "snaps = [1]*len(v13_dirs)\n",
    "snaps[0] = 2\n",
    "pairs = ['mixed']*len(v13_dirs)\n",
    "pairs[1] = 'same'\n",
    "\n",
    "#dirs.append('/Users/yoachim/Temp/old_runs/baseline2018a_note')\n",
    "#snaps.append(2)\n",
    "#pairs.append('same')"
   ]
  },
  {
   "cell_type": "code",
   "execution_count": 3,
   "metadata": {},
   "outputs": [],
   "source": [
    "more_path = '/Users/yoachim/gitRepos/sims_featureScheduler_runs_1.3/wfd_only'\n",
    "more_dirs = ['wfd_only_2snap_v1.3_10yrs', 'wfd_only_nomix_v1.3_10yrs', 'wfd_only_v1.3_10yrs']\n",
    "snaps.extend([2,1,1])\n",
    "pairs.extend(['mixed', 'same', 'mixed'])\n",
    "to_add = [os.path.join(more_path, fn) for fn in more_dirs]\n",
    "dirs.extend(to_add)\n"
   ]
  },
  {
   "cell_type": "code",
   "execution_count": 4,
   "metadata": {},
   "outputs": [],
   "source": [
    "v12_path = '/Users/yoachim/gitRepos/sims_featureScheduler_runs/baselines'\n",
    "v12_dirs = ['baseline_1exp_pairsame_10yrs',\n",
    "           'baseline_1exp_pairsmix_10yrs',\n",
    "           'baseline_2exp_pairsame_10yrs',\n",
    "           'baseline_2exp_pairsmix_10yrs']\n",
    "\n",
    "for directory in v12_dirs:\n",
    "    dirs.append(os.path.join(v12_path, directory))\n",
    "    \n",
    "snaps.extend([1,1,2,2])\n",
    "pairs.extend(['same', 'mixed', 'same', 'mixed'])"
   ]
  },
  {
   "cell_type": "code",
   "execution_count": 5,
   "metadata": {},
   "outputs": [],
   "source": [
    "results = {'fONv MedianNvis':[], 'fOArea': [], 'osf':[], 'nexp':[], 'fONv MinNvis':[]}\n",
    "for directory in dirs:\n",
    "    conn = sqlite3.connect(os.path.join(directory, 'resultsDb_sqlite.db'))\n",
    "    df = pd.read_sql('select summaryValue from summarystats where summaryName=\"fONv MedianNvis\";', conn)\n",
    "    results['fONv MedianNvis'].append(np.max(df.values))\n",
    "    \n",
    "    df = pd.read_sql('select summaryValue from summarystats where summaryName=\"fOArea\";', conn)\n",
    "    results['fOArea'].append(np.max(df.values))\n",
    "    \n",
    "    df = pd.read_sql('select summaryValue from summarystats where metricid=3;', conn)\n",
    "    results['osf'].append(np.max(df.values))\n",
    "    \n",
    "    df = pd.read_sql('select summaryValue from summarystats where metricid=5;', conn)\n",
    "    results['nexp'].append(np.max(df.values))\n",
    "    \n",
    "    df = pd.read_sql('select summaryValue from summarystats where summaryName=\"fONv MinNvis\";', conn)\n",
    "    results['fONv MinNvis'].append(np.max(df.values))\n",
    "    \n",
    "    conn.close()"
   ]
  },
  {
   "cell_type": "code",
   "execution_count": null,
   "metadata": {},
   "outputs": [],
   "source": []
  },
  {
   "cell_type": "code",
   "execution_count": 6,
   "metadata": {},
   "outputs": [
    {
     "name": "stdout",
     "output_type": "stream",
     "text": [
      "| Run Name  |    fONv MedianNvis |fOArea |osf |nexp |fONv MinNvis |snaps |pairs |\n",
      "| -- | -- | -- | -- | --| --| --|--|\n",
      "| baseline_2snap_v1.3_10yrs |   829.000  |   10232.668  |   0.703  |   2019468.000  |   767.000  |  2 |  mixed |\n",
      "| baseline_v1.3_10yrs |   929.000  |   18155.600  |   0.760  |   2183599.000  |   862.000  |  1 |  same |\n",
      "| wfd_95_v1.3_10yrs |   1039.000  |   18391.442  |   0.762  |   2188929.000  |   969.000  |  1 |  mixed |\n",
      "| wfd_90_v1.3_10yrs |   1002.000  |   18297.441  |   0.762  |   2190125.000  |   932.000  |  1 |  mixed |\n",
      "| wfd_85_v1.3_10yrs |   963.000  |   18240.369  |   0.762  |   2190583.000  |   895.000  |  1 |  mixed |\n",
      "| wfd_80_v1.3_10yrs |   922.000  |   18202.601  |   0.762  |   2191506.000  |   857.000  |  1 |  mixed |\n",
      "| wfd_75_v1.3_10yrs |   884.000  |   18107.760  |   0.763  |   2192342.000  |   829.000  |  1 |  mixed |\n",
      "| wfd_70_v1.3_10yrs |   851.000  |   15951.615  |   0.764  |   2194175.000  |   814.000  |  1 |  mixed |\n",
      "| wfd_65_v1.3_10yrs |   830.000  |   10439.134  |   0.763  |   2193981.000  |   794.000  |  1 |  mixed |\n",
      "| delayedrolling_mod2_sdf_0.10_v1.3_10yrs |   879.000  |   16095.134  |   0.763  |   2191312.000  |   787.000  |  1 |  mixed |\n",
      "| wfd_only_2snap_v1.3_10yrs |   1034.000  |   18330.173  |   0.707  |   2030265.000  |   965.000  |  2 |  mixed |\n",
      "| wfd_only_nomix_v1.3_10yrs |   1148.000  |   18513.979  |   0.784  |   2251985.000  |   1069.000  |  1 |  same |\n",
      "| wfd_only_v1.3_10yrs |   1118.000  |   18505.586  |   0.764  |   2195413.000  |   1044.000  |  1 |  mixed |\n",
      "| baseline_1exp_pairsame_10yrs |   986.000  |   18226.940  |   0.785  |   2263993.000  |   914.000  |  1 |  same |\n",
      "| baseline_1exp_pairsmix_10yrs |   963.000  |   18186.654  |   0.768  |   2216026.000  |   895.000  |  1 |  mixed |\n",
      "| baseline_2exp_pairsame_10yrs |   907.000  |   18096.850  |   0.725  |   2092909.000  |   839.000  |  2 |  same |\n",
      "| baseline_2exp_pairsmix_10yrs |   887.000  |   17942.420  |   0.710  |   2048865.000  |   821.000  |  2 |  mixed |\n"
     ]
    }
   ],
   "source": [
    "keys = list(results.keys())\n",
    "header = '| Run Name  |    '\n",
    "for key in keys:\n",
    "    header+= '%s |' % key\n",
    "\n",
    "header += 'snaps |'\n",
    "header += 'pairs |'\n",
    "print(header)\n",
    "print('| -- | -- | -- | -- | --| --| --|--|')\n",
    "for i in range(len(dirs)):\n",
    "    rn = os.path.basename(dirs[i])\n",
    "    out = '| '\n",
    "    out += rn +' |'\n",
    "    for key in keys:\n",
    "        out +='   %.3f  |' % results[key][i]\n",
    "    out += '  %i |' % snaps[i]\n",
    "    out += '  %s |' % pairs[i]\n",
    "    print(out)\n",
    "    "
   ]
  },
  {
   "cell_type": "markdown",
   "metadata": {},
   "source": [
    "| Run Name  |    fONv MedianNvis |fOArea |osf |nexp |fONv MinNvis |snaps |pairs |\n",
    "| -- | -- | -- | -- | --| --| --|--|\n",
    "| baseline_2snap_v1.3_10yrs |   829.000  |   10232.668  |   0.703  |   2019468.000  |   767.000  |  2 |  mixed |\n",
    "| baseline_v1.3_10yrs |   929.000  |   18155.600  |   0.760  |   2183599.000  |   862.000  |  1 |  same |\n",
    "| wfd_95_v1.3_10yrs |   1039.000  |   18391.442  |   0.762  |   2188929.000  |   969.000  |  1 |  mixed |\n",
    "| wfd_90_v1.3_10yrs |   1002.000  |   18297.441  |   0.762  |   2190125.000  |   932.000  |  1 |  mixed |\n",
    "| wfd_85_v1.3_10yrs |   963.000  |   18240.369  |   0.762  |   2190583.000  |   895.000  |  1 |  mixed |\n",
    "| wfd_80_v1.3_10yrs |   922.000  |   18202.601  |   0.762  |   2191506.000  |   857.000  |  1 |  mixed |\n",
    "| wfd_75_v1.3_10yrs |   884.000  |   18107.760  |   0.763  |   2192342.000  |   829.000  |  1 |  mixed |\n",
    "| wfd_70_v1.3_10yrs |   851.000  |   15951.615  |   0.764  |   2194175.000  |   814.000  |  1 |  mixed |\n",
    "| wfd_65_v1.3_10yrs |   830.000  |   10439.134  |   0.763  |   2193981.000  |   794.000  |  1 |  mixed |\n",
    "| delayedrolling_mod2_sdf_0.10_v1.3_10yrs |   879.000  |   16095.134  |   0.763  |   2191312.000  |   787.000  |  1 |  mixed |\n",
    "| wfd_only_2snap_v1.3_10yrs |   1034.000  |   18330.173  |   0.707  |   2030265.000  |   965.000  |  2 |  mixed |\n",
    "| wfd_only_nomix_v1.3_10yrs |   1148.000  |   18513.979  |   0.784  |   2251985.000  |   1069.000  |  1 |  same |\n",
    "| wfd_only_v1.3_10yrs |   1118.000  |   18505.586  |   0.764  |   2195413.000  |   1044.000  |  1 |  mixed |\n",
    "| baseline_1exp_pairsame_10yrs |   986.000  |   18226.940  |   0.785  |   2263993.000  |   914.000  |  1 |  same |\n",
    "| baseline_1exp_pairsmix_10yrs |   963.000  |   18186.654  |   0.768  |   2216026.000  |   895.000  |  1 |  mixed |\n",
    "| baseline_2exp_pairsame_10yrs |   907.000  |   18096.850  |   0.725  |   2092909.000  |   839.000  |  2 |  same |\n",
    "| baseline_2exp_pairsmix_10yrs |   887.000  |   17942.420  |   0.710  |   2048865.000  |   821.000  |  2 |  mixed |\n",
    "\n"
   ]
  },
  {
   "cell_type": "code",
   "execution_count": 7,
   "metadata": {},
   "outputs": [],
   "source": [
    "# OK, let's package this shit up as a giant dataframe\n",
    "array_list = []\n",
    "\n",
    "names = keys.copy()\n",
    "names.extend(['Run Name', 'snaps', 'pairs'])\n",
    "types = [float]*len(keys)\n",
    "types.extend(['|U40', int, '|U10'])\n",
    "\n",
    "dt = list(zip(names, types))\n",
    "\n",
    "for i in range(len(dirs)):\n",
    "    arr = np.zeros(1, dtype=dt)\n",
    "    arr['Run Name'] = os.path.basename(dirs[i])\n",
    "    arr['snaps'] = snaps[i]\n",
    "    arr['pairs'] = pairs[i]\n",
    "    for key in keys:\n",
    "        arr[key] =results[key][i]\n",
    "    array_list.append(arr) \n"
   ]
  },
  {
   "cell_type": "code",
   "execution_count": 8,
   "metadata": {},
   "outputs": [
    {
     "data": {
      "text/plain": [
       "array([ (  829.,  10232.66812241,  0.70277847,  2019468.,   767., 'baseline_2snap_v1.3_10yrs', 2, 'mixed'),\n",
       "       (  929.,  18155.60013321,  0.75986853,  2183599.,   862., 'baseline_v1.3_10yrs', 1, 'same'),\n",
       "       ( 1039.,  18391.44164751,  0.76171699,  2188929.,   969., 'wfd_95_v1.3_10yrs', 1, 'mixed'),\n",
       "       ( 1002.,  18297.44075925,  0.76212519,  2190125.,   932., 'wfd_90_v1.3_10yrs', 1, 'mixed'),\n",
       "       (  963.,  18240.36879137,  0.76226757,  2190583.,   895., 'wfd_85_v1.3_10yrs', 1, 'mixed'),\n",
       "       (  922.,  18202.60057734,  0.76249794,  2191506.,   857., 'wfd_80_v1.3_10yrs', 1, 'mixed'),\n",
       "       (  884.,  18107.76039543,  0.76291163,  2192342.,   829., 'wfd_75_v1.3_10yrs', 1, 'mixed'),\n",
       "       (  851.,  15951.61502088,  0.76354758,  2194175.,   814., 'wfd_70_v1.3_10yrs', 1, 'mixed'),\n",
       "       (  830.,  10439.13435914,  0.76348808,  2193981.,   794., 'wfd_65_v1.3_10yrs', 1, 'mixed'),\n",
       "       (  879.,  16095.13423421,  0.76254493,  2191312.,   787., 'delayedrolling_mod2_sdf_0.10_v1.3_10yrs', 1, 'mixed'),\n",
       "       ( 1034.,  18330.17321141,  0.70651285,  2030265.,   965., 'wfd_only_2snap_v1.3_10yrs', 2, 'mixed'),\n",
       "       ( 1148.,  18513.97851971,  0.78360401,  2251985.,  1069., 'wfd_only_nomix_v1.3_10yrs', 1, 'same'),\n",
       "       ( 1118.,  18505.58558326,  0.76396669,  2195413.,  1044., 'wfd_only_v1.3_10yrs', 1, 'mixed'),\n",
       "       (  986.,  18226.94009305,  0.78456252,  2263993.,   914., 'baseline_1exp_pairsame_10yrs', 1, 'same'),\n",
       "       (  963.,  18186.65399808,  0.76797212,  2216026.,   895., 'baseline_1exp_pairsmix_10yrs', 1, 'mixed'),\n",
       "       (  907.,  18096.84957804,  0.72535594,  2092909.,   839., 'baseline_2exp_pairsame_10yrs', 2, 'same'),\n",
       "       (  887.,  17942.41954732,  0.71010852,  2048865.,   821., 'baseline_2exp_pairsmix_10yrs', 2, 'mixed')],\n",
       "      dtype=[('fONv MedianNvis', '<f8'), ('fOArea', '<f8'), ('osf', '<f8'), ('nexp', '<f8'), ('fONv MinNvis', '<f8'), ('Run Name', '<U40'), ('snaps', '<i8'), ('pairs', '<U10')])"
      ]
     },
     "execution_count": 8,
     "metadata": {},
     "output_type": "execute_result"
    }
   ],
   "source": [
    "data_array = np.concatenate(array_list)\n",
    "data_array"
   ]
  },
  {
   "cell_type": "code",
   "execution_count": 9,
   "metadata": {},
   "outputs": [
    {
     "data": {
      "text/plain": [
       "<matplotlib.legend.Legend at 0x7fd240a6a860>"
      ]
     },
     "execution_count": 9,
     "metadata": {},
     "output_type": "execute_result"
    },
    {
     "data": {
      "image/png": "[encoded data removed]",
      "text/plain": [
       "<matplotlib.figure.Figure at 0x7fd240a6a550>"
      ]
     },
     "metadata": {},
     "output_type": "display_data"
    }
   ],
   "source": [
    "filters = ['mixed', 'same']\n",
    "snaps = [1,2]\n",
    "\n",
    "for filt in filters:\n",
    "    for snap in snaps:\n",
    "        good = np.where((data_array['snaps'] == snap) & (data_array['pairs'] == filt) )\n",
    "        plt.plot(data_array['fONv MedianNvis'][good]/825., data_array['fOArea'][good]/18000, 'o', label=filt+', %i' % snap)\n",
    "plt.xlabel('fONv MedianNvis / 825')\n",
    "plt.ylabel('fOArea/18,000')\n",
    "plt.legend()"
   ]
  },
  {
   "cell_type": "code",
   "execution_count": 10,
   "metadata": {},
   "outputs": [],
   "source": [
    "df = pd.DataFrame(data_array)\n",
    "df['nexp'] = np.round(df['nexp']/1e6*100)/100\n",
    "df['fONv MedianNvis'] = np.round(df['fONv MedianNvis']/825*100)/100\n",
    "df['fOArea'] = np.round(df['fOArea']/18000*100)/100\n",
    "df['fONv MinNvis'] = np.round(df['fONv MinNvis']/825*100)/100\n"
   ]
  },
  {
   "cell_type": "code",
   "execution_count": 11,
   "metadata": {},
   "outputs": [
    {
     "name": "stdout",
     "output_type": "stream",
     "text": [
      "\\begin{tabular}{lrrrrrl}\n",
      "\\toprule\n",
      "                                Run Name &  fONv MedianNvis &  fONv MinNvis &  fOArea &  nexp &  snaps &  pairs \\\\\n",
      "\\midrule\n",
      "               baseline\\_2snap\\_v1.3\\_10yrs &             1.00 &          0.93 &    0.57 &  2.02 &      2 &  mixed \\\\\n",
      "                     baseline\\_v1.3\\_10yrs &             1.13 &          1.04 &    1.01 &  2.18 &      1 &   same \\\\\n",
      "                       wfd\\_95\\_v1.3\\_10yrs &             1.26 &          1.17 &    1.02 &  2.19 &      1 &  mixed \\\\\n",
      "                       wfd\\_90\\_v1.3\\_10yrs &             1.21 &          1.13 &    1.02 &  2.19 &      1 &  mixed \\\\\n",
      "                       wfd\\_85\\_v1.3\\_10yrs &             1.17 &          1.08 &    1.01 &  2.19 &      1 &  mixed \\\\\n",
      "                       wfd\\_80\\_v1.3\\_10yrs &             1.12 &          1.04 &    1.01 &  2.19 &      1 &  mixed \\\\\n",
      "                       wfd\\_75\\_v1.3\\_10yrs &             1.07 &          1.00 &    1.01 &  2.19 &      1 &  mixed \\\\\n",
      "                       wfd\\_70\\_v1.3\\_10yrs &             1.03 &          0.99 &    0.89 &  2.19 &      1 &  mixed \\\\\n",
      "                       wfd\\_65\\_v1.3\\_10yrs &             1.01 &          0.96 &    0.58 &  2.19 &      1 &  mixed \\\\\n",
      " delayedrolling\\_mod2\\_sdf\\_0.10\\_v1.3\\_10yrs &             1.07 &          0.95 &    0.89 &  2.19 &      1 &  mixed \\\\\n",
      "               wfd\\_only\\_2snap\\_v1.3\\_10yrs &             1.25 &          1.17 &    1.02 &  2.03 &      2 &  mixed \\\\\n",
      "               wfd\\_only\\_nomix\\_v1.3\\_10yrs &             1.39 &          1.30 &    1.03 &  2.25 &      1 &   same \\\\\n",
      "                     wfd\\_only\\_v1.3\\_10yrs &             1.36 &          1.27 &    1.03 &  2.20 &      1 &  mixed \\\\\n",
      "            baseline\\_1exp\\_pairsame\\_10yrs &             1.20 &          1.11 &    1.01 &  2.26 &      1 &   same \\\\\n",
      "            baseline\\_1exp\\_pairsmix\\_10yrs &             1.17 &          1.08 &    1.01 &  2.22 &      1 &  mixed \\\\\n",
      "            baseline\\_2exp\\_pairsame\\_10yrs &             1.10 &          1.02 &    1.01 &  2.09 &      2 &   same \\\\\n",
      "            baseline\\_2exp\\_pairsmix\\_10yrs &             1.08 &          1.00 &    1.00 &  2.05 &      2 &  mixed \\\\\n",
      "\\bottomrule\n",
      "\\end{tabular}\n",
      "\n"
     ]
    }
   ],
   "source": [
    "latex_table = df.to_latex(index=False, #float_format=\"%%.1f\",\n",
    "                          columns=['Run Name', 'fONv MedianNvis', 'fONv MinNvis', 'fOArea', 'nexp', 'snaps', 'pairs'])\n",
    "print(latex_table)"
   ]
  },
  {
   "cell_type": "code",
   "execution_count": 25,
   "metadata": {},
   "outputs": [],
   "source": [
    "names2fracs = ['wfd_95_v1.3_10yrs', 'wfd_90_v1.3_10yrs','wfd_85_v1.3_10yrs','wfd_80_v1.3_10yrs', 'wfd_75_v1.3_10yrs',\n",
    "              'wfd_70_v1.3_10yrs','wfd_65_v1.3_10yrs']\n",
    "fracs = [float(name.split('_')[1]) for name in names2fracs]\n",
    "indices = [np.max(np.where(df['Run Name'].values == name)[0]) for name in names2fracs]\n",
    "fracs.append(100)\n",
    "indices.append(np.max(np.where(df['Run Name'].values == 'wfd_only_v1.3_10yrs')))"
   ]
  },
  {
   "cell_type": "code",
   "execution_count": 26,
   "metadata": {},
   "outputs": [
    {
     "data": {
      "text/plain": [
       "<matplotlib.text.Text at 0x7fd211bb8748>"
      ]
     },
     "execution_count": 26,
     "metadata": {},
     "output_type": "execute_result"
    },
    {
     "data": {
      "image/png": "[encoded data removed]",
      "text/plain": [
       "<matplotlib.figure.Figure at 0x7fd211b9bda0>"
      ]
     },
     "metadata": {},
     "output_type": "display_data"
    }
   ],
   "source": [
    "plt.plot(fracs, data_array['fONv MedianNvis'][indices]/825., 'ko')\n",
    "plt.xlabel('Percent time for WFD')\n",
    "plt.ylabel('fONv MedianNvis / 825')\n"
   ]
  },
  {
   "cell_type": "code",
   "execution_count": 20,
   "metadata": {},
   "outputs": [
    {
     "data": {
      "text/plain": [
       "[array([2]),\n",
       " array([3]),\n",
       " array([4]),\n",
       " array([5]),\n",
       " array([6]),\n",
       " array([7]),\n",
       " array([8])]"
      ]
     },
     "execution_count": 20,
     "metadata": {},
     "output_type": "execute_result"
    }
   ],
   "source": []
  },
  {
   "cell_type": "code",
   "execution_count": null,
   "metadata": {},
   "outputs": [],
   "source": []
  }
 ],
 "metadata": {
  "kernelspec": {
   "display_name": "Python 3",
   "language": "python",
   "name": "python3"
  },
  "language_info": {
   "codemirror_mode": {
    "name": "ipython",
    "version": 3
   },
   "file_extension": ".py",
   "mimetype": "text/x-python",
   "name": "python",
   "nbconvert_exporter": "python",
   "pygments_lexer": "ipython3",
   "version": "3.6.2"
  }
 },
 "nbformat": 4,
 "nbformat_minor": 2
}
