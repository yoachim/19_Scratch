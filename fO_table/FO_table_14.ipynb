{
 "cells": [
  {
   "cell_type": "code",
   "execution_count": 1,
   "metadata": {},
   "outputs": [],
   "source": [
    "import numpy as np\n",
    "import pandas as pd\n",
    "import sqlite3\n",
    "import os\n",
    "import matplotlib.pylab as plt\n",
    "%matplotlib inline\n",
    "import glob"
   ]
  },
  {
   "cell_type": "code",
   "execution_count": 2,
   "metadata": {},
   "outputs": [],
   "source": [
    "v14_path = '/Users/yoachim/runs1.4/'\n",
    "files = glob.glob('/Users/yoachim/runs/wfd_depth/sub/*.db')\n",
    "\n",
    "\n",
    "dirs = [file[:-3] for file in files]\n",
    "snaps = [1]*len(files)\n",
    "# snaps[0] = 2\n",
    "pairs = ['mixed']*len(files)\n",
    "# pairs[1] = 'same'\n",
    "\n",
    "#dirs.append('/Users/yoachim/Temp/old_runs/baseline2018a_note')\n",
    "#snaps.append(2)\n",
    "#pairs.append('same')\n",
    "dirs = [file for file in dirs if 'tracking' not in file]\n",
    "files = [file for file in files if 'tracking' not in file]"
   ]
  },
  {
   "cell_type": "code",
   "execution_count": 3,
   "metadata": {},
   "outputs": [
    {
     "data": {
      "text/plain": [
       "['/Users/yoachim/runs/wfd_depth/sub/wfd_depth_scale0.85_noddf_v1.4_10yrs.db',\n",
       " '/Users/yoachim/runs/wfd_depth/sub/wfd_depth_scale0.75_noddf_v1.4_10yrs.db',\n",
       " '/Users/yoachim/runs/wfd_depth/sub/wfd_depth_scale0.80_noddf_v1.4_10yrs.db',\n",
       " '/Users/yoachim/runs/wfd_depth/sub/wfd_depth_scale0.99_noddf_v1.4_10yrs.db',\n",
       " '/Users/yoachim/runs/wfd_depth/sub/wfd_depth_scale0.70_noddf_v1.4_10yrs.db',\n",
       " '/Users/yoachim/runs/wfd_depth/sub/wfd_depth_scale0.65_noddf_v1.4_10yrs.db',\n",
       " '/Users/yoachim/runs/wfd_depth/sub/wfd_depth_scale0.95_noddf_v1.4_10yrs.db',\n",
       " '/Users/yoachim/runs/wfd_depth/sub/wfd_depth_scale0.90_noddf_v1.4_10yrs.db']"
      ]
     },
     "execution_count": 3,
     "metadata": {},
     "output_type": "execute_result"
    }
   ],
   "source": [
    "files"
   ]
  },
  {
   "cell_type": "code",
   "execution_count": null,
   "metadata": {},
   "outputs": [],
   "source": []
  },
  {
   "cell_type": "code",
   "execution_count": 4,
   "metadata": {},
   "outputs": [],
   "source": [
    "results = {'fONv MedianNvis':[], 'fOArea': [], 'osf':[], 'nexp':[], 'fONv MinNvis':[]}\n",
    "for directory in dirs:\n",
    "    conn = sqlite3.connect(os.path.join(directory, 'resultsDb_sqlite.db'))\n",
    "    df = pd.read_sql('select summaryValue from summarystats where summaryName=\"fONv MedianNvis\";', conn)\n",
    "    results['fONv MedianNvis'].append(np.max(df.values))\n",
    "    \n",
    "    df = pd.read_sql('select summaryValue from summarystats where summaryName=\"fOArea\";', conn)\n",
    "    results['fOArea'].append(np.max(df.values))\n",
    "    \n",
    "    df = pd.read_sql('select summaryValue from summarystats where metricid=3;', conn)\n",
    "    results['osf'].append(np.max(df.values))\n",
    "    \n",
    "    df = pd.read_sql('select summaryValue from summarystats where metricid=5;', conn)\n",
    "    results['nexp'].append(np.max(df.values))\n",
    "    \n",
    "    df = pd.read_sql('select summaryValue from summarystats where summaryName=\"fONv MinNvis\";', conn)\n",
    "    results['fONv MinNvis'].append(np.max(df.values))\n",
    "    \n",
    "    conn.close()"
   ]
  },
  {
   "cell_type": "code",
   "execution_count": 5,
   "metadata": {},
   "outputs": [
    {
     "data": {
      "text/plain": [
       "'/Users/yoachim/runs/wfd_depth/sub/wfd_depth_scale0.90_noddf_v1.4_10yrs'"
      ]
     },
     "execution_count": 5,
     "metadata": {},
     "output_type": "execute_result"
    }
   ],
   "source": [
    "directory"
   ]
  },
  {
   "cell_type": "code",
   "execution_count": 6,
   "metadata": {},
   "outputs": [
    {
     "name": "stdout",
     "output_type": "stream",
     "text": [
      "| Run Name  |    fONv MedianNvis |fOArea |osf |nexp |fONv MinNvis |snaps |pairs |\n",
      "| -- | -- | -- | -- | --| --| --|--|\n",
      "| wfd_depth_scale0.85_noddf_v1.4_10yrs |   960.000  |   18231.137  |   0.758  |   2179523.000  |   891.000  |  1 |  mixed |\n",
      "| wfd_depth_scale0.75_noddf_v1.4_10yrs |   881.000  |   17959.205  |   0.758  |   2179523.000  |   823.000  |  1 |  mixed |\n",
      "| wfd_depth_scale0.80_noddf_v1.4_10yrs |   919.000  |   18188.333  |   0.758  |   2179449.000  |   854.000  |  1 |  mixed |\n",
      "| wfd_depth_scale0.99_noddf_v1.4_10yrs |   1073.000  |   18477.050  |   0.759  |   2181067.000  |   1001.000  |  1 |  mixed |\n",
      "| wfd_depth_scale0.70_noddf_v1.4_10yrs |   847.000  |   15078.750  |   0.759  |   2180673.000  |   811.000  |  1 |  mixed |\n",
      "| wfd_depth_scale0.65_noddf_v1.4_10yrs |   825.000  |   9224.676  |   0.759  |   2180564.000  |   789.000  |  1 |  mixed |\n",
      "| wfd_depth_scale0.95_noddf_v1.4_10yrs |   1039.000  |   18392.281  |   0.758  |   2179296.000  |   968.000  |  1 |  mixed |\n",
      "| wfd_depth_scale0.90_noddf_v1.4_10yrs |   997.000  |   18269.744  |   0.758  |   2178302.000  |   928.000  |  1 |  mixed |\n"
     ]
    }
   ],
   "source": [
    "keys = list(results.keys())\n",
    "header = '| Run Name  |    '\n",
    "for key in keys:\n",
    "    header+= '%s |' % key\n",
    "\n",
    "header += 'snaps |'\n",
    "header += 'pairs |'\n",
    "print(header)\n",
    "print('| -- | -- | -- | -- | --| --| --|--|')\n",
    "for i in range(len(dirs)):\n",
    "    rn = os.path.basename(dirs[i])\n",
    "    out = '| '\n",
    "    out += rn +' |'\n",
    "    for key in keys:\n",
    "        out +='   %.3f  |' % results[key][i]\n",
    "    out += '  %i |' % snaps[i]\n",
    "    out += '  %s |' % pairs[i]\n",
    "    print(out)\n",
    "    "
   ]
  },
  {
   "cell_type": "markdown",
   "metadata": {},
   "source": [
    "| Run Name  |    fONv MedianNvis |fOArea |osf |nexp |fONv MinNvis |snaps |pairs |\n",
    "| -- | -- | -- | -- | --| --| --|--|\n",
    "| baseline_2snap_v1.3_10yrs |   829.000  |   10232.668  |   0.703  |   2019468.000  |   767.000  |  2 |  mixed |\n",
    "| baseline_v1.3_10yrs |   929.000  |   18155.600  |   0.760  |   2183599.000  |   862.000  |  1 |  same |\n",
    "| wfd_95_v1.3_10yrs |   1039.000  |   18391.442  |   0.762  |   2188929.000  |   969.000  |  1 |  mixed |\n",
    "| wfd_90_v1.3_10yrs |   1002.000  |   18297.441  |   0.762  |   2190125.000  |   932.000  |  1 |  mixed |\n",
    "| wfd_85_v1.3_10yrs |   963.000  |   18240.369  |   0.762  |   2190583.000  |   895.000  |  1 |  mixed |\n",
    "| wfd_80_v1.3_10yrs |   922.000  |   18202.601  |   0.762  |   2191506.000  |   857.000  |  1 |  mixed |\n",
    "| wfd_75_v1.3_10yrs |   884.000  |   18107.760  |   0.763  |   2192342.000  |   829.000  |  1 |  mixed |\n",
    "| wfd_70_v1.3_10yrs |   851.000  |   15951.615  |   0.764  |   2194175.000  |   814.000  |  1 |  mixed |\n",
    "| wfd_65_v1.3_10yrs |   830.000  |   10439.134  |   0.763  |   2193981.000  |   794.000  |  1 |  mixed |\n",
    "| delayedrolling_mod2_sdf_0.10_v1.3_10yrs |   879.000  |   16095.134  |   0.763  |   2191312.000  |   787.000  |  1 |  mixed |\n",
    "| wfd_only_2snap_v1.3_10yrs |   1034.000  |   18330.173  |   0.707  |   2030265.000  |   965.000  |  2 |  mixed |\n",
    "| wfd_only_nomix_v1.3_10yrs |   1148.000  |   18513.979  |   0.784  |   2251985.000  |   1069.000  |  1 |  same |\n",
    "| wfd_only_v1.3_10yrs |   1118.000  |   18505.586  |   0.764  |   2195413.000  |   1044.000  |  1 |  mixed |\n",
    "| baseline_1exp_pairsame_10yrs |   986.000  |   18226.940  |   0.785  |   2263993.000  |   914.000  |  1 |  same |\n",
    "| baseline_1exp_pairsmix_10yrs |   963.000  |   18186.654  |   0.768  |   2216026.000  |   895.000  |  1 |  mixed |\n",
    "| baseline_2exp_pairsame_10yrs |   907.000  |   18096.850  |   0.725  |   2092909.000  |   839.000  |  2 |  same |\n",
    "| baseline_2exp_pairsmix_10yrs |   887.000  |   17942.420  |   0.710  |   2048865.000  |   821.000  |  2 |  mixed |\n",
    "\n"
   ]
  },
  {
   "cell_type": "code",
   "execution_count": 7,
   "metadata": {},
   "outputs": [],
   "source": [
    "# OK, let's package this shit up as a giant dataframe\n",
    "array_list = []\n",
    "\n",
    "names = keys.copy()\n",
    "names.extend(['Run Name', 'snaps', 'pairs'])\n",
    "types = [float]*len(keys)\n",
    "types.extend(['|U40', int, '|U10'])\n",
    "\n",
    "dt = list(zip(names, types))\n",
    "\n",
    "for i in range(len(dirs)):\n",
    "    arr = np.zeros(1, dtype=dt)\n",
    "    arr['Run Name'] = os.path.basename(dirs[i])\n",
    "    arr['snaps'] = snaps[i]\n",
    "    arr['pairs'] = pairs[i]\n",
    "    for key in keys:\n",
    "        arr[key] =results[key][i]\n",
    "    array_list.append(arr) \n"
   ]
  },
  {
   "cell_type": "code",
   "execution_count": 8,
   "metadata": {},
   "outputs": [
    {
     "data": {
      "text/plain": [
       "array([ (  960.,  18231.13656128,  0.75841779,  2179523.,   891., 'wfd_depth_scale0.85_noddf_v1.4_10yrs', 1, 'mixed'),\n",
       "       (  881.,  17959.20542023,  0.75842973,  2179523.,   823., 'wfd_depth_scale0.75_noddf_v1.4_10yrs', 1, 'mixed'),\n",
       "       (  919.,  18188.33258537,  0.75840389,  2179449.,   854., 'wfd_depth_scale0.80_noddf_v1.4_10yrs', 1, 'mixed'),\n",
       "       ( 1073.,  18477.04959932,  0.75892057,  2181067.,  1001., 'wfd_depth_scale0.99_noddf_v1.4_10yrs', 1, 'mixed'),\n",
       "       (  847.,  15078.74962986,  0.75885119,  2180673.,   811., 'wfd_depth_scale0.70_noddf_v1.4_10yrs', 1, 'mixed'),\n",
       "       (  825.,   9224.67645452,  0.75880363,  2180564.,   789., 'wfd_depth_scale0.65_noddf_v1.4_10yrs', 1, 'mixed'),\n",
       "       ( 1039.,  18392.28094116,  0.75835079,  2179296.,   968., 'wfd_depth_scale0.95_noddf_v1.4_10yrs', 1, 'mixed'),\n",
       "       (  997.,  18269.74406896,  0.75801772,  2178302.,   928., 'wfd_depth_scale0.90_noddf_v1.4_10yrs', 1, 'mixed')],\n",
       "      dtype=[('fONv MedianNvis', '<f8'), ('fOArea', '<f8'), ('osf', '<f8'), ('nexp', '<f8'), ('fONv MinNvis', '<f8'), ('Run Name', '<U40'), ('snaps', '<i8'), ('pairs', '<U10')])"
      ]
     },
     "execution_count": 8,
     "metadata": {},
     "output_type": "execute_result"
    }
   ],
   "source": [
    "data_array = np.concatenate(array_list)\n",
    "data_array"
   ]
  },
  {
   "cell_type": "code",
   "execution_count": 9,
   "metadata": {},
   "outputs": [
    {
     "data": {
      "text/plain": [
       "<matplotlib.legend.Legend at 0x7f85d1314860>"
      ]
     },
     "execution_count": 9,
     "metadata": {},
     "output_type": "execute_result"
    },
    {
     "data": {
      "image/png": "[encoded data removed]",
      "text/plain": [
       "<matplotlib.figure.Figure at 0x7f85d1314908>"
      ]
     },
     "metadata": {},
     "output_type": "display_data"
    }
   ],
   "source": [
    "filters = ['mixed', 'same']\n",
    "snaps = [1,2]\n",
    "\n",
    "for filt in filters:\n",
    "    for snap in snaps:\n",
    "        good = np.where((data_array['snaps'] == snap) & (data_array['pairs'] == filt) )\n",
    "        plt.plot(data_array['fONv MedianNvis'][good]/825., data_array['fOArea'][good]/18000, 'o', label=filt+', %i' % snap)\n",
    "plt.xlabel('fONv MedianNvis / 825')\n",
    "plt.ylabel('fOArea/18,000')\n",
    "plt.legend()"
   ]
  },
  {
   "cell_type": "code",
   "execution_count": 10,
   "metadata": {},
   "outputs": [],
   "source": [
    "df = pd.DataFrame(data_array)\n",
    "df['nexp'] = np.round(df['nexp']/1e6*100)/100\n",
    "df['fONv MedianNvis'] = np.round(df['fONv MedianNvis']/825*100)/100\n",
    "df['fOArea'] = np.round(df['fOArea']/18000*100)/100\n",
    "df['fONv MinNvis'] = np.round(df['fONv MinNvis']/825*100)/100\n"
   ]
  },
  {
   "cell_type": "code",
   "execution_count": 11,
   "metadata": {},
   "outputs": [
    {
     "name": "stdout",
     "output_type": "stream",
     "text": [
      "\\begin{tabular}{lrrrrrl}\n",
      "\\toprule\n",
      "                             Run Name &  fONv MedianNvis &  fONv MinNvis &  fOArea &  nexp &  snaps &  pairs \\\\\n",
      "\\midrule\n",
      " wfd\\_depth\\_scale0.85\\_noddf\\_v1.4\\_10yrs &             1.16 &          1.08 &    1.01 &  2.18 &      1 &  mixed \\\\\n",
      " wfd\\_depth\\_scale0.75\\_noddf\\_v1.4\\_10yrs &             1.07 &          1.00 &    1.00 &  2.18 &      1 &  mixed \\\\\n",
      " wfd\\_depth\\_scale0.80\\_noddf\\_v1.4\\_10yrs &             1.11 &          1.04 &    1.01 &  2.18 &      1 &  mixed \\\\\n",
      " wfd\\_depth\\_scale0.99\\_noddf\\_v1.4\\_10yrs &             1.30 &          1.21 &    1.03 &  2.18 &      1 &  mixed \\\\\n",
      " wfd\\_depth\\_scale0.70\\_noddf\\_v1.4\\_10yrs &             1.03 &          0.98 &    0.84 &  2.18 &      1 &  mixed \\\\\n",
      " wfd\\_depth\\_scale0.65\\_noddf\\_v1.4\\_10yrs &             1.00 &          0.96 &    0.51 &  2.18 &      1 &  mixed \\\\\n",
      " wfd\\_depth\\_scale0.95\\_noddf\\_v1.4\\_10yrs &             1.26 &          1.17 &    1.02 &  2.18 &      1 &  mixed \\\\\n",
      " wfd\\_depth\\_scale0.90\\_noddf\\_v1.4\\_10yrs &             1.21 &          1.12 &    1.01 &  2.18 &      1 &  mixed \\\\\n",
      "\\bottomrule\n",
      "\\end{tabular}\n",
      "\n"
     ]
    }
   ],
   "source": [
    "latex_table = df.to_latex(index=False, #float_format=\"%%.1f\",\n",
    "                          columns=['Run Name', 'fONv MedianNvis', 'fONv MinNvis', 'fOArea', 'nexp', 'snaps', 'pairs'])\n",
    "print(latex_table)"
   ]
  },
  {
   "cell_type": "code",
   "execution_count": 12,
   "metadata": {},
   "outputs": [],
   "source": [
    "#names2fracs = ['wfd_95_v1.3_10yrs', 'wfd_90_v1.3_10yrs','wfd_85_v1.3_10yrs','wfd_80_v1.3_10yrs', 'wfd_75_v1.3_10yrs',\n",
    "#              'wfd_70_v1.3_10yrs','wfd_65_v1.3_10yrs']\n",
    "#fracs = [float(name.split('_')[1]) for name in names2fracs]\n",
    "\n",
    "fracs = [float(file.split('/')[-1].split('_scale')[-1].split('_')[0]) for file in files]\n",
    "indices = [np.max(np.where(df['Run Name'].values == name.split('/')[-1][:-3])[0]) for name in files]\n",
    "\n"
   ]
  },
  {
   "cell_type": "code",
   "execution_count": 13,
   "metadata": {},
   "outputs": [
    {
     "data": {
      "text/plain": [
       "('wfd_depth_scale0.85_noddf_v1.4_10yrs.db',\n",
       " array(['wfd_depth_scale0.85_noddf_v1.4_10yrs',\n",
       "        'wfd_depth_scale0.75_noddf_v1.4_10yrs',\n",
       "        'wfd_depth_scale0.80_noddf_v1.4_10yrs',\n",
       "        'wfd_depth_scale0.99_noddf_v1.4_10yrs',\n",
       "        'wfd_depth_scale0.70_noddf_v1.4_10yrs',\n",
       "        'wfd_depth_scale0.65_noddf_v1.4_10yrs',\n",
       "        'wfd_depth_scale0.95_noddf_v1.4_10yrs',\n",
       "        'wfd_depth_scale0.90_noddf_v1.4_10yrs'], dtype=object))"
      ]
     },
     "execution_count": 13,
     "metadata": {},
     "output_type": "execute_result"
    }
   ],
   "source": [
    "files[0].split('/')[-1], df['Run Name'].values"
   ]
  },
  {
   "cell_type": "code",
   "execution_count": 14,
   "metadata": {},
   "outputs": [
    {
     "data": {
      "text/plain": [
       "<matplotlib.text.Text at 0x7f85a0b4ce10>"
      ]
     },
     "execution_count": 14,
     "metadata": {},
     "output_type": "execute_result"
    },
    {
     "data": {
      "image/png": "[encoded data removed]",
      "text/plain": [
       "<matplotlib.figure.Figure at 0x7f85c0be6630>"
      ]
     },
     "metadata": {},
     "output_type": "display_data"
    }
   ],
   "source": [
    "plt.scatter(fracs, data_array['fONv MedianNvis'][indices]/825., c= data_array['fOArea'][indices]/18000)\n",
    "cb = plt.colorbar()\n",
    "cb.set_label('fOArea/18000')\n",
    "plt.xlabel('Percent time for WFD')\n",
    "plt.ylabel('fONv MedianNvis / 825')\n"
   ]
  },
  {
   "cell_type": "markdown",
   "metadata": {},
   "source": []
  },
  {
   "cell_type": "code",
   "execution_count": 15,
   "metadata": {},
   "outputs": [
    {
     "data": {
      "text/plain": [
       "[<matplotlib.lines.Line2D at 0x7f85d14dc438>]"
      ]
     },
     "execution_count": 15,
     "metadata": {},
     "output_type": "execute_result"
    },
    {
     "data": {
      "image/png": "[encoded data removed]",
      "text/plain": [
       "<matplotlib.figure.Figure at 0x7f85b0f11a20>"
      ]
     },
     "metadata": {},
     "output_type": "display_data"
    }
   ],
   "source": [
    "plt.plot(fracs, data_array['fOArea'][indices]/18000, 'ko')\n"
   ]
  },
  {
   "cell_type": "code",
   "execution_count": null,
   "metadata": {},
   "outputs": [],
   "source": []
  },
  {
   "cell_type": "code",
   "execution_count": null,
   "metadata": {},
   "outputs": [],
   "source": []
  },
  {
   "cell_type": "code",
   "execution_count": null,
   "metadata": {},
   "outputs": [],
   "source": []
  }
 ],
 "metadata": {
  "kernelspec": {
   "display_name": "Python 3",
   "language": "python",
   "name": "python3"
  },
  "language_info": {
   "codemirror_mode": {
    "name": "ipython",
    "version": 3
   },
   "file_extension": ".py",
   "mimetype": "text/x-python",
   "name": "python",
   "nbconvert_exporter": "python",
   "pygments_lexer": "ipython3",
   "version": "3.6.2"
  }
 },
 "nbformat": 4,
 "nbformat_minor": 2
}
