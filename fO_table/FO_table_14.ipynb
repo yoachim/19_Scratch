{
 "cells": [
  {
   "cell_type": "code",
   "execution_count": 1,
   "metadata": {},
   "outputs": [],
   "source": [
    "import numpy as np\n",
    "import pandas as pd\n",
    "import sqlite3\n",
    "import os\n",
    "import matplotlib.pylab as plt\n",
    "%matplotlib inline\n",
    "import glob"
   ]
  },
  {
   "cell_type": "code",
   "execution_count": 2,
   "metadata": {},
   "outputs": [],
   "source": [
    "v14_path = '/Users/yoachim/runs1.4/'\n",
    "files = glob.glob('/Users/yoachim/runs/wfd_depth/*noddf*.db')\n",
    "\n",
    "\n",
    "dirs = [file[:-3] for file in files]\n",
    "snaps = [1]*len(files)\n",
    "# snaps[0] = 2\n",
    "pairs = ['mixed']*len(files)\n",
    "# pairs[1] = 'same'\n",
    "\n",
    "#dirs.append('/Users/yoachim/Temp/old_runs/baseline2018a_note')\n",
    "#snaps.append(2)\n",
    "#pairs.append('same')\n",
    "dirs = [file for file in dirs if 'tracking' not in file]\n",
    "files = [file for file in files if 'tracking' not in file]"
   ]
  },
  {
   "cell_type": "code",
   "execution_count": 3,
   "metadata": {},
   "outputs": [
    {
     "data": {
      "text/plain": [
       "['/Users/yoachim/runs/wfd_depth/wfd_depth_scale0.65_noddf_v1.4_10yrs.db',\n",
       " '/Users/yoachim/runs/wfd_depth/wfd_depth_scale0.70_noddf_v1.4_10yrs.db',\n",
       " '/Users/yoachim/runs/wfd_depth/wfd_depth_scale0.75_noddf_v1.4_10yrs.db',\n",
       " '/Users/yoachim/runs/wfd_depth/wfd_depth_scale0.80_noddf_v1.4_10yrs.db',\n",
       " '/Users/yoachim/runs/wfd_depth/wfd_depth_scale0.85_noddf_v1.4_10yrs.db',\n",
       " '/Users/yoachim/runs/wfd_depth/wfd_depth_scale0.90_noddf_v1.4_10yrs.db',\n",
       " '/Users/yoachim/runs/wfd_depth/wfd_depth_scale0.95_noddf_v1.4_10yrs.db',\n",
       " '/Users/yoachim/runs/wfd_depth/wfd_depth_scale0.99_noddf_v1.4_10yrs.db']"
      ]
     },
     "execution_count": 3,
     "metadata": {},
     "output_type": "execute_result"
    }
   ],
   "source": [
    "files.sort()\n",
    "files"
   ]
  },
  {
   "cell_type": "code",
   "execution_count": null,
   "metadata": {},
   "outputs": [],
   "source": []
  },
  {
   "cell_type": "code",
   "execution_count": 4,
   "metadata": {},
   "outputs": [],
   "source": [
    "results = {'fONv MedianNvis':[], 'fOArea': [], 'osf':[], 'nexp':[], 'fONv MinNvis':[]}\n",
    "for directory in dirs:\n",
    "    conn = sqlite3.connect(os.path.join(directory, 'resultsDb_sqlite.db'))\n",
    "    df = pd.read_sql('select summaryValue from summarystats where summaryName=\"fONv MedianNvis\";', conn)\n",
    "    results['fONv MedianNvis'].append(np.max(df.values))\n",
    "    \n",
    "    df = pd.read_sql('select summaryValue from summarystats where summaryName=\"fOArea\";', conn)\n",
    "    results['fOArea'].append(np.max(df.values))\n",
    "    \n",
    "    df = pd.read_sql('select summaryValue from summarystats where metricid=3;', conn)\n",
    "    results['osf'].append(np.max(df.values))\n",
    "    \n",
    "    df = pd.read_sql('select summaryValue from summarystats where metricid=5;', conn)\n",
    "    results['nexp'].append(np.max(df.values))\n",
    "    \n",
    "    df = pd.read_sql('select summaryValue from summarystats where summaryName=\"fONv MinNvis\";', conn)\n",
    "    results['fONv MinNvis'].append(np.max(df.values))\n",
    "    \n",
    "    conn.close()"
   ]
  },
  {
   "cell_type": "code",
   "execution_count": null,
   "metadata": {},
   "outputs": [],
   "source": []
  },
  {
   "cell_type": "code",
   "execution_count": 5,
   "metadata": {},
   "outputs": [
    {
     "name": "stdout",
     "output_type": "stream",
     "text": [
      "| Run Name  |    fONv MedianNvis |fOArea |osf |nexp |fONv MinNvis |snaps |pairs |\n",
      "| -- | -- | -- | -- | --| --| --|--|\n",
      "| wfd_depth_scale0.85_noddf_v1.4_10yrs |   959.000  |   18232.815  |   0.758  |   2178260.000  |   890.000  |  1 |  mixed |\n",
      "| wfd_depth_scale0.75_noddf_v1.4_10yrs |   881.000  |   17947.455  |   0.758  |   2179265.000  |   823.000  |  1 |  mixed |\n",
      "| wfd_depth_scale0.80_noddf_v1.4_10yrs |   919.000  |   18195.886  |   0.758  |   2179591.000  |   852.000  |  1 |  mixed |\n",
      "| wfd_depth_scale0.99_noddf_v1.4_10yrs |   1073.000  |   18459.424  |   0.759  |   2180903.000  |   1000.000  |  1 |  mixed |\n",
      "| wfd_depth_scale0.70_noddf_v1.4_10yrs |   847.000  |   15174.429  |   0.759  |   2181211.000  |   811.000  |  1 |  mixed |\n",
      "| wfd_depth_scale0.65_noddf_v1.4_10yrs |   826.000  |   9498.286  |   0.759  |   2181807.000  |   790.000  |  1 |  mixed |\n",
      "| wfd_depth_scale0.95_noddf_v1.4_10yrs |   1039.000  |   18378.013  |   0.758  |   2178368.000  |   966.000  |  1 |  mixed |\n",
      "| wfd_depth_scale0.90_noddf_v1.4_10yrs |   998.000  |   18261.351  |   0.758  |   2178729.000  |   928.000  |  1 |  mixed |\n"
     ]
    }
   ],
   "source": [
    "keys = list(results.keys())\n",
    "header = '| Run Name  |    '\n",
    "for key in keys:\n",
    "    header+= '%s |' % key\n",
    "\n",
    "header += 'snaps |'\n",
    "header += 'pairs |'\n",
    "print(header)\n",
    "print('| -- | -- | -- | -- | --| --| --|--|')\n",
    "for i in range(len(dirs)):\n",
    "    rn = os.path.basename(dirs[i])\n",
    "    out = '| '\n",
    "    out += rn +' |'\n",
    "    for key in keys:\n",
    "        out +='   %.3f  |' % results[key][i]\n",
    "    out += '  %i |' % snaps[i]\n",
    "    out += '  %s |' % pairs[i]\n",
    "    print(out)\n",
    "    "
   ]
  },
  {
   "cell_type": "markdown",
   "metadata": {},
   "source": [
    "| Run Name  |    fONv MedianNvis |fOArea |osf |nexp |fONv MinNvis |snaps |pairs |\n",
    "| -- | -- | -- | -- | --| --| --|--|\n",
    "| wfd_depth_scale0.85_noddf_v1.4_10yrs |   959.000  |   18232.815  |   0.758  |   2178260.000  |   890.000  |  1 |  mixed |\n",
    "| wfd_depth_scale0.75_noddf_v1.4_10yrs |   881.000  |   17947.455  |   0.758  |   2179265.000  |   823.000  |  1 |  mixed |\n",
    "| wfd_depth_scale0.80_noddf_v1.4_10yrs |   919.000  |   18195.886  |   0.758  |   2179591.000  |   852.000  |  1 |  mixed |\n",
    "| wfd_depth_scale0.99_noddf_v1.4_10yrs |   1073.000  |   18459.424  |   0.759  |   2180903.000  |   1000.000  |  1 |  mixed |\n",
    "| wfd_depth_scale0.70_noddf_v1.4_10yrs |   847.000  |   15174.429  |   0.759  |   2181211.000  |   811.000  |  1 |  mixed |\n",
    "| wfd_depth_scale0.65_noddf_v1.4_10yrs |   826.000  |   9498.286  |   0.759  |   2181807.000  |   790.000  |  1 |  mixed |\n",
    "| wfd_depth_scale0.95_noddf_v1.4_10yrs |   1039.000  |   18378.013  |   0.758  |   2178368.000  |   966.000  |  1 |  mixed |\n",
    "| wfd_depth_scale0.90_noddf_v1.4_10yrs |   998.000  |   18261.351  |   0.758  |   2178729.000  |   928.000  |  1 |  mixed |"
   ]
  },
  {
   "cell_type": "code",
   "execution_count": 6,
   "metadata": {},
   "outputs": [],
   "source": [
    "# OK, let's package this up as a giant dataframe\n",
    "array_list = []\n",
    "\n",
    "names = keys.copy()\n",
    "names.extend(['Run Name', 'snaps', 'pairs'])\n",
    "types = [float]*len(keys)\n",
    "types.extend(['|U40', int, '|U10'])\n",
    "\n",
    "dt = list(zip(names, types))\n",
    "\n",
    "for i in range(len(dirs)):\n",
    "    arr = np.zeros(1, dtype=dt)\n",
    "    arr['Run Name'] = os.path.basename(dirs[i])\n",
    "    arr['snaps'] = snaps[i]\n",
    "    arr['pairs'] = pairs[i]\n",
    "    for key in keys:\n",
    "        arr[key] =results[key][i]\n",
    "    array_list.append(arr) \n"
   ]
  },
  {
   "cell_type": "code",
   "execution_count": 7,
   "metadata": {},
   "outputs": [
    {
     "data": {
      "text/plain": [
       "array([ (  959.,  18232.81514857,  0.75798695,  2178260.,   890., 'wfd_depth_scale0.85_noddf_v1.4_10yrs', 1, 'mixed'),\n",
       "       (  881.,  17947.4553092 ,  0.75834151,  2179265.,   823., 'wfd_depth_scale0.75_noddf_v1.4_10yrs', 1, 'mixed'),\n",
       "       (  919.,  18195.88622818,  0.75844465,  2179591.,   852., 'wfd_depth_scale0.80_noddf_v1.4_10yrs', 1, 'mixed'),\n",
       "       ( 1073.,  18459.42443277,  0.75886851,  2180903.,  1000., 'wfd_depth_scale0.99_noddf_v1.4_10yrs', 1, 'mixed'),\n",
       "       (  847.,  15174.42910542,  0.75896312,  2181211.,   811., 'wfd_depth_scale0.70_noddf_v1.4_10yrs', 1, 'mixed'),\n",
       "       (  826.,   9498.28618285,  0.75919783,  2181807.,   790., 'wfd_depth_scale0.65_noddf_v1.4_10yrs', 1, 'mixed'),\n",
       "       ( 1039.,  18378.01294919,  0.75799288,  2178368.,   966., 'wfd_depth_scale0.95_noddf_v1.4_10yrs', 1, 'mixed'),\n",
       "       (  998.,  18261.3511325 ,  0.75813203,  2178729.,   928., 'wfd_depth_scale0.90_noddf_v1.4_10yrs', 1, 'mixed')],\n",
       "      dtype=[('fONv MedianNvis', '<f8'), ('fOArea', '<f8'), ('osf', '<f8'), ('nexp', '<f8'), ('fONv MinNvis', '<f8'), ('Run Name', '<U40'), ('snaps', '<i8'), ('pairs', '<U10')])"
      ]
     },
     "execution_count": 7,
     "metadata": {},
     "output_type": "execute_result"
    }
   ],
   "source": [
    "data_array = np.concatenate(array_list)\n",
    "data_array"
   ]
  },
  {
   "cell_type": "code",
   "execution_count": 8,
   "metadata": {},
   "outputs": [
    {
     "data": {
      "text/plain": [
       "<matplotlib.legend.Legend at 0x7fc0893b3b70>"
      ]
     },
     "execution_count": 8,
     "metadata": {},
     "output_type": "execute_result"
    },
    {
     "data": {
      "image/png": "[encoded data removed]",
      "text/plain": [
       "<matplotlib.figure.Figure at 0x7fc07876ec50>"
      ]
     },
     "metadata": {},
     "output_type": "display_data"
    }
   ],
   "source": [
    "filters = ['mixed', 'same']\n",
    "snaps = [1,2]\n",
    "\n",
    "for filt in filters:\n",
    "    for snap in snaps:\n",
    "        good = np.where((data_array['snaps'] == snap) & (data_array['pairs'] == filt) )\n",
    "        plt.plot(data_array['fONv MedianNvis'][good]/825., data_array['fOArea'][good]/18000, 'o', label=filt+', %i' % snap)\n",
    "plt.xlabel('fONv MedianNvis / 825')\n",
    "plt.ylabel('fOArea/18,000')\n",
    "plt.legend()"
   ]
  },
  {
   "cell_type": "code",
   "execution_count": 9,
   "metadata": {},
   "outputs": [],
   "source": [
    "df = pd.DataFrame(data_array)\n",
    "df['nexp'] = np.round(df['nexp']/1e6*100)/100\n",
    "df['fONv MedianNvis'] = np.round(df['fONv MedianNvis']/825*100)/100\n",
    "df['fOArea'] = np.round(df['fOArea']/18000*100)/100\n",
    "df['fONv MinNvis'] = np.round(df['fONv MinNvis']/825*100)/100\n"
   ]
  },
  {
   "cell_type": "code",
   "execution_count": 10,
   "metadata": {},
   "outputs": [
    {
     "name": "stdout",
     "output_type": "stream",
     "text": [
      "\\begin{tabular}{lrrrrrl}\n",
      "\\toprule\n",
      "                             Run Name &  fONv MedianNvis &  fONv MinNvis &  fOArea &  nexp &  snaps &  pairs \\\\\n",
      "\\midrule\n",
      " wfd\\_depth\\_scale0.85\\_noddf\\_v1.4\\_10yrs &             1.16 &          1.08 &    1.01 &  2.18 &      1 &  mixed \\\\\n",
      " wfd\\_depth\\_scale0.75\\_noddf\\_v1.4\\_10yrs &             1.07 &          1.00 &    1.00 &  2.18 &      1 &  mixed \\\\\n",
      " wfd\\_depth\\_scale0.80\\_noddf\\_v1.4\\_10yrs &             1.11 &          1.03 &    1.01 &  2.18 &      1 &  mixed \\\\\n",
      " wfd\\_depth\\_scale0.99\\_noddf\\_v1.4\\_10yrs &             1.30 &          1.21 &    1.03 &  2.18 &      1 &  mixed \\\\\n",
      " wfd\\_depth\\_scale0.70\\_noddf\\_v1.4\\_10yrs &             1.03 &          0.98 &    0.84 &  2.18 &      1 &  mixed \\\\\n",
      " wfd\\_depth\\_scale0.65\\_noddf\\_v1.4\\_10yrs &             1.00 &          0.96 &    0.53 &  2.18 &      1 &  mixed \\\\\n",
      " wfd\\_depth\\_scale0.95\\_noddf\\_v1.4\\_10yrs &             1.26 &          1.17 &    1.02 &  2.18 &      1 &  mixed \\\\\n",
      " wfd\\_depth\\_scale0.90\\_noddf\\_v1.4\\_10yrs &             1.21 &          1.12 &    1.01 &  2.18 &      1 &  mixed \\\\\n",
      "\\bottomrule\n",
      "\\end{tabular}\n",
      "\n"
     ]
    }
   ],
   "source": [
    "latex_table = df.to_latex(index=False, #float_format=\"%%.1f\",\n",
    "                          columns=['Run Name', 'fONv MedianNvis', 'fONv MinNvis', 'fOArea', 'nexp', 'snaps', 'pairs'])\n",
    "print(latex_table)"
   ]
  },
  {
   "cell_type": "code",
   "execution_count": 11,
   "metadata": {},
   "outputs": [],
   "source": [
    "#names2fracs = ['wfd_95_v1.3_10yrs', 'wfd_90_v1.3_10yrs','wfd_85_v1.3_10yrs','wfd_80_v1.3_10yrs', 'wfd_75_v1.3_10yrs',\n",
    "#              'wfd_70_v1.3_10yrs','wfd_65_v1.3_10yrs']\n",
    "#fracs = [float(name.split('_')[1]) for name in names2fracs]\n",
    "\n",
    "fracs = [float(file.split('/')[-1].split('_scale')[-1].split('_')[0]) for file in files]\n",
    "indices = [np.max(np.where(df['Run Name'].values == name.split('/')[-1][:-3])[0]) for name in files]\n",
    "\n"
   ]
  },
  {
   "cell_type": "code",
   "execution_count": 12,
   "metadata": {},
   "outputs": [
    {
     "data": {
      "text/plain": [
       "('wfd_depth_scale0.65_noddf_v1.4_10yrs.db',\n",
       " array(['wfd_depth_scale0.85_noddf_v1.4_10yrs',\n",
       "        'wfd_depth_scale0.75_noddf_v1.4_10yrs',\n",
       "        'wfd_depth_scale0.80_noddf_v1.4_10yrs',\n",
       "        'wfd_depth_scale0.99_noddf_v1.4_10yrs',\n",
       "        'wfd_depth_scale0.70_noddf_v1.4_10yrs',\n",
       "        'wfd_depth_scale0.65_noddf_v1.4_10yrs',\n",
       "        'wfd_depth_scale0.95_noddf_v1.4_10yrs',\n",
       "        'wfd_depth_scale0.90_noddf_v1.4_10yrs'], dtype=object))"
      ]
     },
     "execution_count": 12,
     "metadata": {},
     "output_type": "execute_result"
    }
   ],
   "source": [
    "files[0].split('/')[-1], df['Run Name'].values"
   ]
  },
  {
   "cell_type": "code",
   "execution_count": 13,
   "metadata": {},
   "outputs": [
    {
     "data": {
      "text/plain": [
       "<matplotlib.text.Text at 0x7fc0a8e94b38>"
      ]
     },
     "execution_count": 13,
     "metadata": {},
     "output_type": "execute_result"
    },
    {
     "data": {
      "image/png": "[encoded data removed]",
      "text/plain": [
       "<matplotlib.figure.Figure at 0x7fc0897005f8>"
      ]
     },
     "metadata": {},
     "output_type": "display_data"
    }
   ],
   "source": [
    "plt.scatter(fracs, data_array['fONv MedianNvis'][indices]/825., c= data_array['fOArea'][indices]/18000)\n",
    "cb = plt.colorbar()\n",
    "cb.set_label('fOArea/18000')\n",
    "plt.xlabel('Percent time for WFD')\n",
    "plt.ylabel('fONv MedianNvis / 825')\n"
   ]
  },
  {
   "cell_type": "markdown",
   "metadata": {},
   "source": []
  },
  {
   "cell_type": "code",
   "execution_count": 14,
   "metadata": {},
   "outputs": [
    {
     "data": {
      "text/plain": [
       "[<matplotlib.lines.Line2D at 0x7fc0897bc390>]"
      ]
     },
     "execution_count": 14,
     "metadata": {},
     "output_type": "execute_result"
    },
    {
     "data": {
      "image/png": "[encoded data removed]",
      "text/plain": [
       "<matplotlib.figure.Figure at 0x7fc0b8b40be0>"
      ]
     },
     "metadata": {},
     "output_type": "display_data"
    }
   ],
   "source": [
    "plt.plot(fracs, data_array['fOArea'][indices]/18000, 'ko')\n"
   ]
  },
  {
   "cell_type": "code",
   "execution_count": null,
   "metadata": {},
   "outputs": [],
   "source": [
    "\n"
   ]
  },
  {
   "cell_type": "code",
   "execution_count": 37,
   "metadata": {},
   "outputs": [],
   "source": [
    "fracs= np.array(fracs)\n",
    "good = np.where(fracs > .74)\n",
    "lfit = np.polyfit(fracs[good], data_array['fONv MedianNvis'][indices][good]/825., deg=1)\n",
    "\n",
    "frac_fit = np.arange(0.75, 1.04, .05)\n",
    "fO_fit = frac_fit*lfit[0] + lfit[1]"
   ]
  },
  {
   "cell_type": "code",
   "execution_count": 38,
   "metadata": {},
   "outputs": [
    {
     "data": {
      "text/plain": [
       "[<matplotlib.lines.Line2D at 0x7fc089a95320>]"
      ]
     },
     "execution_count": 38,
     "metadata": {},
     "output_type": "execute_result"
    },
    {
     "data": {
      "image/png": "[encoded data removed]",
      "text/plain": [
       "<matplotlib.figure.Figure at 0x7fc0a9273cf8>"
      ]
     },
     "metadata": {},
     "output_type": "display_data"
    }
   ],
   "source": [
    "plt.scatter(fracs, data_array['fONv MedianNvis'][indices]/825., c= data_array['fOArea'][indices]/18000)\n",
    "cb = plt.colorbar()\n",
    "cb.set_label('fOArea/18000')\n",
    "plt.xlabel('Percent time for WFD')\n",
    "plt.ylabel('fONv MedianNvis / 825')\n",
    "\n",
    "plt.plot(frac_fit, fO_fit)"
   ]
  },
  {
   "cell_type": "code",
   "execution_count": 44,
   "metadata": {},
   "outputs": [
    {
     "name": "stdout",
     "output_type": "stream",
     "text": [
      "final fO value if we put all time into WFD = 1.308336\n"
     ]
    }
   ],
   "source": [
    "\n",
    "print('final fO value if we put all time into WFD = %f' % fO_fit[-1])"
   ]
  },
  {
   "cell_type": "code",
   "execution_count": 45,
   "metadata": {},
   "outputs": [
    {
     "data": {
      "text/plain": [
       "(array([ 0.75,  0.8 ,  0.85,  0.9 ,  0.95,  1.  ]),\n",
       " array([ 1.06620528,  1.11463148,  1.16305767,  1.21148387,  1.25991007,\n",
       "         1.30833627]))"
      ]
     },
     "execution_count": 45,
     "metadata": {},
     "output_type": "execute_result"
    }
   ],
   "source": [
    "frac_fit, fO_fit"
   ]
  },
  {
   "cell_type": "code",
   "execution_count": null,
   "metadata": {},
   "outputs": [],
   "source": []
  },
  {
   "cell_type": "code",
   "execution_count": null,
   "metadata": {},
   "outputs": [],
   "source": []
  }
 ],
 "metadata": {
  "kernelspec": {
   "display_name": "Python 3",
   "language": "python",
   "name": "python3"
  },
  "language_info": {
   "codemirror_mode": {
    "name": "ipython",
    "version": 3
   },
   "file_extension": ".py",
   "mimetype": "text/x-python",
   "name": "python",
   "nbconvert_exporter": "python",
   "pygments_lexer": "ipython3",
   "version": "3.6.2"
  }
 },
 "nbformat": 4,
 "nbformat_minor": 2
}
