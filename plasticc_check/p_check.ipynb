{
 "cells": [
  {
   "cell_type": "code",
   "execution_count": 1,
   "metadata": {},
   "outputs": [],
   "source": [
    "import gzip\n",
    "import pickle\n",
    "import numpy as np\n",
    "import matplotlib.pylab as plt\n",
    "%matplotlib inline"
   ]
  },
  {
   "cell_type": "code",
   "execution_count": 2,
   "metadata": {},
   "outputs": [
    {
     "data": {
      "text/plain": [
       "dict_keys(['u', 'g', 'r', 'i', 'z', 'Y', 'header'])"
      ]
     },
     "execution_count": 2,
     "metadata": {},
     "output_type": "execute_result"
    }
   ],
   "source": [
    "with gzip.open('IDEAL_z02_MODEL90.pkl.gz', 'rb') as f:\n",
    "    lcs = pickle.load(f)\n",
    "\n",
    "objids = list(lcs.keys())\n",
    "lcs[objids[1]].keys()\n",
    "\n"
   ]
  },
  {
   "cell_type": "code",
   "execution_count": 3,
   "metadata": {},
   "outputs": [],
   "source": [
    "#lcs[objids[1]]['g']"
   ]
  },
  {
   "cell_type": "code",
   "execution_count": 4,
   "metadata": {},
   "outputs": [
    {
     "data": {
      "text/plain": [
       "[<matplotlib.lines.Line2D at 0x7fac00673d30>]"
      ]
     },
     "execution_count": 4,
     "metadata": {},
     "output_type": "execute_result"
    },
    {
     "data": {
      "image/png": "[encoded data removed]",
      "text/plain": [
       "<matplotlib.figure.Figure at 0x7fac00673cf8>"
      ]
     },
     "metadata": {},
     "output_type": "display_data"
    }
   ],
   "source": [
    "i = 20\n",
    "plt.plot( lcs[objids[i]]['g']['mjd'], lcs[objids[i]]['g']['fluxcal'], 'go')\n",
    "plt.plot( lcs[objids[i]]['r']['mjd'], lcs[objids[i]]['r']['fluxcal'], 'ro')\n"
   ]
  },
  {
   "cell_type": "code",
   "execution_count": 5,
   "metadata": {},
   "outputs": [
    {
     "data": {
      "text/plain": [
       "53601.633"
      ]
     },
     "execution_count": 5,
     "metadata": {},
     "output_type": "execute_result"
    }
   ],
   "source": [
    "lcs[objids[20]]['header']['SIM_PEAKMJD']"
   ]
  },
  {
   "cell_type": "code",
   "execution_count": 6,
   "metadata": {},
   "outputs": [
    {
     "data": {
      "text/plain": [
       "{'SIM_AV': -9.0,\n",
       " 'SIM_DECL': 0.0,\n",
       " 'SIM_DLMU': 0.0,\n",
       " 'SIM_EXPOSURE_Y': 1000.0,\n",
       " 'SIM_EXPOSURE_g': 1000.0,\n",
       " 'SIM_EXPOSURE_i': 1000.0,\n",
       " 'SIM_EXPOSURE_r': 1000.0,\n",
       " 'SIM_EXPOSURE_u': 1000.0,\n",
       " 'SIM_EXPOSURE_z': 1000.0,\n",
       " 'SIM_LENSDMU': 0.0,\n",
       " 'SIM_LIBID': 1,\n",
       " 'SIM_MAGSMEAR_COH': 0.0,\n",
       " 'SIM_MODEL_INDEX': 12,\n",
       " 'SIM_MODEL_NAME': 'LCLIB                           ',\n",
       " 'SIM_MWEBV': 0.0,\n",
       " 'SIM_NGEN_LIBID': 1,\n",
       " 'SIM_NOBS_UNDEFINED': 0,\n",
       " 'SIM_PEAKMAG_Y': 18.125999,\n",
       " 'SIM_PEAKMAG_g': 19.917,\n",
       " 'SIM_PEAKMAG_i': 18.594,\n",
       " 'SIM_PEAKMAG_r': 19.039,\n",
       " 'SIM_PEAKMAG_u': 21.424,\n",
       " 'SIM_PEAKMAG_z': 18.291,\n",
       " 'SIM_PEAKMJD': 53601.633,\n",
       " 'SIM_RA': 0.0,\n",
       " 'SIM_REDSHIFT_CMB': 0.0,\n",
       " 'SIM_REDSHIFT_HELIO': 0.0,\n",
       " 'SIM_REDSHIFT_HOST': 0.0,\n",
       " 'SIM_RV': -9.0,\n",
       " 'SIM_SEARCHEFF_MASK': 1,\n",
       " 'SIM_SUBSAMPLE_INDEX': -9,\n",
       " 'SIM_TEMPLATEMAG_Y': 18.125999,\n",
       " 'SIM_TEMPLATEMAG_g': 19.917,\n",
       " 'SIM_TEMPLATEMAG_i': 18.594,\n",
       " 'SIM_TEMPLATEMAG_r': 19.039,\n",
       " 'SIM_TEMPLATEMAG_u': 21.424,\n",
       " 'SIM_TEMPLATEMAG_z': 18.291,\n",
       " 'SIM_TEMPLATE_INDEX': 7917,\n",
       " 'SIM_TYPE_INDEX': 90,\n",
       " 'SIM_TYPE_NAME': 'uLens_CF',\n",
       " 'SIM_VPEC': 0.0,\n",
       " 'host_photoz': 0.0,\n",
       " 'host_specz': -9.0,\n",
       " 'libid': 1,\n",
       " 'pkmag_Y': 18.125999,\n",
       " 'pkmag_g': 19.917,\n",
       " 'pkmag_i': 18.594,\n",
       " 'pkmag_r': 19.039,\n",
       " 'pkmag_u': 21.424,\n",
       " 'pkmag_z': 18.291,\n",
       " 'pkmjd': 53601.633,\n",
       " 'snid': 17663,\n",
       " 'type': 90,\n",
       " 'z': 0.0}"
      ]
     },
     "execution_count": 6,
     "metadata": {},
     "output_type": "execute_result"
    }
   ],
   "source": [
    "lcs[objids[20]]['header']"
   ]
  },
  {
   "cell_type": "code",
   "execution_count": 7,
   "metadata": {},
   "outputs": [
    {
     "data": {
      "text/plain": [
       "3598"
      ]
     },
     "execution_count": 7,
     "metadata": {},
     "output_type": "execute_result"
    }
   ],
   "source": [
    "len(lcs)"
   ]
  },
  {
   "cell_type": "code",
   "execution_count": 8,
   "metadata": {},
   "outputs": [],
   "source": [
    "peaks = [lcs[oid]['header']['SIM_PEAKMJD'] for oid in objids]"
   ]
  },
  {
   "cell_type": "code",
   "execution_count": 9,
   "metadata": {},
   "outputs": [
    {
     "data": {
      "text/plain": [
       "(array([    8.,     6.,    31.,    86.,   148.,   231.,  2777.,   182.,\n",
       "           96.,    33.]),\n",
       " array([ 41394.6328125,  43207.5015625,  45020.3703125,  46833.2390625,\n",
       "         48646.1078125,  50458.9765625,  52271.8453125,  54084.7140625,\n",
       "         55897.5828125,  57710.4515625,  59523.3203125]),\n",
       " <a list of 10 Patch objects>)"
      ]
     },
     "execution_count": 9,
     "metadata": {},
     "output_type": "execute_result"
    },
    {
     "data": {
      "image/png": "[encoded data removed]",
      "text/plain": [
       "<matplotlib.figure.Figure at 0x7fac104bba20>"
      ]
     },
     "metadata": {},
     "output_type": "display_data"
    }
   ],
   "source": [
    "plt.hist(peaks)"
   ]
  },
  {
   "cell_type": "code",
   "execution_count": 10,
   "metadata": {},
   "outputs": [
    {
     "data": {
      "text/plain": [
       "480.0"
      ]
     },
     "execution_count": 10,
     "metadata": {},
     "output_type": "execute_result"
    }
   ],
   "source": [
    "np.max(lcs[objids[i]]['g']['mjd']) - np.min(lcs[objids[i]]['g']['mjd'])"
   ]
  },
  {
   "cell_type": "code",
   "execution_count": 11,
   "metadata": {},
   "outputs": [
    {
     "data": {
      "text/plain": [
       "dict_keys(['u', 'g', 'r', 'i', 'z', 'Y', 'header'])"
      ]
     },
     "execution_count": 11,
     "metadata": {},
     "output_type": "execute_result"
    }
   ],
   "source": [
    "# Now let's check SNIa-normal\n",
    "with gzip.open('IDEAL_z02_MODEL11.pkl.gz', 'rb') as f:\n",
    "    lcs = pickle.load(f)\n",
    "\n",
    "objids = list(lcs.keys())\n",
    "lcs[objids[1]].keys()"
   ]
  },
  {
   "cell_type": "code",
   "execution_count": 12,
   "metadata": {},
   "outputs": [
    {
     "data": {
      "text/plain": [
       "[<matplotlib.lines.Line2D at 0x7fac01515cf8>]"
      ]
     },
     "execution_count": 12,
     "metadata": {},
     "output_type": "execute_result"
    },
    {
     "data": {
      "image/png": "[encoded data removed]",
      "text/plain": [
       "<matplotlib.figure.Figure at 0x7fac01bd25c0>"
      ]
     },
     "metadata": {},
     "output_type": "display_data"
    }
   ],
   "source": [
    "i = 20\n",
    "plt.plot( lcs[objids[i]]['g']['mjd'], lcs[objids[i]]['g']['fluxcal'], 'go')\n",
    "plt.plot( lcs[objids[i]]['r']['mjd'], lcs[objids[i]]['r']['fluxcal'], 'ro')\n"
   ]
  },
  {
   "cell_type": "code",
   "execution_count": 13,
   "metadata": {},
   "outputs": [
    {
     "data": {
      "text/plain": [
       "(array([ 347.,  396.,  372.,  382.,  421.,  416.,  431.,  395.,  424.,  416.]),\n",
       " array([ 53100. ,  53100.1,  53100.2,  53100.3,  53100.4,  53100.5,\n",
       "         53100.6,  53100.7,  53100.8,  53100.9,  53101. ]),\n",
       " <a list of 10 Patch objects>)"
      ]
     },
     "execution_count": 13,
     "metadata": {},
     "output_type": "execute_result"
    },
    {
     "data": {
      "image/png": "[encoded data removed]",
      "text/plain": [
       "<matplotlib.figure.Figure at 0x7fac10b71828>"
      ]
     },
     "metadata": {},
     "output_type": "display_data"
    }
   ],
   "source": [
    "peaks = [lcs[oid]['header']['SIM_PEAKMJD'] for oid in objids]\n",
    "plt.hist(peaks)"
   ]
  },
  {
   "cell_type": "code",
   "execution_count": 14,
   "metadata": {},
   "outputs": [
    {
     "data": {
      "text/plain": [
       "1.0"
      ]
     },
     "execution_count": 14,
     "metadata": {},
     "output_type": "execute_result"
    }
   ],
   "source": [
    "np.max(peaks)-np.min(peaks)"
   ]
  },
  {
   "cell_type": "code",
   "execution_count": 15,
   "metadata": {},
   "outputs": [
    {
     "data": {
      "image/png": "[encoded data removed]",
      "text/plain": [
       "<matplotlib.figure.Figure at 0x7fabb40f7a58>"
      ]
     },
     "metadata": {},
     "output_type": "display_data"
    }
   ],
   "source": [
    "i = 41\n",
    "plt.semilogy( lcs[objids[i]]['g']['mjd'], lcs[objids[i]]['g']['fluxcal'], 'bo', label='g', alpha=0.5)\n",
    "plt.semilogy( lcs[objids[i]]['r']['mjd'], lcs[objids[i]]['r']['fluxcal'], 'go', label='r', alpha=0.5)\n",
    "plt.semilogy( lcs[objids[i]]['i']['mjd'], lcs[objids[i]]['i']['fluxcal'], 'ro', label='i', alpha=0.5)\n",
    "\n",
    "plt.xlabel('MJD')\n",
    "plt.ylabel('flux')\n",
    "plt.ylim([10,1e5])\n",
    "plt.legend()\n",
    "plt.title('Type Ia SN')\n",
    "\n",
    "plt.savefig('sne_example.pdf')"
   ]
  },
  {
   "cell_type": "code",
   "execution_count": 16,
   "metadata": {},
   "outputs": [
    {
     "data": {
      "text/plain": [
       "dict_keys(['u', 'g', 'r', 'i', 'z', 'Y', 'header'])"
      ]
     },
     "execution_count": 16,
     "metadata": {},
     "output_type": "execute_result"
    }
   ],
   "source": [
    "# Now let's check KNe\n",
    "with gzip.open('IDEAL_z02_MODEL51.pkl.gz', 'rb') as f:\n",
    "    lcs = pickle.load(f)\n",
    "\n",
    "objids = list(lcs.keys())\n",
    "lcs[objids[1]].keys()\n",
    "\n"
   ]
  },
  {
   "cell_type": "code",
   "execution_count": 17,
   "metadata": {},
   "outputs": [
    {
     "data": {
      "image/png": "[encoded data removed]",
      "text/plain": [
       "<matplotlib.figure.Figure at 0x7fac091466a0>"
      ]
     },
     "metadata": {},
     "output_type": "display_data"
    }
   ],
   "source": [
    "i = 41\n",
    "plt.semilogy( lcs[objids[i]]['g']['mjd'], lcs[objids[i]]['g']['fluxcal'], 'bo', label='g', alpha=0.5)\n",
    "plt.semilogy( lcs[objids[i]]['r']['mjd'], lcs[objids[i]]['r']['fluxcal'], 'go', label='r', alpha=0.5)\n",
    "plt.semilogy( lcs[objids[i]]['i']['mjd'], lcs[objids[i]]['i']['fluxcal'], 'ro', label='i', alpha=0.5)\n",
    "\n",
    "plt.xlabel('MJD')\n",
    "plt.ylabel('flux')\n",
    "# plt.ylim([10,1e5])\n",
    "plt.legend()\n",
    "plt.title('Kilonova')\n",
    "plt.ylim([1e-2, 1e3])\n",
    "plt.savefig('kne_example.pdf')"
   ]
  },
  {
   "cell_type": "code",
   "execution_count": null,
   "metadata": {},
   "outputs": [],
   "source": []
  }
 ],
 "metadata": {
  "kernelspec": {
   "display_name": "Python 3",
   "language": "python",
   "name": "python3"
  },
  "language_info": {
   "codemirror_mode": {
    "name": "ipython",
    "version": 3
   },
   "file_extension": ".py",
   "mimetype": "text/x-python",
   "name": "python",
   "nbconvert_exporter": "python",
   "pygments_lexer": "ipython3",
   "version": "3.6.2"
  }
 },
 "nbformat": 4,
 "nbformat_minor": 2
}
