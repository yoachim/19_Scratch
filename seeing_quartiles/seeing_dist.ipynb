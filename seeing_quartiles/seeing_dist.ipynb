{
 "cells": [
  {
   "cell_type": "code",
   "execution_count": 1,
   "metadata": {},
   "outputs": [],
   "source": [
    "import numpy as np\n",
    "import pandas as pd\n",
    "import sqlite3\n",
    "import matplotlib.pylab as plt\n",
    "%matplotlib inline\n",
    "from lsst.sims.seeingModel import SeeingModel"
   ]
  },
  {
   "cell_type": "code",
   "execution_count": 2,
   "metadata": {},
   "outputs": [],
   "source": [
    "conn = sqlite3.connect('/Users/yoachim/gitRepos/sims_seeingModel/data/seeing.db')"
   ]
  },
  {
   "cell_type": "code",
   "execution_count": 3,
   "metadata": {},
   "outputs": [],
   "source": [
    "df = pd.read_sql_query('select seeing from Seeing;', conn)"
   ]
  },
  {
   "cell_type": "code",
   "execution_count": 4,
   "metadata": {},
   "outputs": [],
   "source": [
    "seeing = df.values.ravel()"
   ]
  },
  {
   "cell_type": "code",
   "execution_count": 5,
   "metadata": {},
   "outputs": [
    {
     "data": {
      "text/plain": [
       "<matplotlib.text.Text at 0xb21275da0>"
      ]
     },
     "execution_count": 5,
     "metadata": {},
     "output_type": "execute_result"
    },
    {
     "data": {
      "image/png": "[encoded data removed]",
      "text/plain": [
       "<matplotlib.figure.Figure at 0x10f7574a8>"
      ]
     },
     "metadata": {},
     "output_type": "display_data"
    }
   ],
   "source": [
    "plt.hist(seeing)\n",
    "plt.title('FWHM zenith 500nm')"
   ]
  },
  {
   "cell_type": "code",
   "execution_count": 6,
   "metadata": {},
   "outputs": [],
   "source": [
    "sm = SeeingModel()"
   ]
  },
  {
   "cell_type": "code",
   "execution_count": 7,
   "metadata": {},
   "outputs": [],
   "source": [
    "wavelen_corr = np.power(sm.raw_seeing_wavelength / sm.filter_effwavelens, 0.3)"
   ]
  },
  {
   "cell_type": "code",
   "execution_count": 8,
   "metadata": {},
   "outputs": [
    {
     "name": "stdout",
     "output_type": "stream",
     "text": [
      "filter,  0th, 25th, 50th, 75th, 100th\n",
      "atmpsphere FWHM_5000 [ 0.12526999  0.50120002  0.6171155   0.75368451  2.29153991]\n"
     ]
    }
   ],
   "source": [
    "tiles = [0,25,50,75,100]\n",
    "print('filter,  0th, 25th, 50th, 75th, 100th')\n",
    "print('atmpsphere FWHM_5000', np.percentile(seeing, tiles))"
   ]
  },
  {
   "cell_type": "code",
   "execution_count": 9,
   "metadata": {},
   "outputs": [],
   "source": [
    "# OK, I think the seeing from the database is atmosphere FWHM seeing at zenith at 500 nm.\n",
    "\n",
    "percentiles = []\n",
    "for i,filtername in enumerate(sm.filter_list):\n",
    "    # Atmosphere seeing at the wavelength\n",
    "    seeing_infilt = seeing * wavelen_corr[i]\n",
    "    # Combine with system fwhm\n",
    "    seeing_infilt = 1.16 * np.sqrt(sm.fwhm_system_zenith ** 2 + 1.04 * seeing_infilt ** 2)\n",
    "    percentiles.append(np.percentile(seeing_infilt, tiles))\n",
    "    "
   ]
  },
  {
   "cell_type": "code",
   "execution_count": 10,
   "metadata": {},
   "outputs": [
    {
     "name": "stdout",
     "output_type": "stream",
     "text": [
      "filter,  0th, 25th, 50th, 75th, 100th\n",
      "u [ 0.4901537   0.79810743  0.92484749  1.08199082  3.0099189 ]\n",
      "g [ 0.48605116  0.75687911  0.87071828  1.01278514  2.77839108]\n",
      "r [ 0.48277741  0.72256111  0.82533556  0.95442371  2.58033387]\n",
      "i [ 0.48059448  0.69887827  0.79381563  0.91367449  2.44016625]\n",
      "z [ 0.47914188  0.68272563  0.7722114   0.8856279   2.34262727]\n",
      "y [ 0.47808185  0.67072463  0.75609906  0.86464278  2.2690001 ]\n"
     ]
    }
   ],
   "source": [
    "print('filter,  0th, 25th, 50th, 75th, 100th')\n",
    "for i, row in enumerate(percentiles):\n",
    "    print(sm.filter_list[i], row)"
   ]
  },
  {
   "cell_type": "code",
   "execution_count": null,
   "metadata": {},
   "outputs": [],
   "source": []
  },
  {
   "cell_type": "code",
   "execution_count": 11,
   "metadata": {},
   "outputs": [
    {
     "data": {
      "text/plain": [
       "0.39862262855989494"
      ]
     },
     "execution_count": 11,
     "metadata": {},
     "output_type": "execute_result"
    }
   ],
   "source": [
    "sm.fwhm_system_zenith"
   ]
  },
  {
   "cell_type": "code",
   "execution_count": null,
   "metadata": {},
   "outputs": [],
   "source": []
  }
 ],
 "metadata": {
  "kernelspec": {
   "display_name": "Python 3",
   "language": "python",
   "name": "python3"
  },
  "language_info": {
   "codemirror_mode": {
    "name": "ipython",
    "version": 3
   },
   "file_extension": ".py",
   "mimetype": "text/x-python",
   "name": "python",
   "nbconvert_exporter": "python",
   "pygments_lexer": "ipython3",
   "version": "3.6.2"
  }
 },
 "nbformat": 4,
 "nbformat_minor": 2
}
