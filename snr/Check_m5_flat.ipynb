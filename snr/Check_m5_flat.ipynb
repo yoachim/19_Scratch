{
 "cells": [
  {
   "cell_type": "code",
   "execution_count": 19,
   "metadata": {},
   "outputs": [],
   "source": [
    "import numpy as np\n",
    "#from lsst.sims.utils import m5_flat_sed"
   ]
  },
  {
   "cell_type": "code",
   "execution_count": 20,
   "metadata": {},
   "outputs": [],
   "source": [
    "def m5_flat_sed(visitFilter, musky, FWHMeff, expTime, airmass, tauCloud=0):\n",
    "    \"\"\"Calculate the m5 value, using photometric scaling.  Note, does not include shape of the object SED.\n",
    "\n",
    "    Parameters\n",
    "    ----------\n",
    "    visitFilter : str\n",
    "         One of u,g,r,i,z,y\n",
    "    musky : float\n",
    "        Surface brightness of the sky in mag/sq arcsec\n",
    "    FWHMeff : float\n",
    "        The seeing effective FWHM (arcsec)\n",
    "    expTime : float\n",
    "        Exposure time for the entire visit in seconds\n",
    "    airmass : float\n",
    "        Airmass of the observation (unitless)\n",
    "    tauCloud : float (0.)\n",
    "        Any extinction from clouds in magnitudes (positive values = more extinction)\n",
    "\n",
    "    Output\n",
    "    ------\n",
    "    m5 : float\n",
    "        The five-sigma limiting depth of a point source observed in the given conditions.\n",
    "    \"\"\"\n",
    "\n",
    "    # Set up expected extinction (kAtm) and m5 normalization values (Cm) for each filter.\n",
    "    # The Cm values must be changed when telescope and site parameters are updated.\n",
    "    #\n",
    "    # These values are calculated using $SYSENG_THROUGHPUTS/python/calcM5.py.\n",
    "    # This set of values are calculated using v1.2 of the SYSENG_THROUGHPUTS repo.\n",
    "\n",
    "    # Only define the dicts once on initial call\n",
    "    if not hasattr(m5_flat_sed, 'Cm'):\n",
    "        m5_flat_sed.Cm = {'u': 23.067,\n",
    "                          'g': 24.414,\n",
    "                          'r': 24.439,\n",
    "                          'i': 24.325,\n",
    "                          'z': 24.157,\n",
    "                          'y': 23.730}\n",
    "        m5_flat_sed.dCm_infinity = {'u': 0.631,\n",
    "                                    'g': 0.179,\n",
    "                                    'r': 0.097,\n",
    "                                    'i': 0.071,\n",
    "                                    'z': 0.048,\n",
    "                                    'y': 0.037}\n",
    "        m5_flat_sed.kAtm = {'u': 0.492,\n",
    "                            'g': 0.213,\n",
    "                            'r': 0.126,\n",
    "                            'i': 0.096,\n",
    "                            'z': 0.069,\n",
    "                            'y': 0.170}\n",
    "        m5_flat_sed.msky = {'u': 22.989,\n",
    "                            'g': 22.256,\n",
    "                            'r': 21.196,\n",
    "                            'i': 20.478,\n",
    "                            'z': 19.600,\n",
    "                            'y': 18.612}\n",
    "    # Calculate adjustment if readnoise is significant for exposure time\n",
    "    # (see overview paper, equation 7)\n",
    "    Tscale = expTime / 30.0 * np.power(10.0, -0.4 * (musky - m5_flat_sed.msky[visitFilter]))\n",
    "    dCm = 0.\n",
    "    dCm += m5_flat_sed.dCm_infinity[visitFilter]\n",
    "    dCm -= 1.25 * np.log10(1 + (10**(0.8 * m5_flat_sed.dCm_infinity[visitFilter]) - 1)/Tscale)\n",
    "    print('dCm', dCm)\n",
    "    # Calculate fiducial m5\n",
    "    m5 = (m5_flat_sed.Cm[visitFilter] + dCm + 0.50 * (musky - 21.0) + 2.5 * np.log10(0.7 / FWHMeff) +\n",
    "          1.25 * np.log10(expTime / 30.0) - m5_flat_sed.kAtm[visitFilter] * (airmass - 1.0) - 1.1 * tauCloud)\n",
    "\n",
    "    return m5\n"
   ]
  },
  {
   "cell_type": "code",
   "execution_count": 29,
   "metadata": {},
   "outputs": [
    {
     "name": "stdout",
     "output_type": "stream",
     "text": [
      "dCm -0.0200868653569\n",
      "dCm -0.0805780479209\n"
     ]
    }
   ],
   "source": [
    "m1 = m5_flat_sed('z', 20., 1., 30., 1.2)\n",
    "m2 = m5_flat_sed('z', 20., 1., 15., 1.2)"
   ]
  },
  {
   "cell_type": "code",
   "execution_count": 30,
   "metadata": {},
   "outputs": [
    {
     "data": {
      "text/plain": [
       "(23.235858234678751, 22.799079557534736)"
      ]
     },
     "execution_count": 30,
     "metadata": {},
     "output_type": "execute_result"
    }
   ],
   "source": [
    "m1,m2"
   ]
  },
  {
   "cell_type": "code",
   "execution_count": 31,
   "metadata": {},
   "outputs": [],
   "source": [
    "def coadd_m5(m5s):\n",
    "    result = 1.25*np.log10(np.sum(10.**(0.8*m5s)))\n",
    "    return result"
   ]
  },
  {
   "cell_type": "code",
   "execution_count": 32,
   "metadata": {},
   "outputs": [
    {
     "data": {
      "text/plain": [
       "23.175367052114716"
      ]
     },
     "execution_count": 32,
     "metadata": {},
     "output_type": "execute_result"
    }
   ],
   "source": [
    "coadd_m5(np.array([m2,m2]))"
   ]
  },
  {
   "cell_type": "code",
   "execution_count": null,
   "metadata": {},
   "outputs": [],
   "source": [
    "# YIKES! That does not seem to be behaving properly at all, 2x15s is not adding up to 1x30s.\n",
    "# Ah, this dCm stuff is clearly an issue "
   ]
  }
 ],
 "metadata": {
  "kernelspec": {
   "display_name": "Python 3",
   "language": "python",
   "name": "python3"
  },
  "language_info": {
   "codemirror_mode": {
    "name": "ipython",
    "version": 3
   },
   "file_extension": ".py",
   "mimetype": "text/x-python",
   "name": "python",
   "nbconvert_exporter": "python",
   "pygments_lexer": "ipython3",
   "version": "3.6.2"
  }
 },
 "nbformat": 4,
 "nbformat_minor": 2
}
