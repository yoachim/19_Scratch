{
 "cells": [
  {
   "cell_type": "code",
   "execution_count": 1,
   "metadata": {},
   "outputs": [],
   "source": [
    "import numpy as np\n"
   ]
  },
  {
   "cell_type": "code",
   "execution_count": 2,
   "metadata": {},
   "outputs": [],
   "source": [
    "def coadd_m5(m5s):\n",
    "    result = 1.25*np.log10(np.sum(10.**(0.8*m5s)))\n",
    "    return result"
   ]
  },
  {
   "cell_type": "code",
   "execution_count": 3,
   "metadata": {},
   "outputs": [],
   "source": [
    "def m52snr(m, m5):\n",
    "    snr = 5.*10.**(-0.4*(m-m5))\n",
    "    return snr\n"
   ]
  },
  {
   "cell_type": "code",
   "execution_count": 4,
   "metadata": {},
   "outputs": [],
   "source": [
    "import lsst.syseng.throughputs as st"
   ]
  },
  {
   "cell_type": "code",
   "execution_count": 5,
   "metadata": {},
   "outputs": [],
   "source": [
    "defaultDirs = st.setDefaultDirs()"
   ]
  },
  {
   "cell_type": "code",
   "execution_count": 6,
   "metadata": {},
   "outputs": [],
   "source": [
    "atmos = st.readAtmosphere(defaultDirs['atmosphere'], atmosFile='pachonModtranAtm_12_aerosol.dat')\n",
    "hardware, system = st.buildHardwareAndSystem(defaultDirs, addLosses=True, \n",
    "                                             atmosphereOverride=None, shiftFilters=None)"
   ]
  },
  {
   "cell_type": "code",
   "execution_count": 7,
   "metadata": {},
   "outputs": [],
   "source": [
    "atmos = st.readAtmosphere(defaultDirs['atmosphere'], atmosFile='atmos_10_aerosol.dat')\n",
    "hardware, system = st.buildHardwareAndSystem(defaultDirs, addLosses=True, \n",
    "                                             atmosphereOverride=atmos, shiftFilters=None)"
   ]
  },
  {
   "cell_type": "code",
   "execution_count": 8,
   "metadata": {},
   "outputs": [
    {
     "data": {
      "text/plain": [
       "u    23.377110\n",
       "g    24.422912\n",
       "r    23.969605\n",
       "i    23.537553\n",
       "z    22.958897\n",
       "y    22.066503\n",
       "Name: m5, dtype: float64"
      ]
     },
     "execution_count": 8,
     "metadata": {},
     "output_type": "execute_result"
    }
   ],
   "source": [
    "m5info = st.makeM5(hardware, system, X=1.0, exptime=15., nexp=1)\n",
    "u_1exp = m5info['m5'][0]\n",
    "m=20.\n",
    "snr1 = m52snr(m, m5info['m5'][0])\n",
    "m5info['m5']\n"
   ]
  },
  {
   "cell_type": "code",
   "execution_count": 9,
   "metadata": {},
   "outputs": [
    {
     "data": {
      "text/plain": [
       "u    23.764100\n",
       "g    24.806430\n",
       "r    24.351669\n",
       "i    23.919008\n",
       "z    23.339608\n",
       "y    22.446767\n",
       "Name: m5, dtype: float64"
      ]
     },
     "execution_count": 9,
     "metadata": {},
     "output_type": "execute_result"
    }
   ],
   "source": [
    "m5info = st.makeM5(hardware, system, X=1.0, exptime=15., nexp=2)\n",
    "snr2 = m52snr(m, m5info['m5'][0])\n",
    "m5info['m5']"
   ]
  },
  {
   "cell_type": "code",
   "execution_count": 10,
   "metadata": {},
   "outputs": [
    {
     "data": {
      "text/plain": [
       "23.753397940691482"
      ]
     },
     "execution_count": 10,
     "metadata": {},
     "output_type": "execute_result"
    }
   ],
   "source": [
    "coadd_m5(np.array([u_1exp, u_1exp]))"
   ]
  },
  {
   "cell_type": "code",
   "execution_count": 11,
   "metadata": {},
   "outputs": [
    {
     "data": {
      "text/plain": [
       "(112.15384902177257, 160.18063506374244)"
      ]
     },
     "execution_count": 11,
     "metadata": {},
     "output_type": "execute_result"
    }
   ],
   "source": [
    "snr1, snr2"
   ]
  },
  {
   "cell_type": "code",
   "execution_count": 12,
   "metadata": {},
   "outputs": [
    {
     "data": {
      "text/plain": [
       "158.60949435893525"
      ]
     },
     "execution_count": 12,
     "metadata": {},
     "output_type": "execute_result"
    }
   ],
   "source": [
    "snr1*np.sqrt(2)"
   ]
  },
  {
   "cell_type": "code",
   "execution_count": 13,
   "metadata": {},
   "outputs": [
    {
     "data": {
      "text/plain": [
       "u    23.981087\n",
       "g    24.885337\n",
       "r    24.396215\n",
       "i    23.951831\n",
       "z    23.362287\n",
       "y    22.464097\n",
       "Name: m5, dtype: float64"
      ]
     },
     "execution_count": 13,
     "metadata": {},
     "output_type": "execute_result"
    }
   ],
   "source": [
    "m5info = st.makeM5(hardware, system, X=1.0, exptime=30., nexp=1)\n",
    "m5info['m5']\n"
   ]
  },
  {
   "cell_type": "code",
   "execution_count": 14,
   "metadata": {},
   "outputs": [
    {
     "data": {
      "text/plain": [
       "u    23.957256\n",
       "g    24.593054\n",
       "r    24.062188\n",
       "i    23.604987\n",
       "z    23.005054\n",
       "y    22.101606\n",
       "Name: m5, dtype: float64"
      ]
     },
     "execution_count": 14,
     "metadata": {},
     "output_type": "execute_result"
    }
   ],
   "source": [
    "m5info = st.makeM5(hardware, system, X=1.0, exptime=15., nexp=1, readnoise=0)\n",
    "u_1exp = m5info['m5'][0]\n",
    "m5info['m5']\n"
   ]
  },
  {
   "cell_type": "code",
   "execution_count": 15,
   "metadata": {},
   "outputs": [
    {
     "data": {
      "text/plain": [
       "u    24.352255\n",
       "g    24.977833\n",
       "r    24.444776\n",
       "i    23.986780\n",
       "z    23.385960\n",
       "y    22.482002\n",
       "Name: m5, dtype: float64"
      ]
     },
     "execution_count": 15,
     "metadata": {},
     "output_type": "execute_result"
    }
   ],
   "source": [
    "m5info = st.makeM5(hardware, system, X=1.0, exptime=15., nexp=2, readnoise=0)\n",
    "m5info['m5']\n"
   ]
  },
  {
   "cell_type": "code",
   "execution_count": 16,
   "metadata": {},
   "outputs": [
    {
     "data": {
      "text/plain": [
       "24.333543908634944"
      ]
     },
     "execution_count": 16,
     "metadata": {},
     "output_type": "execute_result"
    }
   ],
   "source": [
    "coadd_m5(np.array([u_1exp, u_1exp]))"
   ]
  },
  {
   "cell_type": "code",
   "execution_count": 17,
   "metadata": {},
   "outputs": [],
   "source": [
    "## sanity check\n",
    "m5 = 24\n",
    "m=20\n",
    "snr1 = m52snr(m, m5)\n",
    "# The SNR expected from coadding 2 exposures\n",
    "snr2 = m52snr(m, coadd_m5(np.array([m5,m5])))"
   ]
  },
  {
   "cell_type": "code",
   "execution_count": 18,
   "metadata": {},
   "outputs": [
    {
     "data": {
      "text/plain": [
       "(199.05358527674866, 281.50427993736827)"
      ]
     },
     "execution_count": 18,
     "metadata": {},
     "output_type": "execute_result"
    }
   ],
   "source": [
    "snr1, snr2"
   ]
  },
  {
   "cell_type": "code",
   "execution_count": 19,
   "metadata": {},
   "outputs": [
    {
     "data": {
      "text/plain": [
       "281.50427993736741"
      ]
     },
     "execution_count": 19,
     "metadata": {},
     "output_type": "execute_result"
    }
   ],
   "source": [
    "snr1*np.sqrt(2)"
   ]
  },
  {
   "cell_type": "code",
   "execution_count": null,
   "metadata": {},
   "outputs": [],
   "source": []
  },
  {
   "cell_type": "code",
   "execution_count": null,
   "metadata": {},
   "outputs": [],
   "source": []
  }
 ],
 "metadata": {
  "kernelspec": {
   "display_name": "Python 3",
   "language": "python",
   "name": "python3"
  },
  "language_info": {
   "codemirror_mode": {
    "name": "ipython",
    "version": 3
   },
   "file_extension": ".py",
   "mimetype": "text/x-python",
   "name": "python",
   "nbconvert_exporter": "python",
   "pygments_lexer": "ipython3",
   "version": "3.6.2"
  }
 },
 "nbformat": 4,
 "nbformat_minor": 2
}
